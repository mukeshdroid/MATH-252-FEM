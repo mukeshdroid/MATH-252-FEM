{
 "cells": [
  {
   "cell_type": "code",
   "execution_count": 2,
   "metadata": {},
   "outputs": [],
   "source": [
    "from sympy import *\n",
    "\n",
    "init_printing(use_unicode=True)"
   ]
  },
  {
   "cell_type": "code",
   "execution_count": 3,
   "metadata": {},
   "outputs": [],
   "source": [
    "th = symbols('th')"
   ]
  },
  {
   "cell_type": "code",
   "execution_count": 4,
   "metadata": {},
   "outputs": [
    {
     "data": {
      "text/latex": [
       "$\\displaystyle \\left[\\begin{matrix}\\cos{\\left(th \\right)} & \\sin{\\left(th \\right)}\\\\- \\sin{\\left(th \\right)} & \\cos{\\left(th \\right)}\\end{matrix}\\right]$"
      ],
      "text/plain": [
       "⎡cos(th)   sin(th)⎤\n",
       "⎢                 ⎥\n",
       "⎣-sin(th)  cos(th)⎦"
      ]
     },
     "execution_count": 4,
     "metadata": {},
     "output_type": "execute_result"
    }
   ],
   "source": [
    "T2d = Matrix([[cos(th), sin(th)], [-sin(th), cos(th)]])\n",
    "T2d"
   ]
  },
  {
   "cell_type": "code",
   "execution_count": 5,
   "metadata": {},
   "outputs": [
    {
     "data": {
      "text/latex": [
       "$\\displaystyle \\left[\\begin{matrix}1 & 0 & -1 & 0\\\\0 & 0 & 0 & 0\\\\-1 & 0 & 1 & 0\\\\0 & 0 & 0 & 0\\end{matrix}\\right]$"
      ],
      "text/plain": [
       "⎡1   0  -1  0⎤\n",
       "⎢            ⎥\n",
       "⎢0   0  0   0⎥\n",
       "⎢            ⎥\n",
       "⎢-1  0  1   0⎥\n",
       "⎢            ⎥\n",
       "⎣0   0  0   0⎦"
      ]
     },
     "execution_count": 5,
     "metadata": {},
     "output_type": "execute_result"
    }
   ],
   "source": [
    "S_e = Matrix([[1,0,-1,0], [0,0,0,0] , [-1 , 0 , 1 , 0] , [0,0,0,0]])\n",
    "S_e"
   ]
  },
  {
   "cell_type": "code",
   "execution_count": 6,
   "metadata": {},
   "outputs": [
    {
     "data": {
      "text/latex": [
       "$\\displaystyle \\left[\\begin{matrix}\\cos{\\left(th \\right)} & \\sin{\\left(th \\right)} & 0 & 0\\\\- \\sin{\\left(th \\right)} & \\cos{\\left(th \\right)} & 0 & 0\\\\0 & 0 & \\cos{\\left(th \\right)} & \\sin{\\left(th \\right)}\\\\0 & 0 & - \\sin{\\left(th \\right)} & \\cos{\\left(th \\right)}\\end{matrix}\\right]$"
      ],
      "text/plain": [
       "⎡cos(th)   sin(th)     0         0   ⎤\n",
       "⎢                                    ⎥\n",
       "⎢-sin(th)  cos(th)     0         0   ⎥\n",
       "⎢                                    ⎥\n",
       "⎢   0         0     cos(th)   sin(th)⎥\n",
       "⎢                                    ⎥\n",
       "⎣   0         0     -sin(th)  cos(th)⎦"
      ]
     },
     "execution_count": 6,
     "metadata": {},
     "output_type": "execute_result"
    }
   ],
   "source": [
    "T_e = diag(T2d , T2d)\n",
    "T_e"
   ]
  },
  {
   "cell_type": "code",
   "execution_count": 7,
   "metadata": {},
   "outputs": [
    {
     "data": {
      "text/latex": [
       "$\\displaystyle \\left[\\begin{matrix}\\cos{\\left(th \\right)} & - \\sin{\\left(th \\right)} & 0 & 0\\\\\\sin{\\left(th \\right)} & \\cos{\\left(th \\right)} & 0 & 0\\\\0 & 0 & \\cos{\\left(th \\right)} & - \\sin{\\left(th \\right)}\\\\0 & 0 & \\sin{\\left(th \\right)} & \\cos{\\left(th \\right)}\\end{matrix}\\right]$"
      ],
      "text/plain": [
       "⎡cos(th)  -sin(th)     0        0    ⎤\n",
       "⎢                                    ⎥\n",
       "⎢sin(th)  cos(th)      0        0    ⎥\n",
       "⎢                                    ⎥\n",
       "⎢   0        0      cos(th)  -sin(th)⎥\n",
       "⎢                                    ⎥\n",
       "⎣   0        0      sin(th)  cos(th) ⎦"
      ]
     },
     "execution_count": 7,
     "metadata": {},
     "output_type": "execute_result"
    }
   ],
   "source": [
    "T_e.T"
   ]
  },
  {
   "cell_type": "code",
   "execution_count": 9,
   "metadata": {},
   "outputs": [
    {
     "data": {
      "text/latex": [
       "$\\displaystyle \\left[\\begin{matrix}\\cos^{2}{\\left(th \\right)} & \\sin{\\left(th \\right)} \\cos{\\left(th \\right)} & - \\cos^{2}{\\left(th \\right)} & - \\sin{\\left(th \\right)} \\cos{\\left(th \\right)}\\\\\\sin{\\left(th \\right)} \\cos{\\left(th \\right)} & \\sin^{2}{\\left(th \\right)} & - \\sin{\\left(th \\right)} \\cos{\\left(th \\right)} & - \\sin^{2}{\\left(th \\right)}\\\\- \\cos^{2}{\\left(th \\right)} & - \\sin{\\left(th \\right)} \\cos{\\left(th \\right)} & \\cos^{2}{\\left(th \\right)} & \\sin{\\left(th \\right)} \\cos{\\left(th \\right)}\\\\- \\sin{\\left(th \\right)} \\cos{\\left(th \\right)} & - \\sin^{2}{\\left(th \\right)} & \\sin{\\left(th \\right)} \\cos{\\left(th \\right)} & \\sin^{2}{\\left(th \\right)}\\end{matrix}\\right]$"
      ],
      "text/plain": [
       "⎡       2                                   2                          ⎤\n",
       "⎢    cos (th)      sin(th)⋅cos(th)      -cos (th)      -sin(th)⋅cos(th)⎥\n",
       "⎢                                                                      ⎥\n",
       "⎢                         2                                   2        ⎥\n",
       "⎢sin(th)⋅cos(th)       sin (th)      -sin(th)⋅cos(th)     -sin (th)    ⎥\n",
       "⎢                                                                      ⎥\n",
       "⎢       2                                   2                          ⎥\n",
       "⎢   -cos (th)      -sin(th)⋅cos(th)      cos (th)      sin(th)⋅cos(th) ⎥\n",
       "⎢                                                                      ⎥\n",
       "⎢                         2                                   2        ⎥\n",
       "⎣-sin(th)⋅cos(th)     -sin (th)      sin(th)⋅cos(th)       sin (th)    ⎦"
      ]
     },
     "execution_count": 9,
     "metadata": {},
     "output_type": "execute_result"
    }
   ],
   "source": [
    "T = T_e.T * S_e * T_e\n",
    "T"
   ]
  },
  {
   "cell_type": "code",
   "execution_count": 11,
   "metadata": {},
   "outputs": [],
   "source": [
    "F1 = symbols('F1')\n",
    "F2 = symbols('F2')\n",
    "F3 = symbols('F3')\n",
    "F4 = symbols('F4')"
   ]
  },
  {
   "cell_type": "code",
   "execution_count": 14,
   "metadata": {},
   "outputs": [
    {
     "data": {
      "text/latex": [
       "$\\displaystyle \\left[\\begin{matrix}F_{1} \\cos{\\left(th \\right)}\\\\F_{1} \\sin{\\left(th \\right)}\\\\F_{3} \\cos{\\left(th \\right)}\\\\F_{3} \\sin{\\left(th \\right)}\\end{matrix}\\right]$"
      ],
      "text/plain": [
       "⎡F₁⋅cos(th)⎤\n",
       "⎢          ⎥\n",
       "⎢F₁⋅sin(th)⎥\n",
       "⎢          ⎥\n",
       "⎢F₃⋅cos(th)⎥\n",
       "⎢          ⎥\n",
       "⎣F₃⋅sin(th)⎦"
      ]
     },
     "execution_count": 14,
     "metadata": {},
     "output_type": "execute_result"
    }
   ],
   "source": [
    "F_e = T_e.T * Matrix([[F1], [0] , [F3] , [0]])\n",
    "F_e"
   ]
  },
  {
   "cell_type": "code",
   "execution_count": null,
   "metadata": {},
   "outputs": [],
   "source": [
    "\n",
    "\n",
    "\n",
    "\n",
    "\n",
    "\n",
    "\n",
    "\n",
    "\n",
    "\n",
    "\n",
    "\n",
    "\n",
    "\n",
    "\n",
    "\n",
    "\n",
    "\n",
    "\n",
    "\n",
    "\n",
    "\n",
    "\n",
    "\n",
    "\n",
    "\n",
    "\n",
    "\n",
    "\n",
    "\n",
    "\n",
    "\n",
    "\n",
    "\n",
    "\n",
    "\n",
    "\n",
    "\n",
    "\n",
    "\n",
    "\n",
    "\n",
    "\n",
    "\n",
    "\n",
    "\n",
    "\n",
    "\n",
    "\n",
    "\n",
    "\n",
    "\n",
    "\n",
    "\n",
    "\n",
    "\n"
   ]
  },
  {
   "cell_type": "code",
   "execution_count": null,
   "metadata": {},
   "outputs": [],
   "source": []
  }
 ],
 "metadata": {
  "kernelspec": {
   "display_name": "Python 3 (ipykernel)",
   "language": "python",
   "name": "python3"
  },
  "language_info": {
   "codemirror_mode": {
    "name": "ipython",
    "version": 3
   },
   "file_extension": ".py",
   "mimetype": "text/x-python",
   "name": "python",
   "nbconvert_exporter": "python",
   "pygments_lexer": "ipython3",
   "version": "3.8.10"
  }
 },
 "nbformat": 4,
 "nbformat_minor": 2
}
