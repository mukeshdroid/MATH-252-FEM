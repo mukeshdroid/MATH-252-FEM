{
 "cells": [
  {
   "cell_type": "code",
   "execution_count": 9,
   "metadata": {},
   "outputs": [],
   "source": [
    "from sympy import *\n",
    "\n",
    "init_printing(use_unicode=True)"
   ]
  },
  {
   "cell_type": "code",
   "execution_count": 10,
   "metadata": {},
   "outputs": [],
   "source": [
    "th = symbols('th')"
   ]
  },
  {
   "cell_type": "code",
   "execution_count": 16,
   "metadata": {},
   "outputs": [
    {
     "data": {
      "text/latex": [
       "$\\displaystyle \\left[\\begin{matrix}\\cos{\\left(th \\right)} & \\sin{\\left(th \\right)}\\\\- \\sin{\\left(th \\right)} & \\cos{\\left(th \\right)}\\end{matrix}\\right]$"
      ],
      "text/plain": [
       "⎡cos(th)   sin(th)⎤\n",
       "⎢                 ⎥\n",
       "⎣-sin(th)  cos(th)⎦"
      ]
     },
     "execution_count": 16,
     "metadata": {},
     "output_type": "execute_result"
    }
   ],
   "source": [
    "T2d = Matrix([[cos(th), sin(th)], [-sin(th), cos(th)]])\n",
    "T2d"
   ]
  },
  {
   "cell_type": "code",
   "execution_count": 19,
   "metadata": {},
   "outputs": [
    {
     "data": {
      "text/latex": [
       "$\\displaystyle \\left[\\begin{matrix}1 & 0 & -1 & 0\\\\0 & 0 & 0 & 0\\\\-1 & 0 & 1 & 0\\\\0 & 0 & 0 & 0\\end{matrix}\\right]$"
      ],
      "text/plain": [
       "⎡1   0  -1  0⎤\n",
       "⎢            ⎥\n",
       "⎢0   0  0   0⎥\n",
       "⎢            ⎥\n",
       "⎢-1  0  1   0⎥\n",
       "⎢            ⎥\n",
       "⎣0   0  0   0⎦"
      ]
     },
     "execution_count": 19,
     "metadata": {},
     "output_type": "execute_result"
    }
   ],
   "source": [
    "S_e = Matrix([[1,0,-1,0], [0,0,0,0] , [-1 , 0 , 1 , 0] , [0,0,0,0]])\n",
    "S_e"
   ]
  },
  {
   "cell_type": "code",
   "execution_count": 14,
   "metadata": {},
   "outputs": [
    {
     "data": {
      "text/latex": [
       "$\\displaystyle \\left[\\begin{matrix}\\cos{\\left(th \\right)} & \\sin{\\left(th \\right)} & 0 & 0\\\\- \\sin{\\left(th \\right)} & \\cos{\\left(th \\right)} & 0 & 0\\\\0 & 0 & \\cos{\\left(th \\right)} & \\sin{\\left(th \\right)}\\\\0 & 0 & - \\sin{\\left(th \\right)} & \\cos{\\left(th \\right)}\\end{matrix}\\right]$"
      ],
      "text/plain": [
       "⎡cos(th)   sin(th)     0         0   ⎤\n",
       "⎢                                    ⎥\n",
       "⎢-sin(th)  cos(th)     0         0   ⎥\n",
       "⎢                                    ⎥\n",
       "⎢   0         0     cos(th)   sin(th)⎥\n",
       "⎢                                    ⎥\n",
       "⎣   0         0     -sin(th)  cos(th)⎦"
      ]
     },
     "execution_count": 14,
     "metadata": {},
     "output_type": "execute_result"
    }
   ],
   "source": [
    "T_e = diag(T2d , T2d)\n",
    "T_e"
   ]
  },
  {
   "cell_type": "code",
   "execution_count": 15,
   "metadata": {},
   "outputs": [
    {
     "data": {
      "text/latex": [
       "$\\displaystyle \\left[\\begin{matrix}\\cos{\\left(th \\right)} & - \\sin{\\left(th \\right)} & 0 & 0\\\\\\sin{\\left(th \\right)} & \\cos{\\left(th \\right)} & 0 & 0\\\\0 & 0 & \\cos{\\left(th \\right)} & - \\sin{\\left(th \\right)}\\\\0 & 0 & \\sin{\\left(th \\right)} & \\cos{\\left(th \\right)}\\end{matrix}\\right]$"
      ],
      "text/plain": [
       "⎡cos(th)  -sin(th)     0        0    ⎤\n",
       "⎢                                    ⎥\n",
       "⎢sin(th)  cos(th)      0        0    ⎥\n",
       "⎢                                    ⎥\n",
       "⎢   0        0      cos(th)  -sin(th)⎥\n",
       "⎢                                    ⎥\n",
       "⎣   0        0      sin(th)  cos(th) ⎦"
      ]
     },
     "execution_count": 15,
     "metadata": {},
     "output_type": "execute_result"
    }
   ],
   "source": [
    "T_e.T"
   ]
  },
  {
   "cell_type": "code",
   "execution_count": 21,
   "metadata": {},
   "outputs": [
    {
     "data": {
      "text/latex": [
       "$\\displaystyle \\left[\\begin{matrix}\\cos^{2}{\\left(th \\right)} & \\sin{\\left(th \\right)} \\cos{\\left(th \\right)} & - \\cos^{2}{\\left(th \\right)} & - \\sin{\\left(th \\right)} \\cos{\\left(th \\right)}\\\\\\sin{\\left(th \\right)} \\cos{\\left(th \\right)} & \\sin^{2}{\\left(th \\right)} & - \\sin{\\left(th \\right)} \\cos{\\left(th \\right)} & - \\sin^{2}{\\left(th \\right)}\\\\- \\cos^{2}{\\left(th \\right)} & - \\sin{\\left(th \\right)} \\cos{\\left(th \\right)} & \\cos^{2}{\\left(th \\right)} & \\sin{\\left(th \\right)} \\cos{\\left(th \\right)}\\\\- \\sin{\\left(th \\right)} \\cos{\\left(th \\right)} & - \\sin^{2}{\\left(th \\right)} & \\sin{\\left(th \\right)} \\cos{\\left(th \\right)} & \\sin^{2}{\\left(th \\right)}\\end{matrix}\\right]$"
      ],
      "text/plain": [
       "⎡       2                                   2                          ⎤\n",
       "⎢    cos (th)      sin(th)⋅cos(th)      -cos (th)      -sin(th)⋅cos(th)⎥\n",
       "⎢                                                                      ⎥\n",
       "⎢                         2                                   2        ⎥\n",
       "⎢sin(th)⋅cos(th)       sin (th)      -sin(th)⋅cos(th)     -sin (th)    ⎥\n",
       "⎢                                                                      ⎥\n",
       "⎢       2                                   2                          ⎥\n",
       "⎢   -cos (th)      -sin(th)⋅cos(th)      cos (th)      sin(th)⋅cos(th) ⎥\n",
       "⎢                                                                      ⎥\n",
       "⎢                         2                                   2        ⎥\n",
       "⎣-sin(th)⋅cos(th)     -sin (th)      sin(th)⋅cos(th)       sin (th)    ⎦"
      ]
     },
     "execution_count": 21,
     "metadata": {},
     "output_type": "execute_result"
    }
   ],
   "source": [
    "T = T_e.T * S_e * T_e\n",
    "T"
   ]
  }
 ],
 "metadata": {
  "kernelspec": {
   "display_name": "Python 3 (ipykernel)",
   "language": "python",
   "name": "python3"
  },
  "language_info": {
   "codemirror_mode": {
    "name": "ipython",
    "version": 3
   },
   "file_extension": ".py",
   "mimetype": "text/x-python",
   "name": "python",
   "nbconvert_exporter": "python",
   "pygments_lexer": "ipython3",
   "version": "3.8.10"
  }
 },
 "nbformat": 4,
 "nbformat_minor": 2
}
