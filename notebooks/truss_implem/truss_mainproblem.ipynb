{
 "cells": [
  {
   "cell_type": "markdown",
   "metadata": {},
   "source": [
    "Implementating fem for truss using class"
   ]
  },
  {
   "cell_type": "code",
   "execution_count": 1,
   "metadata": {},
   "outputs": [],
   "source": [
    "import math\n",
    "import numpy as np\n",
    "import copy"
   ]
  },
  {
   "cell_type": "code",
   "execution_count": 2,
   "metadata": {},
   "outputs": [],
   "source": [
    "#import classes for nodes and elements\n",
    "from node import node\n",
    "from ele import ele"
   ]
  },
  {
   "cell_type": "code",
   "execution_count": 3,
   "metadata": {},
   "outputs": [
    {
     "name": "stdout",
     "output_type": "stream",
     "text": [
      "Help on class node in module node:\n",
      "\n",
      "class node(builtins.object)\n",
      " |  node(num, pos_x, pos_y, dis_x, dis_y, f_x, f_y)\n",
      " |  \n",
      " |  Methods defined here:\n",
      " |  \n",
      " |  __init__(self, num, pos_x, pos_y, dis_x, dis_y, f_x, f_y)\n",
      " |      Initialize self.  See help(type(self)) for accurate signature.\n",
      " |  \n",
      " |  print(self)\n",
      " |  \n",
      " |  ----------------------------------------------------------------------\n",
      " |  Data descriptors defined here:\n",
      " |  \n",
      " |  __dict__\n",
      " |      dictionary for instance variables (if defined)\n",
      " |  \n",
      " |  __weakref__\n",
      " |      list of weak references to the object (if defined)\n",
      "\n"
     ]
    }
   ],
   "source": [
    "help(node)"
   ]
  },
  {
   "cell_type": "code",
   "execution_count": null,
   "metadata": {},
   "outputs": [],
   "source": []
  },
  {
   "cell_type": "code",
   "execution_count": 4,
   "metadata": {},
   "outputs": [],
   "source": [
    "#define nodes along with boundary conditions\n",
    "node1 = node(1,0,0,0,0,0,0)\n",
    "node2 = node(2,2,0,0,0,0,0)\n",
    "node3 = node(3,4,0,0,0,0,0)\n",
    "node4 = node(4,6,0,0,0,0,0)\n",
    "node5 = node(5,8,0,0,0,0,0)\n",
    "node6 = node(6,8,2.918,np.nan,np.nan,2,-1)\n",
    "node7 = node(7,6,2.1838,np.nan,np.nan,0,-1)\n",
    "node8 = node(8,4,1.4559,np.nan,np.nan,0,-1)\n",
    "node9 = node(9,2,0.7279,np.nan,np.nan,0,-1)"
   ]
  },
  {
   "cell_type": "code",
   "execution_count": 5,
   "metadata": {},
   "outputs": [
    {
     "name": "stdout",
     "output_type": "stream",
     "text": [
      "num =  1 \n",
      " pos_x = 0 \n",
      " pos_y =  0 \n",
      " dis_x =  0 \n",
      " dis_y =  0 \n",
      " f_x =  0 \n",
      " f_y =  0\n",
      "num =  2 \n",
      " pos_x = 2 \n",
      " pos_y =  0 \n",
      " dis_x =  0 \n",
      " dis_y =  0 \n",
      " f_x =  0 \n",
      " f_y =  0\n",
      "num =  3 \n",
      " pos_x = 4 \n",
      " pos_y =  0 \n",
      " dis_x =  0 \n",
      " dis_y =  0 \n",
      " f_x =  0 \n",
      " f_y =  0\n",
      "num =  4 \n",
      " pos_x = 6 \n",
      " pos_y =  0 \n",
      " dis_x =  0 \n",
      " dis_y =  0 \n",
      " f_x =  0 \n",
      " f_y =  0\n",
      "num =  5 \n",
      " pos_x = 8 \n",
      " pos_y =  0 \n",
      " dis_x =  0 \n",
      " dis_y =  0 \n",
      " f_x =  0 \n",
      " f_y =  0\n",
      "num =  6 \n",
      " pos_x = 8 \n",
      " pos_y =  2.918 \n",
      " dis_x =  nan \n",
      " dis_y =  nan \n",
      " f_x =  2 \n",
      " f_y =  -1\n",
      "num =  7 \n",
      " pos_x = 6 \n",
      " pos_y =  2.1838 \n",
      " dis_x =  nan \n",
      " dis_y =  nan \n",
      " f_x =  0 \n",
      " f_y =  -1\n",
      "num =  8 \n",
      " pos_x = 4 \n",
      " pos_y =  1.4559 \n",
      " dis_x =  nan \n",
      " dis_y =  nan \n",
      " f_x =  0 \n",
      " f_y =  -1\n",
      "num =  9 \n",
      " pos_x = 2 \n",
      " pos_y =  0.7279 \n",
      " dis_x =  nan \n",
      " dis_y =  nan \n",
      " f_x =  0 \n",
      " f_y =  -1\n"
     ]
    },
    {
     "data": {
      "text/plain": [
       "0"
      ]
     },
     "execution_count": 5,
     "metadata": {},
     "output_type": "execute_result"
    }
   ],
   "source": [
    "node1.print()\n",
    "node2.print()\n",
    "node3.print()\n",
    "node4.print()\n",
    "node5.print()\n",
    "node6.print()\n",
    "node7.print()\n",
    "node8.print()\n",
    "node9.print()"
   ]
  },
  {
   "cell_type": "code",
   "execution_count": 6,
   "metadata": {},
   "outputs": [
    {
     "name": "stdout",
     "output_type": "stream",
     "text": [
      "Help on class ele in module ele:\n",
      "\n",
      "class ele(builtins.object)\n",
      " |  ele(num, length, area, ym, theta, node_a, node_b)\n",
      " |  \n",
      " |  Methods defined here:\n",
      " |  \n",
      " |  __init__(self, num, length, area, ym, theta, node_a, node_b)\n",
      " |      Initialize self.  See help(type(self)) for accurate signature.\n",
      " |  \n",
      " |  print(self)\n",
      " |  \n",
      " |  stiff(self)\n",
      " |  \n",
      " |  ----------------------------------------------------------------------\n",
      " |  Data descriptors defined here:\n",
      " |  \n",
      " |  __dict__\n",
      " |      dictionary for instance variables (if defined)\n",
      " |  \n",
      " |  __weakref__\n",
      " |      list of weak references to the object (if defined)\n",
      "\n"
     ]
    }
   ],
   "source": [
    "help(ele)"
   ]
  },
  {
   "cell_type": "code",
   "execution_count": null,
   "metadata": {},
   "outputs": [],
   "source": []
  },
  {
   "cell_type": "code",
   "execution_count": 7,
   "metadata": {},
   "outputs": [],
   "source": [
    "#define elements\n",
    "\n",
    "ele1 = ele(1,2.0000,1,1, 0 , node1 , node2)\n",
    "ele2 = ele(2,2.0000,1, 1 , 0, node2 , node3)\n",
    "ele3 = ele(3,2.000,1, 1 , 0, node3 , node4)\n",
    "ele4 = ele(4,2.0000,1, 1 , 0 , node4 , node5)\n",
    "ele5 = ele(5,2.9118,1, 1 , math.pi / 2 , node5 , node6)\n",
    "ele6 = ele(6,2.1284,1,1, math.pi / 9, node7 , node6)\n",
    "ele7 = ele(7,2.1284,1, 1 , math.pi / 9 , node8 , node7)\n",
    "ele8 = ele(8,2.1284,1, 1 , math.pi / 9 , node9 , node8)\n",
    "ele9 = ele(9,2.1284,1, 1 , math.pi / 9 , node1 , node9)\n",
    "ele10 = ele(10,0.7279,1, 1 , math.pi / 2, node2 , node9)\n",
    "ele11 = ele(11,2.4738,1, 1 , math.pi / 5 , node2 , node8)\n",
    "ele12 = ele(12,1.4559,1,1, math.pi / 2, node3 , node8)\n",
    "ele13 = ele(13,2.4738,1, 1 , 4*math.pi / 5 , node4 , node8)\n",
    "ele14 = ele(14,2.1838,1, 1 , math.pi / 2 , node4 , node7)\n",
    "ele15 = ele(15,3.5325,1, 1 , 14*math.pi / 45 , node4, node6)\n",
    "\n"
   ]
  },
  {
   "cell_type": "code",
   "execution_count": 8,
   "metadata": {},
   "outputs": [
    {
     "name": "stdout",
     "output_type": "stream",
     "text": [
      "num =  1 \n",
      " length= 2.0 \n",
      " area =  1 \n",
      " youngs modulus =  1 \n",
      " theta =  0 \n",
      " node_a =  <node.node object at 0x7f7a8d434370> \n",
      " node_b =  <node.node object at 0x7f7a8d434310>\n",
      "num =  2 \n",
      " length= 2.0 \n",
      " area =  1 \n",
      " youngs modulus =  1 \n",
      " theta =  0 \n",
      " node_a =  <node.node object at 0x7f7a8d434310> \n",
      " node_b =  <node.node object at 0x7f7a8d4343a0>\n",
      "num =  3 \n",
      " length= 2.0 \n",
      " area =  1 \n",
      " youngs modulus =  1 \n",
      " theta =  0 \n",
      " node_a =  <node.node object at 0x7f7a8d4343a0> \n",
      " node_b =  <node.node object at 0x7f7a8d434340>\n",
      "num =  4 \n",
      " length= 2.0 \n",
      " area =  1 \n",
      " youngs modulus =  1 \n",
      " theta =  0 \n",
      " node_a =  <node.node object at 0x7f7a8d434340> \n",
      " node_b =  <node.node object at 0x7f7a8d4343d0>\n",
      "num =  5 \n",
      " length= 2.9118 \n",
      " area =  1 \n",
      " youngs modulus =  1 \n",
      " theta =  1.5707963267948966 \n",
      " node_a =  <node.node object at 0x7f7a8d4343d0> \n",
      " node_b =  <node.node object at 0x7f7a8d434400>\n",
      "num =  6 \n",
      " length= 2.1284 \n",
      " area =  1 \n",
      " youngs modulus =  1 \n",
      " theta =  0.3490658503988659 \n",
      " node_a =  <node.node object at 0x7f7a8d434430> \n",
      " node_b =  <node.node object at 0x7f7a8d434400>\n",
      "num =  7 \n",
      " length= 2.1284 \n",
      " area =  1 \n",
      " youngs modulus =  1 \n",
      " theta =  0.3490658503988659 \n",
      " node_a =  <node.node object at 0x7f7a8d434460> \n",
      " node_b =  <node.node object at 0x7f7a8d434430>\n",
      "num =  8 \n",
      " length= 2.1284 \n",
      " area =  1 \n",
      " youngs modulus =  1 \n",
      " theta =  0.3490658503988659 \n",
      " node_a =  <node.node object at 0x7f7a8d434490> \n",
      " node_b =  <node.node object at 0x7f7a8d434460>\n",
      "num =  9 \n",
      " length= 2.1284 \n",
      " area =  1 \n",
      " youngs modulus =  1 \n",
      " theta =  0.3490658503988659 \n",
      " node_a =  <node.node object at 0x7f7a8d434370> \n",
      " node_b =  <node.node object at 0x7f7a8d434490>\n",
      "num =  10 \n",
      " length= 0.7279 \n",
      " area =  1 \n",
      " youngs modulus =  1 \n",
      " theta =  1.5707963267948966 \n",
      " node_a =  <node.node object at 0x7f7a8d434310> \n",
      " node_b =  <node.node object at 0x7f7a8d434490>\n",
      "num =  11 \n",
      " length= 2.4738 \n",
      " area =  1 \n",
      " youngs modulus =  1 \n",
      " theta =  0.6283185307179586 \n",
      " node_a =  <node.node object at 0x7f7a8d434310> \n",
      " node_b =  <node.node object at 0x7f7a8d434460>\n",
      "num =  12 \n",
      " length= 1.4559 \n",
      " area =  1 \n",
      " youngs modulus =  1 \n",
      " theta =  1.5707963267948966 \n",
      " node_a =  <node.node object at 0x7f7a8d4343a0> \n",
      " node_b =  <node.node object at 0x7f7a8d434460>\n",
      "num =  13 \n",
      " length= 2.4738 \n",
      " area =  1 \n",
      " youngs modulus =  1 \n",
      " theta =  2.5132741228718345 \n",
      " node_a =  <node.node object at 0x7f7a8d434340> \n",
      " node_b =  <node.node object at 0x7f7a8d434460>\n",
      "num =  14 \n",
      " length= 2.1838 \n",
      " area =  1 \n",
      " youngs modulus =  1 \n",
      " theta =  1.5707963267948966 \n",
      " node_a =  <node.node object at 0x7f7a8d434340> \n",
      " node_b =  <node.node object at 0x7f7a8d434430>\n",
      "num =  15 \n",
      " length= 3.5325 \n",
      " area =  1 \n",
      " youngs modulus =  1 \n",
      " theta =  0.9773843811168246 \n",
      " node_a =  <node.node object at 0x7f7a8d434340> \n",
      " node_b =  <node.node object at 0x7f7a8d434400>\n"
     ]
    },
    {
     "data": {
      "text/plain": [
       "0"
      ]
     },
     "execution_count": 8,
     "metadata": {},
     "output_type": "execute_result"
    }
   ],
   "source": [
    "ele1.print()\n",
    "ele2.print()\n",
    "ele3.print()\n",
    "ele4.print()\n",
    "ele5.print()\n",
    "ele6.print()\n",
    "ele7.print()\n",
    "ele8.print()\n",
    "ele9.print()\n",
    "ele10.print()\n",
    "ele11.print()\n",
    "ele12.print()\n",
    "ele13.print()\n",
    "ele14.print()\n",
    "ele15.print()"
   ]
  },
  {
   "cell_type": "code",
   "execution_count": 9,
   "metadata": {},
   "outputs": [
    {
     "name": "stdout",
     "output_type": "stream",
     "text": [
      "[[ 0.5  0.  -0.5 -0. ]\n",
      " [ 0.   0.  -0.  -0. ]\n",
      " [-0.5 -0.   0.5  0. ]\n",
      " [-0.  -0.   0.   0. ]]\n",
      "[[ 0.5  0.  -0.5 -0. ]\n",
      " [ 0.   0.  -0.  -0. ]\n",
      " [-0.5 -0.   0.5  0. ]\n",
      " [-0.  -0.   0.   0. ]]\n",
      "[[ 0.5  0.  -0.5 -0. ]\n",
      " [ 0.   0.  -0.  -0. ]\n",
      " [-0.5 -0.   0.5  0. ]\n",
      " [-0.  -0.   0.   0. ]]\n"
     ]
    }
   ],
   "source": [
    "#generating stiffness matrix for all elements\n",
    "\n",
    "print(ele1.stiff())\n",
    "print(ele2.stiff())\n",
    "print(ele3.stiff())\n"
   ]
  },
  {
   "cell_type": "code",
   "execution_count": 10,
   "metadata": {},
   "outputs": [],
   "source": [
    "#list of nodes and elements\n",
    "nodes = [node1 , node2 , node3,node4,node5,node6,node7,node8,node9]\n",
    "eles = [ele1 , ele2 ,ele3,ele4,ele5,ele6,ele7,ele8,ele9,ele10,ele11,ele12,ele13,ele14,ele15]\n"
   ]
  },
  {
   "cell_type": "code",
   "execution_count": 11,
   "metadata": {},
   "outputs": [],
   "source": [
    "#generate global stiffness matrix \n",
    "\n",
    "def globalstiff(eles , num_nodes):\n",
    "    #dimension of global matrix\n",
    "    dim = 2 * num_nodes\n",
    "    #generate and store the element-wise stiffness matrices\n",
    "    SMs = [e.stiff() for e in eles]\n",
    "    \n",
    "    GK = np.zeros((dim,dim))\n",
    "    \n",
    "    for e in eles:\n",
    "        i = 2 * e.node_a.num -2\n",
    "        j = 2 * e.node_a.num -1\n",
    "        k = 2 * e.node_b.num -2\n",
    "        l = 2 * e.node_b.num -1\n",
    "        e_stiff = e.stiff()\n",
    "        \n",
    "        index = [i,j,k,l]\n",
    "        index2d = [(a,b) for a in index for b in index]\n",
    "        d = {i:0, j:1, k:2, l:3}\n",
    "        for p,q in index2d:\n",
    "            GK[p][q] = GK[p][q] + e_stiff[d[p]][d[q]]\n",
    "            \n",
    "    return GK\n",
    "            \n",
    "    "
   ]
  },
  {
   "cell_type": "code",
   "execution_count": 12,
   "metadata": {},
   "outputs": [
    {
     "data": {
      "text/plain": [
       "array([[ 9.14876067e-01,  1.51002539e-01, -5.00000000e-01,\n",
       "         0.00000000e+00,  0.00000000e+00,  0.00000000e+00,\n",
       "         0.00000000e+00,  0.00000000e+00,  0.00000000e+00,\n",
       "         0.00000000e+00,  0.00000000e+00,  0.00000000e+00,\n",
       "         0.00000000e+00,  0.00000000e+00,  0.00000000e+00,\n",
       "         0.00000000e+00, -4.14876067e-01, -1.51002539e-01],\n",
       "       [ 1.51002539e-01,  5.49604296e-02,  0.00000000e+00,\n",
       "         0.00000000e+00,  0.00000000e+00,  0.00000000e+00,\n",
       "         0.00000000e+00,  0.00000000e+00,  0.00000000e+00,\n",
       "         0.00000000e+00,  0.00000000e+00,  0.00000000e+00,\n",
       "         0.00000000e+00,  0.00000000e+00,  0.00000000e+00,\n",
       "         0.00000000e+00, -1.51002539e-01, -5.49604296e-02],\n",
       "       [-5.00000000e-01,  0.00000000e+00,  1.26457616e+00,\n",
       "         1.92225830e-01, -5.00000000e-01,  0.00000000e+00,\n",
       "         0.00000000e+00,  0.00000000e+00,  0.00000000e+00,\n",
       "         0.00000000e+00,  0.00000000e+00,  0.00000000e+00,\n",
       "         0.00000000e+00,  0.00000000e+00, -2.64576157e-01,\n",
       "        -1.92225830e-01, -5.15098153e-33, -8.41219123e-17],\n",
       "       [ 0.00000000e+00,  0.00000000e+00,  1.92225830e-01,\n",
       "         1.51347532e+00,  0.00000000e+00,  0.00000000e+00,\n",
       "         0.00000000e+00,  0.00000000e+00,  0.00000000e+00,\n",
       "         0.00000000e+00,  0.00000000e+00,  0.00000000e+00,\n",
       "         0.00000000e+00,  0.00000000e+00, -1.92225830e-01,\n",
       "        -1.39660240e-01, -8.41219123e-17, -1.37381508e+00],\n",
       "       [ 0.00000000e+00,  0.00000000e+00, -5.00000000e-01,\n",
       "         0.00000000e+00,  1.00000000e+00,  4.20580671e-17,\n",
       "        -5.00000000e-01,  0.00000000e+00,  0.00000000e+00,\n",
       "         0.00000000e+00,  0.00000000e+00,  0.00000000e+00,\n",
       "         0.00000000e+00,  0.00000000e+00, -2.57531387e-33,\n",
       "        -4.20580671e-17,  0.00000000e+00,  0.00000000e+00],\n",
       "       [ 0.00000000e+00,  0.00000000e+00,  0.00000000e+00,\n",
       "         0.00000000e+00,  4.20580671e-17,  6.86860361e-01,\n",
       "         0.00000000e+00,  0.00000000e+00,  0.00000000e+00,\n",
       "         0.00000000e+00,  0.00000000e+00,  0.00000000e+00,\n",
       "         0.00000000e+00,  0.00000000e+00, -4.20580671e-17,\n",
       "        -6.86860361e-01,  0.00000000e+00,  0.00000000e+00],\n",
       "       [ 0.00000000e+00,  0.00000000e+00,  0.00000000e+00,\n",
       "         0.00000000e+00, -5.00000000e-01,  0.00000000e+00,\n",
       "         1.35309610e+00, -6.09896156e-02, -5.00000000e-01,\n",
       "         0.00000000e+00, -8.85199443e-02, -1.31236214e-01,\n",
       "        -1.71691522e-33, -2.80393534e-17, -2.64576157e-01,\n",
       "         1.92225830e-01,  0.00000000e+00,  0.00000000e+00],\n",
       "       [ 0.00000000e+00,  0.00000000e+00,  0.00000000e+00,\n",
       "         0.00000000e+00,  0.00000000e+00,  0.00000000e+00,\n",
       "        -6.09896156e-02,  7.92143321e-01,  0.00000000e+00,\n",
       "         0.00000000e+00, -1.31236214e-01, -1.94565689e-01,\n",
       "        -2.80393534e-17, -4.57917392e-01,  1.92225830e-01,\n",
       "        -1.39660240e-01,  0.00000000e+00,  0.00000000e+00],\n",
       "       [ 0.00000000e+00,  0.00000000e+00,  0.00000000e+00,\n",
       "         0.00000000e+00,  0.00000000e+00,  0.00000000e+00,\n",
       "        -5.00000000e-01,  0.00000000e+00,  5.00000000e-01,\n",
       "         2.10290336e-17, -1.28765693e-33, -2.10290336e-17,\n",
       "         0.00000000e+00,  0.00000000e+00,  0.00000000e+00,\n",
       "         0.00000000e+00,  0.00000000e+00,  0.00000000e+00],\n",
       "       [ 0.00000000e+00,  0.00000000e+00,  0.00000000e+00,\n",
       "         0.00000000e+00,  0.00000000e+00,  0.00000000e+00,\n",
       "         0.00000000e+00,  0.00000000e+00,  2.10290336e-17,\n",
       "         3.43430181e-01, -2.10290336e-17, -3.43430181e-01,\n",
       "         0.00000000e+00,  0.00000000e+00,  0.00000000e+00,\n",
       "         0.00000000e+00,  0.00000000e+00,  0.00000000e+00],\n",
       "       [ 0.00000000e+00,  0.00000000e+00,  0.00000000e+00,\n",
       "         0.00000000e+00,  0.00000000e+00,  0.00000000e+00,\n",
       "        -8.85199443e-02, -1.31236214e-01, -1.28765693e-33,\n",
       "        -2.10290336e-17,  5.03396012e-01,  2.82238754e-01,\n",
       "        -4.14876067e-01, -1.51002539e-01,  0.00000000e+00,\n",
       "         0.00000000e+00,  0.00000000e+00,  0.00000000e+00],\n",
       "       [ 0.00000000e+00,  0.00000000e+00,  0.00000000e+00,\n",
       "         0.00000000e+00,  0.00000000e+00,  0.00000000e+00,\n",
       "        -1.31236214e-01, -1.94565689e-01, -2.10290336e-17,\n",
       "        -3.43430181e-01,  2.82238754e-01,  5.92956299e-01,\n",
       "        -1.51002539e-01, -5.49604296e-02,  0.00000000e+00,\n",
       "         0.00000000e+00,  0.00000000e+00,  0.00000000e+00],\n",
       "       [ 0.00000000e+00,  0.00000000e+00,  0.00000000e+00,\n",
       "         0.00000000e+00,  0.00000000e+00,  0.00000000e+00,\n",
       "        -1.71691522e-33, -2.80393534e-17,  0.00000000e+00,\n",
       "         0.00000000e+00, -4.14876067e-01, -1.51002539e-01,\n",
       "         8.29752135e-01,  3.02005079e-01, -4.14876067e-01,\n",
       "        -1.51002539e-01,  0.00000000e+00,  0.00000000e+00],\n",
       "       [ 0.00000000e+00,  0.00000000e+00,  0.00000000e+00,\n",
       "         0.00000000e+00,  0.00000000e+00,  0.00000000e+00,\n",
       "        -2.80393534e-17, -4.57917392e-01,  0.00000000e+00,\n",
       "         0.00000000e+00, -1.51002539e-01, -5.49604296e-02,\n",
       "         3.02005079e-01,  5.67838251e-01, -1.51002539e-01,\n",
       "        -5.49604296e-02,  0.00000000e+00,  0.00000000e+00],\n",
       "       [ 0.00000000e+00,  0.00000000e+00, -2.64576157e-01,\n",
       "        -1.92225830e-01, -2.57531387e-33, -4.20580671e-17,\n",
       "        -2.64576157e-01,  1.92225830e-01,  0.00000000e+00,\n",
       "         0.00000000e+00,  0.00000000e+00,  0.00000000e+00,\n",
       "        -4.14876067e-01, -1.51002539e-01,  1.35890445e+00,\n",
       "         3.02005079e-01, -4.14876067e-01, -1.51002539e-01],\n",
       "       [ 0.00000000e+00,  0.00000000e+00, -1.92225830e-01,\n",
       "        -1.39660240e-01, -4.20580671e-17, -6.86860361e-01,\n",
       "         1.92225830e-01, -1.39660240e-01,  0.00000000e+00,\n",
       "         0.00000000e+00,  0.00000000e+00,  0.00000000e+00,\n",
       "        -1.51002539e-01, -5.49604296e-02,  3.02005079e-01,\n",
       "         1.07610170e+00, -1.51002539e-01, -5.49604296e-02],\n",
       "       [-4.14876067e-01, -1.51002539e-01, -5.15098153e-33,\n",
       "        -8.41219123e-17,  0.00000000e+00,  0.00000000e+00,\n",
       "         0.00000000e+00,  0.00000000e+00,  0.00000000e+00,\n",
       "         0.00000000e+00,  0.00000000e+00,  0.00000000e+00,\n",
       "         0.00000000e+00,  0.00000000e+00, -4.14876067e-01,\n",
       "        -1.51002539e-01,  8.29752135e-01,  3.02005079e-01],\n",
       "       [-1.51002539e-01, -5.49604296e-02, -8.41219123e-17,\n",
       "        -1.37381508e+00,  0.00000000e+00,  0.00000000e+00,\n",
       "         0.00000000e+00,  0.00000000e+00,  0.00000000e+00,\n",
       "         0.00000000e+00,  0.00000000e+00,  0.00000000e+00,\n",
       "         0.00000000e+00,  0.00000000e+00, -1.51002539e-01,\n",
       "        -5.49604296e-02,  3.02005079e-01,  1.48373594e+00]])"
      ]
     },
     "execution_count": 12,
     "metadata": {},
     "output_type": "execute_result"
    }
   ],
   "source": [
    "GK = globalstiff(eles , 9)\n",
    "GK"
   ]
  },
  {
   "cell_type": "code",
   "execution_count": 13,
   "metadata": {},
   "outputs": [
    {
     "name": "stdout",
     "output_type": "stream",
     "text": [
      "[ 0.  0.  0.  0.  0.  0.  0.  0.  0.  0. nan nan nan nan nan nan nan nan]\n",
      "[ 0  0  0  0  0  0  0  0  0  0  2 -1  0 -1  0 -1  0 -1]\n"
     ]
    }
   ],
   "source": [
    "#create vector for node_dis and external_forces \n",
    "\n",
    "dis_list = []\n",
    "for n in nodes:\n",
    "    dis_list.append(n.dis_x)\n",
    "    dis_list.append(n.dis_y)\n",
    "    \n",
    "dis = np.array(dis_list)\n",
    "print(dis)\n",
    "\n",
    "f_list = []\n",
    "for n in nodes:\n",
    "    f_list.append(n.f_x)\n",
    "    f_list.append(n.f_y)\n",
    "    \n",
    "f = np.array(f_list)\n",
    "print(f)\n"
   ]
  },
  {
   "cell_type": "code",
   "execution_count": 14,
   "metadata": {},
   "outputs": [
    {
     "name": "stdout",
     "output_type": "stream",
     "text": [
      "[[ 0.50339601  0.28223875 -0.41487607 -0.15100254  0.          0.\n",
      "   0.          0.        ]\n",
      " [ 0.28223875  0.5929563  -0.15100254 -0.05496043  0.          0.\n",
      "   0.          0.        ]\n",
      " [-0.41487607 -0.15100254  0.82975213  0.30200508 -0.41487607 -0.15100254\n",
      "   0.          0.        ]\n",
      " [-0.15100254 -0.05496043  0.30200508  0.56783825 -0.15100254 -0.05496043\n",
      "   0.          0.        ]\n",
      " [ 0.          0.         -0.41487607 -0.15100254  1.35890445  0.30200508\n",
      "  -0.41487607 -0.15100254]\n",
      " [ 0.          0.         -0.15100254 -0.05496043  0.30200508  1.0761017\n",
      "  -0.15100254 -0.05496043]\n",
      " [ 0.          0.          0.          0.         -0.41487607 -0.15100254\n",
      "   0.82975213  0.30200508]\n",
      " [ 0.          0.          0.          0.         -0.15100254 -0.05496043\n",
      "   0.30200508  1.48373594]]\n",
      "[ 2 -1  0 -1  0 -1  0 -1]\n",
      "[10, 11, 12, 13, 14, 15, 16, 17]\n"
     ]
    }
   ],
   "source": [
    "#check for undetermined values in dis and create linear eqns\n",
    "\n",
    "GK_dis =  copy.deepcopy(GK)\n",
    "f_dis =  copy.deepcopy(f)\n",
    "\n",
    "del_row = []\n",
    "index_list = list(range(0,2*len(nodes)))\n",
    "for i in range(0,2*len(nodes)):\n",
    "    if dis_list[i] == 0:\n",
    "        del_row.append(i)\n",
    "        index_list.remove(i)\n",
    "GK_dis = np.delete(GK_dis,del_row,0)\n",
    "GK_dis = np.delete(GK_dis,del_row,1)\n",
    "f_dis = np.delete(f_dis,del_row,0)\n",
    "    \n",
    "print(GK_dis)\n",
    "print(f_dis)\n",
    "print(index_list)\n",
    "        \n",
    "    \n",
    "        "
   ]
  },
  {
   "cell_type": "code",
   "execution_count": 15,
   "metadata": {},
   "outputs": [
    {
     "name": "stdout",
     "output_type": "stream",
     "text": [
      "[[ 0.50339601  0.28223875 -0.41487607 -0.15100254  0.          0.\n",
      "   0.          0.        ]\n",
      " [ 0.28223875  0.5929563  -0.15100254 -0.05496043  0.          0.\n",
      "   0.          0.        ]\n",
      " [-0.41487607 -0.15100254  0.82975213  0.30200508 -0.41487607 -0.15100254\n",
      "   0.          0.        ]\n",
      " [-0.15100254 -0.05496043  0.30200508  0.56783825 -0.15100254 -0.05496043\n",
      "   0.          0.        ]\n",
      " [ 0.          0.         -0.41487607 -0.15100254  1.35890445  0.30200508\n",
      "  -0.41487607 -0.15100254]\n",
      " [ 0.          0.         -0.15100254 -0.05496043  0.30200508  1.0761017\n",
      "  -0.15100254 -0.05496043]\n",
      " [ 0.          0.          0.          0.         -0.41487607 -0.15100254\n",
      "   0.82975213  0.30200508]\n",
      " [ 0.          0.          0.          0.         -0.15100254 -0.05496043\n",
      "   0.30200508  1.48373594]]\n",
      "[ 2 -1  0 -1  0 -1  0 -1]\n"
     ]
    }
   ],
   "source": [
    "#check for undetermined values in force and create linear eqns\n",
    "\n",
    "GK_dis =  copy.deepcopy(GK)\n",
    "f_dis =  copy.deepcopy(f)\n",
    "\n",
    "del_row = []\n",
    "index_list = list(range(0,2*len(nodes)))\n",
    "for i in range(0,2*len(nodes)):\n",
    "    if dis_list[i] == 0:\n",
    "        del_row.append(i)\n",
    "        index_list.remove(i)\n",
    "GK_dis = np.delete(GK_dis,del_row,0)\n",
    "GK_dis = np.delete(GK_dis,del_row,1)\n",
    "f_dis = np.delete(f_dis,del_row,0)\n",
    "    \n",
    "print(GK_dis)\n",
    "print(f_dis)"
   ]
  },
  {
   "cell_type": "code",
   "execution_count": 16,
   "metadata": {},
   "outputs": [
    {
     "data": {
      "text/plain": [
       "array([12.48407187, -6.04631381,  7.00856832, -2.1838    ,  2.35025907,\n",
       "       -0.56650909,  1.33696724, -0.7279    ])"
      ]
     },
     "execution_count": 16,
     "metadata": {},
     "output_type": "execute_result"
    }
   ],
   "source": [
    "ans_dis = np.linalg.solve(GK_dis , f_dis)\n",
    "ans_dis"
   ]
  },
  {
   "cell_type": "code",
   "execution_count": 17,
   "metadata": {},
   "outputs": [
    {
     "data": {
      "text/plain": [
       "array([ 0.        ,  0.        ,  0.        ,  0.        ,  0.        ,\n",
       "        0.        ,  0.        ,  0.        ,  0.        ,  0.        ,\n",
       "       12.48407187, -6.04631381,  7.00856832, -2.1838    ,  2.35025907,\n",
       "       -0.56650909,  1.33696724, -0.7279    ])"
      ]
     },
     "execution_count": 17,
     "metadata": {},
     "output_type": "execute_result"
    }
   ],
   "source": [
    "for i in range(0 , len(ans_dis)):\n",
    "    dis[index_list[i]] = ans_dis[i]\n",
    "dis"
   ]
  },
  {
   "cell_type": "code",
   "execution_count": 18,
   "metadata": {},
   "outputs": [
    {
     "data": {
      "text/plain": [
       "array([-4.44760964e-01, -1.61879752e-01, -5.12924832e-01,  6.27338296e-01,\n",
       "        2.38262773e-17,  3.89112638e-01, -1.04231420e+00,  1.06894218e+00,\n",
       "        1.27148136e-16,  2.07648664e+00,  2.00000000e+00, -1.00000000e+00,\n",
       "        6.66133815e-16, -1.00000000e+00,  4.99600361e-16, -1.00000000e+00,\n",
       "       -3.33066907e-16, -1.00000000e+00])"
      ]
     },
     "execution_count": 18,
     "metadata": {},
     "output_type": "execute_result"
    }
   ],
   "source": [
    "ans_force = np.dot(GK,dis)\n",
    "ans_force"
   ]
  }
 ],
 "metadata": {
  "kernelspec": {
   "display_name": "Python 3",
   "language": "python",
   "name": "python3"
  },
  "language_info": {
   "codemirror_mode": {
    "name": "ipython",
    "version": 3
   },
   "file_extension": ".py",
   "mimetype": "text/x-python",
   "name": "python",
   "nbconvert_exporter": "python",
   "pygments_lexer": "ipython3",
   "version": "3.8.10"
  }
 },
 "nbformat": 4,
 "nbformat_minor": 4
}
