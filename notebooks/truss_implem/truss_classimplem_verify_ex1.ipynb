{
 "cells": [
  {
   "cell_type": "markdown",
   "metadata": {},
   "source": [
    "Verifying the class Implementation using Example in JN Reddy Pg 199.\n",
    "(Please add images)"
   ]
  },
  {
   "cell_type": "code",
   "execution_count": 2,
   "metadata": {},
   "outputs": [],
   "source": [
    "import math\n",
    "import numpy as np\n",
    "import copy"
   ]
  },
  {
   "cell_type": "code",
   "execution_count": 3,
   "metadata": {},
   "outputs": [],
   "source": [
    "#import classes for nodes and elements\n",
    "from node import node\n",
    "from ele import ele"
   ]
  },
  {
   "cell_type": "code",
   "execution_count": 4,
   "metadata": {},
   "outputs": [],
   "source": [
    "#define nodes along with boundary conditions\n",
    "node1 = node(1,0,0,0,0,np.nan,np.nan)\n",
    "node2 = node(2,2,0,0,0,np.nan,np.nan)\n",
    "node3 = node(3,2,2,np.nan,np.nan,1,-2)"
   ]
  },
  {
   "cell_type": "code",
<<<<<<< HEAD
   "execution_count": 5,
   "metadata": {},
=======
   "execution_count": 6,
   "metadata": {
    "collapsed": true
   },
>>>>>>> 924d21761d18de2a6ce0f775963084fb5f8d8d11
   "outputs": [
    {
     "name": "stdout",
     "output_type": "stream",
     "text": [
      "num =  1 \n",
      " pos_x = 0 \n",
      " pos_y =  0 \n",
      " dis_x =  0 \n",
      " dis_y =  0 \n",
      " f_x =  nan \n",
      " f_y =  nan\n",
      "num =  2 \n",
      " pos_x = 2 \n",
      " pos_y =  0 \n",
      " dis_x =  0 \n",
      " dis_y =  0 \n",
      " f_x =  nan \n",
      " f_y =  nan\n",
      "num =  3 \n",
      " pos_x = 2 \n",
      " pos_y =  2 \n",
      " dis_x =  nan \n",
      " dis_y =  nan \n",
      " f_x =  1 \n",
      " f_y =  -2\n"
     ]
    },
    {
     "data": {
      "text/plain": [
       "0"
      ]
     },
     "execution_count": 5,
     "metadata": {},
     "output_type": "execute_result"
    }
   ],
   "source": [
    "node1.print()\n",
    "node2.print()\n",
    "node3.print()"
   ]
  },
  {
   "cell_type": "code",
   "execution_count": 6,
   "metadata": {},
   "outputs": [],
   "source": [
    "#define elements\n",
    "\n",
    "ele1 = ele(1,1,1, 1 , 0 , 1 , 2)\n",
    "ele2 = ele(2,1,1, 1 , math.pi / 2 , 2 , 3)\n",
    "ele3 = ele(3,1*math.sqrt(2),1, 1, math.pi / 4 , 1 , 3)\n"
   ]
  },
  {
   "cell_type": "code",
   "execution_count": null,
   "metadata": {},
   "outputs": [],
   "source": []
  },
  {
   "cell_type": "code",
   "execution_count": 7,
   "metadata": {},
   "outputs": [
    {
     "name": "stdout",
     "output_type": "stream",
     "text": [
      "num =  1 \n",
      " length= 1 \n",
      " area =  1 \n",
      " youngs modulus =  1 \n",
      " theta =  0 \n",
      " node_a =  1 \n",
      " node_b =  2\n",
      "num =  2 \n",
      " length= 1 \n",
      " area =  1 \n",
      " youngs modulus =  1 \n",
      " theta =  1.5707963267948966 \n",
      " node_a =  2 \n",
      " node_b =  3\n",
      "num =  3 \n",
      " length= 1.4142135623730951 \n",
      " area =  1 \n",
      " youngs modulus =  1 \n",
      " theta =  0.7853981633974483 \n",
      " node_a =  1 \n",
      " node_b =  3\n"
     ]
    },
    {
     "data": {
      "text/plain": [
       "0"
      ]
     },
     "execution_count": 7,
     "metadata": {},
     "output_type": "execute_result"
    }
   ],
   "source": [
    "ele1.print()\n",
    "ele2.print()\n",
    "ele3.print()"
   ]
  },
  {
   "cell_type": "code",
   "execution_count": 8,
   "metadata": {},
   "outputs": [
    {
     "name": "stdout",
     "output_type": "stream",
     "text": [
      "[[ 1.  0. -1. -0.]\n",
      " [ 0.  0. -0. -0.]\n",
      " [-1. -0.  1.  0.]\n",
      " [-0. -0.  0.  0.]]\n",
      "[[ 3.74939946e-33  6.12323400e-17 -3.74939946e-33 -6.12323400e-17]\n",
      " [ 6.12323400e-17  1.00000000e+00 -6.12323400e-17 -1.00000000e+00]\n",
      " [-3.74939946e-33 -6.12323400e-17  3.74939946e-33  6.12323400e-17]\n",
      " [-6.12323400e-17 -1.00000000e+00  6.12323400e-17  1.00000000e+00]]\n",
      "[[ 0.35355339  0.35355339 -0.35355339 -0.35355339]\n",
      " [ 0.35355339  0.35355339 -0.35355339 -0.35355339]\n",
      " [-0.35355339 -0.35355339  0.35355339  0.35355339]\n",
      " [-0.35355339 -0.35355339  0.35355339  0.35355339]]\n"
     ]
    }
   ],
   "source": [
    "#generating stiffness matrix for all elements\n",
    "\n",
    "print(ele1.stiff())\n",
    "print(ele2.stiff())\n",
    "print(ele3.stiff())\n"
   ]
  },
  {
   "cell_type": "code",
   "execution_count": 9,
   "metadata": {},
   "outputs": [],
   "source": [
    "#list of nodes and elements\n",
    "nodes = [node1 , node2 , node3]\n",
    "eles = [ele1 , ele2 ,ele3]\n"
   ]
  },
  {
   "cell_type": "code",
   "execution_count": 24,
   "metadata": {},
   "outputs": [
    {
     "data": {
      "text/plain": [
       "[array([[ 1.,  0., -1., -0.],\n",
       "        [ 0.,  0., -0., -0.],\n",
       "        [-1., -0.,  1.,  0.],\n",
       "        [-0., -0.,  0.,  0.]]),\n",
       " array([[ 3.74939946e-33,  6.12323400e-17, -3.74939946e-33,\n",
       "         -6.12323400e-17],\n",
       "        [ 6.12323400e-17,  1.00000000e+00, -6.12323400e-17,\n",
       "         -1.00000000e+00],\n",
       "        [-3.74939946e-33, -6.12323400e-17,  3.74939946e-33,\n",
       "          6.12323400e-17],\n",
       "        [-6.12323400e-17, -1.00000000e+00,  6.12323400e-17,\n",
       "          1.00000000e+00]]),\n",
       " array([[ 0.35355339,  0.35355339, -0.35355339, -0.35355339],\n",
       "        [ 0.35355339,  0.35355339, -0.35355339, -0.35355339],\n",
       "        [-0.35355339, -0.35355339,  0.35355339,  0.35355339],\n",
       "        [-0.35355339, -0.35355339,  0.35355339,  0.35355339]])]"
      ]
     },
     "execution_count": 24,
     "metadata": {},
     "output_type": "execute_result"
    }
   ],
   "source": [
    "#generate global stiffness matrix \n",
    "dim =2* 3\n",
    "SMs = [e.stiff() for e in eles]\n",
    "    \n",
    "#     GK = np.zeros((dim,dim))\n",
    "#     for i in range(1,dim+1):\n",
    "#         for j in range(1,dim + 1):\n",
    "#             for k in range(0 , num_nodes):\n",
    "#                 e = eles[k]\n",
    "#                 if e.node_a == math.ceil(i/2):\n",
    "#                     if e.node_a == math.ceil(j/2):\n",
    "#                         GK[i-1][j-1] += SMs[k][(i+1)%2][(j+1)%2]\n",
    "#                     if e.node_b == math.ceil(j/2):\n",
    "#                         GK[i-1][j-1] += SMs[k][i%2][2+(j+1)%2]\n",
    "#                 if e.node_b == math.ceil(i/2):\n",
    "#                     if e.node_a == math.ceil(j/2):\n",
    "#                         GK[i-1][j-1] += SMs[k][2+(i+1)%2][j%2]\n",
    "#                     if e.node_b == math.ceil(j/2):\n",
    "#                         GK[i-1][j-1] += SMs[k][2+(i+1)%2][2+(j+1)%2]\n",
    "#     return GK\n",
    "\n",
    "SMs\n",
    "            \n",
    "    "
   ]
  },
  {
   "cell_type": "code",
   "execution_count": 11,
   "metadata": {},
   "outputs": [
    {
     "data": {
      "text/plain": [
       "array([[ 1.35355339e+00,  3.53553391e-01,  0.00000000e+00,\n",
       "         0.00000000e+00, -3.53553391e-01, -3.53553391e-01],\n",
       "       [ 3.53553391e-01,  3.53553391e-01, -1.00000000e+00,\n",
       "         0.00000000e+00, -3.53553391e-01, -3.53553391e-01],\n",
       "       [ 0.00000000e+00, -1.00000000e+00,  1.00000000e+00,\n",
       "         6.12323400e-17, -6.12323400e-17, -1.00000000e+00],\n",
       "       [ 0.00000000e+00,  0.00000000e+00,  6.12323400e-17,\n",
       "         1.00000000e+00, -3.74939946e-33, -6.12323400e-17],\n",
       "       [-3.53553391e-01, -3.53553391e-01, -6.12323400e-17,\n",
       "        -3.74939946e-33,  3.53553391e-01,  3.53553391e-01],\n",
       "       [-3.53553391e-01, -3.53553391e-01, -1.00000000e+00,\n",
       "        -6.12323400e-17,  3.53553391e-01,  1.35355339e+00]])"
      ]
     },
     "execution_count": 11,
     "metadata": {},
     "output_type": "execute_result"
    }
   ],
   "source": [
    "GK = globalstiff(eles , 3)\n",
    "GK"
   ]
  },
  {
   "cell_type": "code",
   "execution_count": 12,
   "metadata": {},
   "outputs": [
    {
     "name": "stdout",
     "output_type": "stream",
     "text": [
      "[ 0.  0.  0.  0. nan nan]\n",
      "[nan nan nan nan  1. -2.]\n"
     ]
    }
   ],
   "source": [
    "#create vector for node_dis and external_forces\n",
    "\n",
    "dis_list = []\n",
    "for n in nodes:\n",
    "    dis_list.append(n.dis_x)\n",
    "    dis_list.append(n.dis_y)\n",
    "    \n",
    "dis = np.array(dis_list)\n",
    "print(dis)\n",
    "\n",
    "f_list = []\n",
    "for n in nodes:\n",
    "    f_list.append(n.f_x)\n",
    "    f_list.append(n.f_y)\n",
    "    \n",
    "f = np.array(f_list)\n",
    "print(f)\n"
   ]
  },
  {
   "cell_type": "code",
   "execution_count": 13,
   "metadata": {},
   "outputs": [
    {
     "name": "stdout",
     "output_type": "stream",
     "text": [
      "[0, 1, 2, 3]\n",
      "[4, 5]\n",
      "[[0.35355339 0.35355339]\n",
      " [0.35355339 1.35355339]]\n",
      "[ 1. -2.]\n"
     ]
    }
   ],
   "source": [
    "#check for undetermined values in force and create linear eqns\n",
    "\n",
    "GK_dis =  copy.deepcopy(GK)\n",
    "f_dis =  copy.deepcopy(f)\n",
    "\n",
    "del_row = []\n",
    "index_list = list(range(0,2*len(nodes)))\n",
    "for i in range(0,2*len(nodes)):\n",
    "    if dis_list[i] == 0:\n",
    "        del_row.append(i)\n",
    "        index_list.remove(i)\n",
    "        \n",
    "print(del_row)\n",
    "print(index_list)\n",
    "        \n",
    "GK_dis = np.delete(GK_dis,del_row,0)\n",
    "GK_dis = np.delete(GK_dis,del_row,1)\n",
    "f_dis = np.delete(f_dis,del_row,0)\n",
    "    \n",
    "print(GK_dis)\n",
    "print(f_dis)\n"
   ]
  },
  {
   "cell_type": "code",
   "execution_count": 14,
   "metadata": {},
   "outputs": [
    {
     "data": {
      "text/plain": [
       "array([ 5.82842712, -3.        ])"
      ]
     },
     "execution_count": 14,
     "metadata": {},
     "output_type": "execute_result"
    }
   ],
   "source": [
    "ans_dis = np.linalg.solve(GK_dis , f_dis)\n",
    "ans_dis"
   ]
  },
  {
   "cell_type": "code",
   "execution_count": 15,
   "metadata": {},
   "outputs": [
    {
     "data": {
      "text/plain": [
       "array([ 0.        ,  0.        ,  0.        ,  0.        ,  5.82842712,\n",
       "       -3.        ])"
      ]
     },
     "execution_count": 15,
     "metadata": {},
     "output_type": "execute_result"
    }
   ],
   "source": [
    "for i in range(0 , len(ans_dis)):\n",
    "    dis[index_list[i]] = ans_dis[i]\n",
    "dis"
   ]
  },
  {
   "cell_type": "code",
   "execution_count": 16,
   "metadata": {},
   "outputs": [
    {
     "data": {
      "text/plain": [
       "array([-1.0000000e+00, -1.0000000e+00,  3.0000000e+00,  1.8369702e-16,\n",
       "        1.0000000e+00, -2.0000000e+00])"
      ]
     },
     "execution_count": 16,
     "metadata": {},
     "output_type": "execute_result"
    }
   ],
   "source": [
    "ans_force = np.dot(GK,dis)\n",
    "ans_force"
   ]
  }
 ],
 "metadata": {
  "kernelspec": {
   "display_name": "Python 3 (ipykernel)",
   "language": "python",
   "name": "python3"
  },
  "language_info": {
   "codemirror_mode": {
    "name": "ipython",
    "version": 3
   },
   "file_extension": ".py",
   "mimetype": "text/x-python",
   "name": "python",
   "nbconvert_exporter": "python",
   "pygments_lexer": "ipython3",
   "version": "3.9.5"
  }
 },
 "nbformat": 4,
 "nbformat_minor": 4
}
