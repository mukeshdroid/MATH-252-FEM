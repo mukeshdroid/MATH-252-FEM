{
 "cells": [
  {
   "cell_type": "markdown",
   "metadata": {},
   "source": [
    "Implementating fem for verifying joint method in a truss (adding values)\n",
    "\n"
   ]
  },
  {
   "cell_type": "markdown",
   "metadata": {},
   "source": [
    "![](joint2ndexample.jpg)"
   ]
  },
  {
   "cell_type": "code",
   "execution_count": 38,
   "metadata": {},
   "outputs": [],
   "source": [
    "import math\n",
    "import numpy as np\n",
    "import copy"
   ]
  },
  {
   "cell_type": "code",
   "execution_count": 39,
   "metadata": {},
   "outputs": [],
   "source": [
    "#import classes for nodes and elements\n",
    "from node import node\n",
    "from ele import ele"
   ]
  },
  {
   "cell_type": "code",
   "execution_count": 40,
   "metadata": {},
   "outputs": [
    {
     "name": "stdout",
     "output_type": "stream",
     "text": [
      "Help on class node in module node:\n",
      "\n",
      "class node(builtins.object)\n",
      " |  node(num, pos_x, pos_y, dis_x, dis_y, f_x, f_y)\n",
      " |  \n",
      " |  Methods defined here:\n",
      " |  \n",
      " |  __init__(self, num, pos_x, pos_y, dis_x, dis_y, f_x, f_y)\n",
      " |      Initialize self.  See help(type(self)) for accurate signature.\n",
      " |  \n",
      " |  print(self)\n",
      " |  \n",
      " |  ----------------------------------------------------------------------\n",
      " |  Data descriptors defined here:\n",
      " |  \n",
      " |  __dict__\n",
      " |      dictionary for instance variables (if defined)\n",
      " |  \n",
      " |  __weakref__\n",
      " |      list of weak references to the object (if defined)\n",
      "\n"
     ]
    }
   ],
   "source": [
    "help(node)"
   ]
  },
  {
   "cell_type": "code",
   "execution_count": 41,
   "metadata": {},
   "outputs": [],
   "source": [
    "#define nodes along with boundary conditions\n",
    "node1 = node(1,0,0,0,0,10,45.185)\n",
    "node2 = node(2,0,0,np.nan,np.nan,0,-50)\n",
    "node3 = node(3,0,0,np.nan,np.nan,0,104.815)\n",
    "node4 = node(4,0,0,np.nan,np.nan,-10,-50)\n",
    "node5 = node(5,0,0,np.nan,np.nan,0,-50)\n"
   ]
  },
  {
   "cell_type": "code",
   "execution_count": 42,
   "metadata": {},
   "outputs": [
    {
     "name": "stdout",
     "output_type": "stream",
     "text": [
      "num =  1 \n",
      " pos_x = 0 \n",
      " pos_y =  0 \n",
      " dis_x =  0 \n",
      " dis_y =  0 \n",
      " f_x =  10 \n",
      " f_y =  45.185\n",
      "num =  2 \n",
      " pos_x = 0 \n",
      " pos_y =  0 \n",
      " dis_x =  nan \n",
      " dis_y =  nan \n",
      " f_x =  0 \n",
      " f_y =  -50\n",
      "num =  3 \n",
      " pos_x = 0 \n",
      " pos_y =  0 \n",
      " dis_x =  nan \n",
      " dis_y =  nan \n",
      " f_x =  0 \n",
      " f_y =  104.815\n",
      "num =  4 \n",
      " pos_x = 0 \n",
      " pos_y =  0 \n",
      " dis_x =  nan \n",
      " dis_y =  nan \n",
      " f_x =  -10 \n",
      " f_y =  -50\n",
      "num =  5 \n",
      " pos_x = 0 \n",
      " pos_y =  0 \n",
      " dis_x =  nan \n",
      " dis_y =  nan \n",
      " f_x =  0 \n",
      " f_y =  -50\n"
     ]
    },
    {
     "data": {
      "text/plain": [
       "0"
      ]
     },
     "execution_count": 42,
     "metadata": {},
     "output_type": "execute_result"
    }
   ],
   "source": [
    "node1.print()\n",
    "node2.print()\n",
    "node3.print()\n",
    "node4.print()\n",
    "node5.print()\n"
   ]
  },
  {
   "cell_type": "code",
   "execution_count": 43,
   "metadata": {},
   "outputs": [
    {
     "name": "stdout",
     "output_type": "stream",
     "text": [
      "Help on class ele in module ele:\n",
      "\n",
      "class ele(builtins.object)\n",
      " |  ele(num, length, area, ym, theta, node_a, node_b)\n",
      " |  \n",
      " |  Methods defined here:\n",
      " |  \n",
      " |  __init__(self, num, length, area, ym, theta, node_a, node_b)\n",
      " |      Initialize self.  See help(type(self)) for accurate signature.\n",
      " |  \n",
      " |  print(self)\n",
      " |  \n",
      " |  stiff(self)\n",
      " |  \n",
      " |  ----------------------------------------------------------------------\n",
      " |  Data descriptors defined here:\n",
      " |  \n",
      " |  __dict__\n",
      " |      dictionary for instance variables (if defined)\n",
      " |  \n",
      " |  __weakref__\n",
      " |      list of weak references to the object (if defined)\n",
      "\n"
     ]
    }
   ],
   "source": [
    "help(ele)\n"
   ]
  },
  {
   "cell_type": "code",
   "execution_count": 44,
   "metadata": {},
   "outputs": [],
   "source": [
    "#define elements\n",
    "\n",
    "ele1 = ele(1,2,1, 1 , 0, 1 , 2)\n",
    "ele2 = ele(2,2,1, 1 , 0, 2 , 3)\n",
    "ele3 = ele(3,1.4559,1, 1, math.pi / 2, 4, 3)\n",
    "ele4 = ele(4,2.1284,1, 1, 11*math.pi/18, 5, 4)\n",
    "ele5 = ele(5, 2.1284, 1,1 ,math.pi/9, 6, 5)\n",
    "ele6 = ele(6, 0.7280, 1, 1, math.pi/2, 5, 2)\n",
    "ele7 = ele(7, 2.4738,1,1, 36.05*math.pi/180, 4, 2)\n"
   ]
  },
  {
   "cell_type": "code",
   "execution_count": 45,
   "metadata": {},
   "outputs": [
    {
     "name": "stdout",
     "output_type": "stream",
     "text": [
      "num =  1 \n",
      " length= 2 \n",
      " area =  1 \n",
      " youngs modulus =  1 \n",
      " theta =  0 \n",
      " node_a =  1 \n",
      " node_b =  2\n",
      "num =  2 \n",
      " length= 2 \n",
      " area =  1 \n",
      " youngs modulus =  1 \n",
      " theta =  0 \n",
      " node_a =  2 \n",
      " node_b =  3\n",
      "num =  3 \n",
      " length= 1.4559 \n",
      " area =  1 \n",
      " youngs modulus =  1 \n",
      " theta =  1.5707963267948966 \n",
      " node_a =  4 \n",
      " node_b =  3\n",
      "num =  4 \n",
      " length= 2.1284 \n",
      " area =  1 \n",
      " youngs modulus =  1 \n",
      " theta =  1.9198621771937623 \n",
      " node_a =  5 \n",
      " node_b =  4\n",
      "num =  5 \n",
      " length= 2.1284 \n",
      " area =  1 \n",
      " youngs modulus =  1 \n",
      " theta =  0.3490658503988659 \n",
      " node_a =  6 \n",
      " node_b =  5\n",
      "num =  6 \n",
      " length= 0.728 \n",
      " area =  1 \n",
      " youngs modulus =  1 \n",
      " theta =  1.5707963267948966 \n",
      " node_a =  5 \n",
      " node_b =  2\n",
      "num =  7 \n",
      " length= 2.4738 \n",
      " area =  1 \n",
      " youngs modulus =  1 \n",
      " theta =  0.6291911953439557 \n",
      " node_a =  4 \n",
      " node_b =  2\n"
     ]
    },
    {
     "data": {
      "text/plain": [
       "0"
      ]
     },
     "execution_count": 45,
     "metadata": {},
     "output_type": "execute_result"
    }
   ],
   "source": [
    "ele1.print()\n",
    "ele2.print()\n",
    "ele3.print()\n",
    "ele4.print()\n",
    "ele5.print()\n",
    "ele6.print()\n",
    "ele7.print()\n"
   ]
  },
  {
   "cell_type": "code",
   "execution_count": 46,
   "metadata": {},
   "outputs": [
    {
     "name": "stdout",
     "output_type": "stream",
     "text": [
      "[[ 0.5  0.  -0.5 -0. ]\n",
      " [ 0.   0.  -0.  -0. ]\n",
      " [-0.5 -0.   0.5  0. ]\n",
      " [-0.  -0.   0.   0. ]]\n",
      "[[ 0.5  0.  -0.5 -0. ]\n",
      " [ 0.   0.  -0.  -0. ]\n",
      " [-0.5 -0.   0.5  0. ]\n",
      " [-0.  -0.   0.   0. ]]\n",
      "[[ 2.57531387e-33  4.20580671e-17 -2.57531387e-33 -4.20580671e-17]\n",
      " [ 4.20580671e-17  6.86860361e-01 -4.20580671e-17 -6.86860361e-01]\n",
      " [-2.57531387e-33 -4.20580671e-17  2.57531387e-33  4.20580671e-17]\n",
      " [-4.20580671e-17 -6.86860361e-01  4.20580671e-17  6.86860361e-01]]\n",
      "[[ 0.05496043 -0.15100254 -0.05496043  0.15100254]\n",
      " [-0.15100254  0.41487607  0.15100254 -0.41487607]\n",
      " [-0.05496043  0.15100254  0.05496043 -0.15100254]\n",
      " [ 0.15100254 -0.41487607 -0.15100254  0.41487607]]\n",
      "[[ 0.41487607  0.15100254 -0.41487607 -0.15100254]\n",
      " [ 0.15100254  0.05496043 -0.15100254 -0.05496043]\n",
      " [-0.41487607 -0.15100254  0.41487607  0.15100254]\n",
      " [-0.15100254 -0.05496043  0.15100254  0.05496043]]\n",
      "[[ 5.15027398e-33  8.41103571e-17 -5.15027398e-33 -8.41103571e-17]\n",
      " [ 8.41103571e-17  1.37362637e+00 -8.41103571e-17 -1.37362637e+00]\n",
      " [-5.15027398e-33 -8.41103571e-17  5.15027398e-33  8.41103571e-17]\n",
      " [-8.41103571e-17 -1.37362637e+00  8.41103571e-17  1.37362637e+00]]\n",
      "[[ 0.26424056  0.19233455 -0.26424056 -0.19233455]\n",
      " [ 0.19233455  0.13999583 -0.19233455 -0.13999583]\n",
      " [-0.26424056 -0.19233455  0.26424056  0.19233455]\n",
      " [-0.19233455 -0.13999583  0.19233455  0.13999583]]\n"
     ]
    }
   ],
   "source": [
    "#generating stiffness matrix for all elements\n",
    "\n",
    "print(ele1.stiff())\n",
    "print(ele2.stiff())\n",
    "print(ele3.stiff())\n",
    "print(ele4.stiff())\n",
    "print(ele5.stiff())\n",
    "print(ele6.stiff())\n",
    "print(ele7.stiff())\n",
    "\n"
   ]
  },
  {
   "cell_type": "code",
   "execution_count": 47,
   "metadata": {},
   "outputs": [],
   "source": [
    "#list of nodes and elements\n",
    "nodes = [node1 , node2 , node3  ,node4, node5]\n",
    "eles = [ele1 , ele2 ,ele3, ele4, ele5, ele6, ele7]\n"
   ]
  },
  {
   "cell_type": "code",
   "execution_count": 48,
   "metadata": {},
   "outputs": [],
   "source": [
    "#generate global stiffness matrix \n",
    "\n",
    "def globalstiff(eles , num_nodes):\n",
    "    #dimension of global matrix\n",
    "    dim = 2 * num_nodes\n",
    "    #generate and store the element-wise stiffness matrices\n",
    "    SMs = [e.stiff() for e in eles]\n",
    "    \n",
    "    GK = np.zeros((dim,dim))\n",
    "    for i in range(1,dim+1):\n",
    "        for j in range(1,dim + 1):\n",
    "            for k in range(0 , num_nodes):\n",
    "                e = eles[k]\n",
    "                if e.node_a == math.ceil(i/2):\n",
    "                    if e.node_a == math.ceil(j/2):\n",
    "                        GK[i-1][j-1] += SMs[k][(i+1)%2][(j+1)%2]\n",
    "                    if e.node_b == math.ceil(j/2):\n",
    "                        GK[i-1][j-1] += SMs[k][i%2][2+(j+1)%2]\n",
    "                if e.node_b == math.ceil(i/2):\n",
    "                    if e.node_a == math.ceil(j/2):\n",
    "                        GK[i-1][j-1] += SMs[k][2+(i+1)%2][j%2]\n",
    "                    if e.node_b == math.ceil(j/2):\n",
    "                        GK[i-1][j-1] += SMs[k][2+(i+1)%2][2+(j+1)%2]\n",
    "    return GK\n",
    "            \n",
    "    "
   ]
  },
  {
   "cell_type": "code",
   "execution_count": 49,
   "metadata": {},
   "outputs": [
    {
     "data": {
      "text/plain": [
       "array([[ 5.00000000e-01,  0.00000000e+00,  0.00000000e+00,\n",
       "         0.00000000e+00,  0.00000000e+00,  0.00000000e+00,\n",
       "         0.00000000e+00,  0.00000000e+00,  0.00000000e+00,\n",
       "         0.00000000e+00],\n",
       "       [ 0.00000000e+00,  0.00000000e+00, -5.00000000e-01,\n",
       "         0.00000000e+00,  0.00000000e+00,  0.00000000e+00,\n",
       "         0.00000000e+00,  0.00000000e+00,  0.00000000e+00,\n",
       "         0.00000000e+00],\n",
       "       [ 0.00000000e+00, -5.00000000e-01,  1.00000000e+00,\n",
       "         0.00000000e+00,  0.00000000e+00,  0.00000000e+00,\n",
       "         0.00000000e+00,  0.00000000e+00,  0.00000000e+00,\n",
       "         0.00000000e+00],\n",
       "       [ 0.00000000e+00,  0.00000000e+00,  0.00000000e+00,\n",
       "         0.00000000e+00, -5.00000000e-01,  0.00000000e+00,\n",
       "         0.00000000e+00,  0.00000000e+00,  0.00000000e+00,\n",
       "         0.00000000e+00],\n",
       "       [ 0.00000000e+00,  0.00000000e+00,  0.00000000e+00,\n",
       "        -5.00000000e-01,  5.00000000e-01,  4.20580671e-17,\n",
       "        -4.20580671e-17, -2.57531387e-33,  0.00000000e+00,\n",
       "         0.00000000e+00],\n",
       "       [ 0.00000000e+00,  0.00000000e+00,  0.00000000e+00,\n",
       "         0.00000000e+00,  4.20580671e-17,  6.86860361e-01,\n",
       "        -6.86860361e-01, -4.20580671e-17,  0.00000000e+00,\n",
       "         0.00000000e+00],\n",
       "       [ 0.00000000e+00,  0.00000000e+00,  0.00000000e+00,\n",
       "         0.00000000e+00, -4.20580671e-17, -6.86860361e-01,\n",
       "         5.49604296e-02, -1.51002539e-01,  1.51002539e-01,\n",
       "        -5.49604296e-02],\n",
       "       [ 0.00000000e+00,  0.00000000e+00,  0.00000000e+00,\n",
       "         0.00000000e+00, -2.57531387e-33, -4.20580671e-17,\n",
       "        -1.51002539e-01,  1.10173643e+00, -4.14876067e-01,\n",
       "         1.51002539e-01],\n",
       "       [ 0.00000000e+00,  0.00000000e+00,  0.00000000e+00,\n",
       "         0.00000000e+00,  0.00000000e+00,  0.00000000e+00,\n",
       "         1.51002539e-01, -4.14876067e-01,  4.69836497e-01,\n",
       "         1.11022302e-16],\n",
       "       [ 0.00000000e+00,  0.00000000e+00,  0.00000000e+00,\n",
       "         0.00000000e+00,  0.00000000e+00,  0.00000000e+00,\n",
       "        -5.49604296e-02,  1.51002539e-01,  1.11022302e-16,\n",
       "         4.69836497e-01]])"
      ]
     },
     "execution_count": 49,
     "metadata": {},
     "output_type": "execute_result"
    }
   ],
   "source": [
    "GK = globalstiff(eles , len(nodes))\n",
    "GK"
   ]
  },
  {
   "cell_type": "code",
   "execution_count": 50,
   "metadata": {},
   "outputs": [
    {
     "name": "stdout",
     "output_type": "stream",
     "text": [
      "[ 0.  0. nan nan nan nan nan nan nan nan]\n",
      "[ 10.     45.185   0.    -50.      0.    104.815 -10.    -50.      0.\n",
      " -50.   ]\n"
     ]
    }
   ],
   "source": [
    "#create vector for node_dis and external_forces\n",
    "\n",
    "dis_list = []\n",
    "for n in nodes:\n",
    "    dis_list.append(n.dis_x)\n",
    "    dis_list.append(n.dis_y)\n",
    "    \n",
    "dis = np.array(dis_list)\n",
    "print(dis)\n",
    "\n",
    "f_list = []\n",
    "for n in nodes:\n",
    "    f_list.append(n.f_x)\n",
    "    f_list.append(n.f_y)\n",
    "    \n",
    "f = np.array(f_list)\n",
    "print(f)\n"
   ]
  },
  {
   "cell_type": "code",
   "execution_count": 51,
   "metadata": {},
   "outputs": [
    {
     "name": "stdout",
     "output_type": "stream",
     "text": [
      "[0, 1]\n",
      "[2, 3, 4, 5, 6, 7, 8, 9]\n",
      "[[ 1.00000000e+00  0.00000000e+00  0.00000000e+00  0.00000000e+00\n",
      "   0.00000000e+00  0.00000000e+00  0.00000000e+00  0.00000000e+00]\n",
      " [ 0.00000000e+00  0.00000000e+00 -5.00000000e-01  0.00000000e+00\n",
      "   0.00000000e+00  0.00000000e+00  0.00000000e+00  0.00000000e+00]\n",
      " [ 0.00000000e+00 -5.00000000e-01  5.00000000e-01  4.20580671e-17\n",
      "  -4.20580671e-17 -2.57531387e-33  0.00000000e+00  0.00000000e+00]\n",
      " [ 0.00000000e+00  0.00000000e+00  4.20580671e-17  6.86860361e-01\n",
      "  -6.86860361e-01 -4.20580671e-17  0.00000000e+00  0.00000000e+00]\n",
      " [ 0.00000000e+00  0.00000000e+00 -4.20580671e-17 -6.86860361e-01\n",
      "   5.49604296e-02 -1.51002539e-01  1.51002539e-01 -5.49604296e-02]\n",
      " [ 0.00000000e+00  0.00000000e+00 -2.57531387e-33 -4.20580671e-17\n",
      "  -1.51002539e-01  1.10173643e+00 -4.14876067e-01  1.51002539e-01]\n",
      " [ 0.00000000e+00  0.00000000e+00  0.00000000e+00  0.00000000e+00\n",
      "   1.51002539e-01 -4.14876067e-01  4.69836497e-01  1.11022302e-16]\n",
      " [ 0.00000000e+00  0.00000000e+00  0.00000000e+00  0.00000000e+00\n",
      "  -5.49604296e-02  1.51002539e-01  1.11022302e-16  4.69836497e-01]]\n",
      "[  0.    -50.      0.    104.815 -10.    -50.      0.    -50.   ]\n"
     ]
    }
   ],
   "source": [
    "#check for undetermined values in force and create linear eqns\n",
    "\n",
    "GK_dis =  copy.deepcopy(GK)\n",
    "f_dis =  copy.deepcopy(f)\n",
    "\n",
    "del_row = []\n",
    "index_list = list(range(0,2*len(nodes)))\n",
    "for i in range(0,2*len(nodes)):\n",
    "    if dis_list[i] == 0:\n",
    "        del_row.append(i)\n",
    "        index_list.remove(i)\n",
    "        \n",
    "print(del_row)\n",
    "print(index_list)\n",
    "        \n",
    "GK_dis = np.delete(GK_dis,del_row,0)\n",
    "GK_dis = np.delete(GK_dis,del_row,1)\n",
    "f_dis = np.delete(f_dis,del_row,0)\n",
    "    \n",
    "print(GK_dis)\n",
    "print(f_dis)\n"
   ]
  },
  {
   "cell_type": "code",
   "execution_count": 52,
   "metadata": {},
   "outputs": [
    {
     "data": {
      "text/plain": [
       "array([   0.        ,  100.        ,  100.        ,   23.07439738,\n",
       "       -129.52576112,  -49.39913798,   -1.99175937, -105.69505888])"
      ]
     },
     "execution_count": 52,
     "metadata": {},
     "output_type": "execute_result"
    }
   ],
   "source": [
    "ans_dis = np.linalg.solve(GK_dis , f_dis)\n",
    "ans_dis"
   ]
  },
  {
   "cell_type": "code",
   "execution_count": 53,
   "metadata": {},
   "outputs": [
    {
     "data": {
      "text/plain": [
       "array([   0.        ,    0.        ,    0.        ,  100.        ,\n",
       "        100.        ,   23.07439738, -129.52576112,  -49.39913798,\n",
       "         -1.99175937, -105.69505888])"
      ]
     },
     "execution_count": 53,
     "metadata": {},
     "output_type": "execute_result"
    }
   ],
   "source": [
    "for i in range(0 , len(ans_dis)):\n",
    "    dis[index_list[i]] = ans_dis[i]\n",
    "dis"
   ]
  },
  {
   "cell_type": "code",
   "execution_count": 54,
   "metadata": {},
   "outputs": [
    {
     "data": {
      "text/plain": [
       "array([ 0.00000000e+00,  0.00000000e+00,  0.00000000e+00, -5.00000000e+01,\n",
       "        0.00000000e+00,  1.04815000e+02, -1.00000000e+01, -5.00000000e+01,\n",
       "        2.77555756e-15, -5.00000000e+01])"
      ]
     },
     "execution_count": 54,
     "metadata": {},
     "output_type": "execute_result"
    }
   ],
   "source": [
    "ans_force = np.dot(GK,dis)\n",
    "ans_force"
   ]
  }
 ],
 "metadata": {
  "kernelspec": {
   "display_name": "Python 3",
   "language": "python",
   "name": "python3"
  },
  "language_info": {
   "codemirror_mode": {
    "name": "ipython",
    "version": 3
   },
   "file_extension": ".py",
   "mimetype": "text/x-python",
   "name": "python",
   "nbconvert_exporter": "python",
   "pygments_lexer": "ipython3",
   "version": "3.8.10"
  }
 },
 "nbformat": 4,
 "nbformat_minor": 4
}
