{
 "cells": [
  {
   "cell_type": "code",
   "execution_count": 1,
   "metadata": {},
   "outputs": [],
   "source": [
    "import ele\n",
    "import node\n",
    "import turtle"
   ]
  },
  {
   "cell_type": "code",
   "execution_count": 2,
   "metadata": {},
   "outputs": [],
   "source": [
    "node1 = node.nodep(1,-4,0)\n",
    "node2 = node.nodep(2,-2,0)\n",
    "node3 = node.nodep(3,0,0)\n",
    "node4 = node.nodep(4,2,0)\n",
    "node5 = node.nodep(5,4,0)\n",
    "node6 = node.nodep(6,4,2.9118)\n",
    "node7 = node.nodep(7,2,2.1842)\n",
    "node8 = node.nodep(8,0,1.4561)\n",
    "node9 = node.nodep(9,-2,0.7280)\n",
    "\n",
    "nodes = [node1,node2,node3,node4,node5,node6,node7,node8,node9,node1]\n",
    "\n",
    "ele1  = ele.elep(1, node1, node2)\n",
    "ele2  = ele.elep(2, node2, node3)\n",
    "ele3  = ele.elep(3, node3, node4)\n",
    "ele4  = ele.elep(4, node4, node5)\n",
    "ele5  = ele.elep(5, node5, node6)\n",
    "ele6  = ele.elep(6, node6, node7)\n",
    "ele7  = ele.elep(7, node7, node8)\n",
    "ele8  = ele.elep(8, node8, node9)\n",
    "ele9  = ele.elep(9, node9, node1)\n",
    "ele10 = ele.elep(10, node2, node9)\n",
    "ele11 = ele.elep(11, node2, node8)\n",
    "ele12 = ele.elep(12, node3, node8)\n",
    "ele13 = ele.elep(13, node4, node8)\n",
    "ele14 = ele.elep(14, node4, node7)\n",
    "ele15 = ele.elep(15, node4, node6)\n",
    "\n",
    "eles = [ele1, ele2, ele3, ele4, ele5, ele6, ele7, ele8, ele9, ele10, ele11, ele12, ele13, ele14, ele15]"
   ]
  },
  {
   "cell_type": "code",
   "execution_count": 3,
   "metadata": {},
   "outputs": [
    {
     "ename": "TclError",
     "evalue": "invalid command name \".!canvas\"",
     "output_type": "error",
     "traceback": [
      "\u001b[0;31m---------------------------------------------------------------------------\u001b[0m",
      "\u001b[0;31mTclError\u001b[0m                                  Traceback (most recent call last)",
      "Input \u001b[0;32mIn [3]\u001b[0m, in \u001b[0;36m<module>\u001b[0;34m\u001b[0m\n\u001b[1;32m      6\u001b[0m t\u001b[38;5;241m.\u001b[39mpencolor(\u001b[38;5;124m\"\u001b[39m\u001b[38;5;124mblue\u001b[39m\u001b[38;5;124m\"\u001b[39m)\n\u001b[1;32m      8\u001b[0m \u001b[38;5;28;01mfor\u001b[39;00m ele \u001b[38;5;129;01min\u001b[39;00m eles:\n\u001b[0;32m----> 9\u001b[0m     \u001b[43mt\u001b[49m\u001b[38;5;241;43m.\u001b[39;49m\u001b[43mgoto\u001b[49m\u001b[43m(\u001b[49m\u001b[43mele\u001b[49m\u001b[38;5;241;43m.\u001b[39;49m\u001b[43mnode_a\u001b[49m\u001b[38;5;241;43m.\u001b[39;49m\u001b[43mpos_x\u001b[49m\u001b[38;5;241;43m*\u001b[39;49m\u001b[38;5;241;43m70\u001b[39;49m\u001b[43m,\u001b[49m\u001b[43m \u001b[49m\u001b[43mele\u001b[49m\u001b[38;5;241;43m.\u001b[39;49m\u001b[43mnode_a\u001b[49m\u001b[38;5;241;43m.\u001b[39;49m\u001b[43mpos_y\u001b[49m\u001b[38;5;241;43m*\u001b[39;49m\u001b[38;5;241;43m70\u001b[39;49m\u001b[43m)\u001b[49m\n\u001b[1;32m     10\u001b[0m     t\u001b[38;5;241m.\u001b[39mgoto(ele\u001b[38;5;241m.\u001b[39mnode_b\u001b[38;5;241m.\u001b[39mpos_x\u001b[38;5;241m*\u001b[39m\u001b[38;5;241m70\u001b[39m, ele\u001b[38;5;241m.\u001b[39mnode_b\u001b[38;5;241m.\u001b[39mpos_y\u001b[38;5;241m*\u001b[39m\u001b[38;5;241m70\u001b[39m)\n\u001b[1;32m     12\u001b[0m \u001b[38;5;28;01mfor\u001b[39;00m node \u001b[38;5;129;01min\u001b[39;00m nodes:\n",
      "File \u001b[0;32m/usr/lib/python3.8/turtle.py:1777\u001b[0m, in \u001b[0;36mTNavigator.goto\u001b[0;34m(self, x, y)\u001b[0m\n\u001b[1;32m   1775\u001b[0m     \u001b[38;5;28mself\u001b[39m\u001b[38;5;241m.\u001b[39m_goto(Vec2D(\u001b[38;5;241m*\u001b[39mx))\n\u001b[1;32m   1776\u001b[0m \u001b[38;5;28;01melse\u001b[39;00m:\n\u001b[0;32m-> 1777\u001b[0m     \u001b[38;5;28;43mself\u001b[39;49m\u001b[38;5;241;43m.\u001b[39;49m\u001b[43m_goto\u001b[49m\u001b[43m(\u001b[49m\u001b[43mVec2D\u001b[49m\u001b[43m(\u001b[49m\u001b[43mx\u001b[49m\u001b[43m,\u001b[49m\u001b[43m \u001b[49m\u001b[43my\u001b[49m\u001b[43m)\u001b[49m\u001b[43m)\u001b[49m\n",
      "File \u001b[0;32m/usr/lib/python3.8/turtle.py:3177\u001b[0m, in \u001b[0;36mRawTurtle._goto\u001b[0;34m(self, end)\u001b[0m\n\u001b[1;32m   3175\u001b[0m     \u001b[38;5;28mself\u001b[39m\u001b[38;5;241m.\u001b[39m_position \u001b[38;5;241m=\u001b[39m start \u001b[38;5;241m+\u001b[39m delta \u001b[38;5;241m*\u001b[39m n\n\u001b[1;32m   3176\u001b[0m     \u001b[38;5;28;01mif\u001b[39;00m \u001b[38;5;28mself\u001b[39m\u001b[38;5;241m.\u001b[39m_drawing:\n\u001b[0;32m-> 3177\u001b[0m         \u001b[43mscreen\u001b[49m\u001b[38;5;241;43m.\u001b[39;49m\u001b[43m_drawline\u001b[49m\u001b[43m(\u001b[49m\u001b[38;5;28;43mself\u001b[39;49m\u001b[38;5;241;43m.\u001b[39;49m\u001b[43mdrawingLineItem\u001b[49m\u001b[43m,\u001b[49m\n\u001b[1;32m   3178\u001b[0m \u001b[43m                         \u001b[49m\u001b[43m(\u001b[49m\u001b[43mstart\u001b[49m\u001b[43m,\u001b[49m\u001b[43m \u001b[49m\u001b[38;5;28;43mself\u001b[39;49m\u001b[38;5;241;43m.\u001b[39;49m\u001b[43m_position\u001b[49m\u001b[43m)\u001b[49m\u001b[43m,\u001b[49m\n\u001b[1;32m   3179\u001b[0m \u001b[43m                         \u001b[49m\u001b[38;5;28;43mself\u001b[39;49m\u001b[38;5;241;43m.\u001b[39;49m\u001b[43m_pencolor\u001b[49m\u001b[43m,\u001b[49m\u001b[43m \u001b[49m\u001b[38;5;28;43mself\u001b[39;49m\u001b[38;5;241;43m.\u001b[39;49m\u001b[43m_pensize\u001b[49m\u001b[43m,\u001b[49m\u001b[43m \u001b[49m\u001b[43mtop\u001b[49m\u001b[43m)\u001b[49m\n\u001b[1;32m   3180\u001b[0m     \u001b[38;5;28mself\u001b[39m\u001b[38;5;241m.\u001b[39m_update()\n\u001b[1;32m   3181\u001b[0m \u001b[38;5;28;01mif\u001b[39;00m \u001b[38;5;28mself\u001b[39m\u001b[38;5;241m.\u001b[39m_drawing:\n",
      "File \u001b[0;32m/usr/lib/python3.8/turtle.py:544\u001b[0m, in \u001b[0;36mTurtleScreenBase._drawline\u001b[0;34m(self, lineitem, coordlist, fill, width, top)\u001b[0m\n\u001b[1;32m    542\u001b[0m         cl\u001b[38;5;241m.\u001b[39mappend(x \u001b[38;5;241m*\u001b[39m \u001b[38;5;28mself\u001b[39m\u001b[38;5;241m.\u001b[39mxscale)\n\u001b[1;32m    543\u001b[0m         cl\u001b[38;5;241m.\u001b[39mappend(\u001b[38;5;241m-\u001b[39my \u001b[38;5;241m*\u001b[39m \u001b[38;5;28mself\u001b[39m\u001b[38;5;241m.\u001b[39myscale)\n\u001b[0;32m--> 544\u001b[0m     \u001b[38;5;28;43mself\u001b[39;49m\u001b[38;5;241;43m.\u001b[39;49m\u001b[43mcv\u001b[49m\u001b[38;5;241;43m.\u001b[39;49m\u001b[43mcoords\u001b[49m\u001b[43m(\u001b[49m\u001b[43mlineitem\u001b[49m\u001b[43m,\u001b[49m\u001b[43m \u001b[49m\u001b[38;5;241;43m*\u001b[39;49m\u001b[43mcl\u001b[49m\u001b[43m)\u001b[49m\n\u001b[1;32m    545\u001b[0m \u001b[38;5;28;01mif\u001b[39;00m fill \u001b[38;5;129;01mis\u001b[39;00m \u001b[38;5;129;01mnot\u001b[39;00m \u001b[38;5;28;01mNone\u001b[39;00m:\n\u001b[1;32m    546\u001b[0m     \u001b[38;5;28mself\u001b[39m\u001b[38;5;241m.\u001b[39mcv\u001b[38;5;241m.\u001b[39mitemconfigure(lineitem, fill\u001b[38;5;241m=\u001b[39mfill)\n",
      "File \u001b[0;32m<string>:1\u001b[0m, in \u001b[0;36mcoords\u001b[0;34m(self, *args, **kw)\u001b[0m\n",
      "File \u001b[0;32m/usr/lib/python3.8/tkinter/__init__.py:2766\u001b[0m, in \u001b[0;36mCanvas.coords\u001b[0;34m(self, *args)\u001b[0m\n\u001b[1;32m   2762\u001b[0m \u001b[38;5;124;03m\"\"\"Return a list of coordinates for the item given in ARGS.\"\"\"\u001b[39;00m\n\u001b[1;32m   2763\u001b[0m \u001b[38;5;66;03m# XXX Should use _flatten on args\u001b[39;00m\n\u001b[1;32m   2764\u001b[0m \u001b[38;5;28;01mreturn\u001b[39;00m [\u001b[38;5;28mself\u001b[39m\u001b[38;5;241m.\u001b[39mtk\u001b[38;5;241m.\u001b[39mgetdouble(x) \u001b[38;5;28;01mfor\u001b[39;00m x \u001b[38;5;129;01min\u001b[39;00m\n\u001b[1;32m   2765\u001b[0m                    \u001b[38;5;28mself\u001b[39m\u001b[38;5;241m.\u001b[39mtk\u001b[38;5;241m.\u001b[39msplitlist(\n\u001b[0;32m-> 2766\u001b[0m            \u001b[38;5;28;43mself\u001b[39;49m\u001b[38;5;241;43m.\u001b[39;49m\u001b[43mtk\u001b[49m\u001b[38;5;241;43m.\u001b[39;49m\u001b[43mcall\u001b[49m\u001b[43m(\u001b[49m\u001b[43m(\u001b[49m\u001b[38;5;28;43mself\u001b[39;49m\u001b[38;5;241;43m.\u001b[39;49m\u001b[43m_w\u001b[49m\u001b[43m,\u001b[49m\u001b[43m \u001b[49m\u001b[38;5;124;43m'\u001b[39;49m\u001b[38;5;124;43mcoords\u001b[39;49m\u001b[38;5;124;43m'\u001b[39;49m\u001b[43m)\u001b[49m\u001b[43m \u001b[49m\u001b[38;5;241;43m+\u001b[39;49m\u001b[43m \u001b[49m\u001b[43margs\u001b[49m\u001b[43m)\u001b[49m)]\n",
      "\u001b[0;31mTclError\u001b[0m: invalid command name \".!canvas\""
     ]
    }
   ],
   "source": [
    "turtle.title(\"Visualization\")\n",
    "turtle.bgcolor(\"black\")\n",
    "t = turtle.Turtle()\n",
    "t.hideturtle()\n",
    "t.pensize(5)\n",
    "t.pencolor(\"blue\")\n",
    "\n",
    "for ele in eles:\n",
    "    t.goto(ele.node_a.pos_x*70, ele.node_a.pos_y*70)\n",
    "    t.goto(ele.node_b.pos_x*70, ele.node_b.pos_y*70)\n",
    "\n",
    "for node in nodes:\n",
    "    t.penup()\n",
    "    t.goto(node.pos_x*70, node.pos_y*70)\n",
    "    t.pendown()\n",
    "    t.dot(15,\"red\")    "
   ]
  },
  {
   "cell_type": "code",
   "execution_count": null,
   "metadata": {},
   "outputs": [],
   "source": [
    "turtle.bye()"
   ]
  },
  {
   "cell_type": "code",
   "execution_count": null,
   "metadata": {},
   "outputs": [],
   "source": []
  }
 ],
 "metadata": {
  "kernelspec": {
   "display_name": "mcscvenv",
   "language": "python",
   "name": "mcscvenv"
  },
  "language_info": {
   "codemirror_mode": {
    "name": "ipython",
    "version": 3
   },
   "file_extension": ".py",
   "mimetype": "text/x-python",
   "name": "python",
   "nbconvert_exporter": "python",
   "pygments_lexer": "ipython3",
   "version": "3.8.10"
  }
 },
 "nbformat": 4,
 "nbformat_minor": 2
}
