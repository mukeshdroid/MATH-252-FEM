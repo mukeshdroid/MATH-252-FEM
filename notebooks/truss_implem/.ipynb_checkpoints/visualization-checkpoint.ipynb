{
 "cells": [
  {
   "cell_type": "code",
   "execution_count": 1,
   "metadata": {},
   "outputs": [],
   "source": [
    "#import user defined classes\n",
    "#class defn change gara as per need files are in this folder nai\n",
    "import ele\n",
    "import node"
   ]
  },
  {
   "cell_type": "code",
   "execution_count": 2,
   "metadata": {},
   "outputs": [],
   "source": [
    "#define node and aaile lai define tyesko displacement aafai\n",
    "#i.e, assume solution xa and we know all parameters\n",
    "\n",
    "#node1 = node(x,x,x,x,x,x)\n",
    "#node2 = \n",
    "\n",
    "\n",
    "#ele1 = \n",
    "#ele2 =\n"
   ]
  },
  {
   "cell_type": "code",
   "execution_count": null,
   "metadata": {},
   "outputs": [],
   "source": []
  }
 ],
 "metadata": {
  "kernelspec": {
   "display_name": "Python 3",
   "language": "python",
   "name": "python3"
  },
  "language_info": {
   "codemirror_mode": {
    "name": "ipython",
    "version": 3
   },
   "file_extension": ".py",
   "mimetype": "text/x-python",
   "name": "python",
   "nbconvert_exporter": "python",
   "pygments_lexer": "ipython3",
   "version": "3.8.10"
  }
 },
 "nbformat": 4,
 "nbformat_minor": 2
}
