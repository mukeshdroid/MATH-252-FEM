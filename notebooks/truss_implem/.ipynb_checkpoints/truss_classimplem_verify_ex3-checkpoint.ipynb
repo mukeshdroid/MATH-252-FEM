{
 "cells": [
  {
   "cell_type": "markdown",
   "metadata": {},
   "source": [
    "Verifying the class Implementation using Example "
   ]
  },
  {
   "cell_type": "code",
   "execution_count": 9,
   "metadata": {},
   "outputs": [],
   "source": [
    "import math\n",
    "import numpy as np\n",
    "import copy\n",
    "from IPython.display import Image\n"
   ]
  },
  {
   "cell_type": "code",
   "execution_count": 1,
   "metadata": {},
   "outputs": [
    {
     "ename": "NameError",
     "evalue": "name 'Image' is not defined",
     "output_type": "error",
     "traceback": [
      "\u001b[0;31m---------------------------------------------------------------------------\u001b[0m",
      "\u001b[0;31mNameError\u001b[0m                                 Traceback (most recent call last)",
      "Input \u001b[0;32mIn [1]\u001b[0m, in \u001b[0;36m<module>\u001b[0;34m\u001b[0m\n\u001b[0;32m----> 1\u001b[0m \u001b[43mImage\u001b[49m(\u001b[38;5;124m\"\u001b[39m\u001b[38;5;124meg3p1.png\u001b[39m\u001b[38;5;124m\"\u001b[39m)\n",
      "\u001b[0;31mNameError\u001b[0m: name 'Image' is not defined"
     ]
    }
   ],
   "source": [
    "Image(\"eg3p1.png\")"
   ]
  },
  {
   "cell_type": "code",
   "execution_count": 2,
   "metadata": {},
   "outputs": [
    {
     "ename": "NameError",
     "evalue": "name 'Image' is not defined",
     "output_type": "error",
     "traceback": [
      "\u001b[0;31m---------------------------------------------------------------------------\u001b[0m",
      "\u001b[0;31mNameError\u001b[0m                                 Traceback (most recent call last)",
      "Input \u001b[0;32mIn [2]\u001b[0m, in \u001b[0;36m<module>\u001b[0;34m\u001b[0m\n\u001b[0;32m----> 1\u001b[0m \u001b[43mImage\u001b[49m(\u001b[38;5;124m\"\u001b[39m\u001b[38;5;124meg3p2.png\u001b[39m\u001b[38;5;124m\"\u001b[39m)\n",
      "\u001b[0;31mNameError\u001b[0m: name 'Image' is not defined"
     ]
    }
   ],
   "source": [
    "Image(\"eg3p2.png\")"
   ]
  },
  {
   "cell_type": "code",
   "execution_count": 3,
   "metadata": {},
   "outputs": [
    {
     "ename": "NameError",
     "evalue": "name 'Image' is not defined",
     "output_type": "error",
     "traceback": [
      "\u001b[0;31m---------------------------------------------------------------------------\u001b[0m",
      "\u001b[0;31mNameError\u001b[0m                                 Traceback (most recent call last)",
      "Input \u001b[0;32mIn [3]\u001b[0m, in \u001b[0;36m<module>\u001b[0;34m\u001b[0m\n\u001b[0;32m----> 1\u001b[0m \u001b[43mImage\u001b[49m(\u001b[38;5;124m\"\u001b[39m\u001b[38;5;124meg3p3.png\u001b[39m\u001b[38;5;124m\"\u001b[39m)\n",
      "\u001b[0;31mNameError\u001b[0m: name 'Image' is not defined"
     ]
    }
   ],
   "source": [
    "Image(\"eg3p3.png\")"
   ]
  },
  {
   "cell_type": "code",
   "execution_count": 4,
   "metadata": {},
   "outputs": [
    {
     "ename": "NameError",
     "evalue": "name 'Image' is not defined",
     "output_type": "error",
     "traceback": [
      "\u001b[0;31m---------------------------------------------------------------------------\u001b[0m",
      "\u001b[0;31mNameError\u001b[0m                                 Traceback (most recent call last)",
      "Input \u001b[0;32mIn [4]\u001b[0m, in \u001b[0;36m<module>\u001b[0;34m\u001b[0m\n\u001b[0;32m----> 1\u001b[0m \u001b[43mImage\u001b[49m(\u001b[38;5;124m\"\u001b[39m\u001b[38;5;124meg3p4.png\u001b[39m\u001b[38;5;124m\"\u001b[39m)\n",
      "\u001b[0;31mNameError\u001b[0m: name 'Image' is not defined"
     ]
    }
   ],
   "source": [
    "Image(\"eg3p4.png\")"
   ]
  },
  {
   "cell_type": "code",
   "execution_count": 5,
   "metadata": {},
   "outputs": [
    {
     "ename": "NameError",
     "evalue": "name 'Image' is not defined",
     "output_type": "error",
     "traceback": [
      "\u001b[0;31m---------------------------------------------------------------------------\u001b[0m",
      "\u001b[0;31mNameError\u001b[0m                                 Traceback (most recent call last)",
      "Input \u001b[0;32mIn [5]\u001b[0m, in \u001b[0;36m<module>\u001b[0;34m\u001b[0m\n\u001b[0;32m----> 1\u001b[0m \u001b[43mImage\u001b[49m(\u001b[38;5;124m\"\u001b[39m\u001b[38;5;124meg3p5.png\u001b[39m\u001b[38;5;124m\"\u001b[39m)\n",
      "\u001b[0;31mNameError\u001b[0m: name 'Image' is not defined"
     ]
    }
   ],
   "source": [
    "Image(\"eg3p5.png\")"
   ]
  },
  {
   "cell_type": "code",
   "execution_count": 6,
   "metadata": {},
   "outputs": [],
   "source": [
    "#import classes for nodes and elements\n",
    "from node import node\n",
    "from ele import ele"
   ]
  },
  {
   "cell_type": "code",
   "execution_count": 7,
   "metadata": {},
   "outputs": [
    {
     "name": "stdout",
     "output_type": "stream",
     "text": [
      "Help on class node in module node:\n",
      "\n",
      "class node(builtins.object)\n",
      " |  node(num, pos_x, pos_y, dis_x, dis_y, f_x, f_y)\n",
      " |  \n",
      " |  Methods defined here:\n",
      " |  \n",
      " |  __init__(self, num, pos_x, pos_y, dis_x, dis_y, f_x, f_y)\n",
      " |      Initialize self.  See help(type(self)) for accurate signature.\n",
      " |  \n",
      " |  print(self)\n",
      " |  \n",
      " |  ----------------------------------------------------------------------\n",
      " |  Data descriptors defined here:\n",
      " |  \n",
      " |  __dict__\n",
      " |      dictionary for instance variables (if defined)\n",
      " |  \n",
      " |  __weakref__\n",
      " |      list of weak references to the object (if defined)\n",
      "\n"
     ]
    }
   ],
   "source": [
    "help(node)"
   ]
  },
  {
   "cell_type": "code",
   "execution_count": 62,
   "metadata": {},
   "outputs": [],
   "source": [
    "#define nodes along with boundary conditions\n",
    "node1 = node(1,2,0,np.nan,np.nan,5,0)\n",
    "node2 = node(2,0,0,0,0,np.nan,np.nan)\n",
    "node3 = node(3,2,2,0,0,np.nan,np.nan)"
   ]
  },
  {
   "cell_type": "code",
   "execution_count": 63,
   "metadata": {},
   "outputs": [
    {
     "name": "stdout",
     "output_type": "stream",
     "text": [
      "num =  1 \n",
      " pos_x = 2 \n",
      " pos_y =  0 \n",
      " dis_x =  nan \n",
      " dis_y =  nan \n",
      " f_x =  5 \n",
      " f_y =  0\n",
      "num =  2 \n",
      " pos_x = 0 \n",
      " pos_y =  0 \n",
      " dis_x =  0 \n",
      " dis_y =  0 \n",
      " f_x =  nan \n",
      " f_y =  nan\n",
      "num =  3 \n",
      " pos_x = 2 \n",
      " pos_y =  2 \n",
      " dis_x =  0 \n",
      " dis_y =  0 \n",
      " f_x =  nan \n",
      " f_y =  nan\n"
     ]
    },
    {
     "data": {
      "text/plain": [
       "0"
      ]
     },
     "execution_count": 63,
     "metadata": {},
     "output_type": "execute_result"
    }
   ],
   "source": [
    "node1.print()\n",
    "node2.print()\n",
    "node3.print()"
   ]
  },
  {
   "cell_type": "code",
   "execution_count": 64,
   "metadata": {},
   "outputs": [],
   "source": [
    "#define elements\n",
    "\n",
    "ele1 = ele(1, 5, 1, 1, math.pi / 6 , 2 , 1)\n",
    "ele2 = ele(2, 5, 1, 1 ,- math.pi / 6 , 1 , 3)"
   ]
  },
  {
   "cell_type": "code",
   "execution_count": 65,
   "metadata": {},
   "outputs": [
    {
     "name": "stdout",
     "output_type": "stream",
     "text": [
      "num =  1 \n",
      " length= 5 \n",
      " area =  1 \n",
      " youngs modulus =  1 \n",
      " theta =  0.5235987755982988 \n",
      " node_a =  2 \n",
      " node_b =  1\n",
      "num =  2 \n",
      " length= 5 \n",
      " area =  1 \n",
      " youngs modulus =  1 \n",
      " theta =  -0.5235987755982988 \n",
      " node_a =  1 \n",
      " node_b =  3\n"
     ]
    },
    {
     "data": {
      "text/plain": [
       "0"
      ]
     },
     "execution_count": 65,
     "metadata": {},
     "output_type": "execute_result"
    }
   ],
   "source": [
    "ele1.print()\n",
    "ele2.print()"
   ]
  },
  {
   "cell_type": "code",
   "execution_count": 75,
   "metadata": {},
   "outputs": [
    {
     "name": "stdout",
     "output_type": "stream",
     "text": [
      "[[ 0.75       0.4330127 -0.75      -0.4330127]\n",
      " [ 0.4330127  0.25      -0.4330127 -0.25     ]\n",
      " [-0.75      -0.4330127  0.75       0.4330127]\n",
      " [-0.4330127 -0.25       0.4330127  0.25     ]]\n",
      "[[ 0.75      -0.4330127 -0.75       0.4330127]\n",
      " [-0.4330127  0.25       0.4330127 -0.25     ]\n",
      " [-0.75       0.4330127  0.75      -0.4330127]\n",
      " [ 0.4330127 -0.25      -0.4330127  0.25     ]]\n"
     ]
    }
   ],
   "source": [
    "#generating stiffness matrix for all elements\n",
    "\n",
    "print(ele1.stiff()*5)\n",
    "print(ele2.stiff()*5)\n"
   ]
  },
  {
   "cell_type": "markdown",
   "metadata": {},
   "source": [
    "lets try to make global matrix manually\n"
   ]
  },
  {
   "cell_type": "code",
   "execution_count": 91,
   "metadata": {},
   "outputs": [
    {
     "data": {
      "text/plain": [
       "array([[-0.75     , -0.4330127,  0.75     ,  0.4330127,  0.       ,\n",
       "         0.       ],\n",
       "       [-0.4330127, -0.25     ,  0.4330127,  0.25     ,  0.       ,\n",
       "         0.       ],\n",
       "       [ 0.75     ,  0.4330127, -0.75     , -0.4330127,  0.       ,\n",
       "         0.       ],\n",
       "       [ 0.4330127,  0.25     , -0.4330127, -0.25     ,  0.       ,\n",
       "         0.       ],\n",
       "       [ 0.       ,  0.       ,  0.       ,  0.       ,  0.       ,\n",
       "         0.       ],\n",
       "       [ 0.       ,  0.       ,  0.       ,  0.       ,  0.       ,\n",
       "         0.       ]])"
      ]
     },
     "execution_count": 91,
     "metadata": {},
     "output_type": "execute_result"
    }
   ],
   "source": [
    "GM1 = np.array([[ -0.75,      -0.4330127 ,  0.75,       0.4330127, 0 , 0],\n",
    " [    -0.4330127, -0.25   ,0.4330127,  0.25,    0 , 0  ],\n",
    " [  0.75,       0.4330127 ,-0.75,      -0.4330127, 0 , 0],\n",
    " [       0.4330127,  0.25, -0.4330127, -0.25, 0 , 0     ],\n",
    "      [0,0,0,0,0,0],\n",
    "      [0,0,0,0,0,0]])\n",
    "GM1"
   ]
  },
  {
   "cell_type": "code",
   "execution_count": 90,
   "metadata": {},
   "outputs": [
    {
     "data": {
      "text/plain": [
       "array([[ 0.75     , -0.4330127,  0.       ,  0.       , -0.75     ,\n",
       "         0.4330127],\n",
       "       [-0.4330127,  0.25     ,  0.       ,  0.       ,  0.4330127,\n",
       "        -0.25     ],\n",
       "       [ 0.       ,  0.       ,  0.       ,  0.       ,  0.       ,\n",
       "         0.       ],\n",
       "       [ 0.       ,  0.       ,  0.       ,  0.       ,  0.       ,\n",
       "         0.       ],\n",
       "       [-0.75     ,  0.4330127,  0.       ,  0.       ,  0.75     ,\n",
       "        -0.4330127],\n",
       "       [ 0.4330127, -0.25     ,  0.       ,  0.       , -0.4330127,\n",
       "         0.25     ]])"
      ]
     },
     "execution_count": 90,
     "metadata": {},
     "output_type": "execute_result"
    }
   ],
   "source": [
    "GM2 = np.array([[ 0.75,      -0.4330127, 0, 0, -0.75,       0.4330127],\n",
    " [-0.4330127,  0.25,  0,0,     0.4330127, -0.25     ],\n",
    "       [0,0,0,0,0,0],\n",
    "       [0,0,0,0,0,0],\n",
    " [-0.75  ,     0.4330127,0,0,  0.75,      -0.4330127],\n",
    " [ 0.4330127, -0.25,0,0,      -0.4330127,  0.25     ],\n",
    "      ])\n",
    "GM2"
   ]
  },
  {
   "cell_type": "code",
   "execution_count": 94,
   "metadata": {},
   "outputs": [
    {
     "data": {
      "text/plain": [
       "array([[ 0.       , -0.8660254,  0.75     ,  0.4330127, -0.75     ,\n",
       "         0.4330127],\n",
       "       [-0.8660254,  0.       ,  0.4330127,  0.25     ,  0.4330127,\n",
       "        -0.25     ],\n",
       "       [ 0.75     ,  0.4330127, -0.75     , -0.4330127,  0.       ,\n",
       "         0.       ],\n",
       "       [ 0.4330127,  0.25     , -0.4330127, -0.25     ,  0.       ,\n",
       "         0.       ],\n",
       "       [-0.75     ,  0.4330127,  0.       ,  0.       ,  0.75     ,\n",
       "        -0.4330127],\n",
       "       [ 0.4330127, -0.25     ,  0.       ,  0.       , -0.4330127,\n",
       "         0.25     ]])"
      ]
     },
     "execution_count": 94,
     "metadata": {},
     "output_type": "execute_result"
    }
   ],
   "source": [
    "GK = GM1 + GM2\n",
    "GK"
   ]
  },
  {
   "cell_type": "code",
   "execution_count": 67,
   "metadata": {},
   "outputs": [],
   "source": [
    "#list of nodes and elements\n",
    "nodes = [node1 , node2 , node3]\n",
    "eles = [ele1 , ele2]\n"
   ]
  },
  {
   "cell_type": "code",
   "execution_count": 68,
   "metadata": {},
   "outputs": [],
   "source": [
    "#generate global stiffness matrix \n",
    "\n",
    "def globalstiff(eles , num_nodes):\n",
    "    #dimension of global matrix\n",
    "    dim = 2 * num_nodes\n",
    "    #generate and store the element-wise stiffness matrices\n",
    "    SMs = [e.stiff() for e in eles]\n",
    "    \n",
    "    GK = np.zeros((dim,dim))\n",
    "    for i in range(1,dim+1):\n",
    "        for j in range(1,dim + 1):\n",
    "            for k in range(0 , num_nodes):\n",
    "                if k >= len(eles):\n",
    "                    e =  ele(0,0,0,0,0,0,0)\n",
    "                else:\n",
    "                    e = eles[k]\n",
    "                if e.node_a == math.ceil(i/2):\n",
    "                    if e.node_a == math.ceil(j/2):\n",
    "                        GK[i-1][j-1] += SMs[k][(i+1)%2][(j+1)%2]\n",
    "                    if e.node_b == math.ceil(j/2):\n",
    "                        GK[i-1][j-1] += SMs[k][i%2][2+(j+1)%2]\n",
    "                if e.node_b == math.ceil(i/2):\n",
    "                    if e.node_a == math.ceil(j/2):\n",
    "                        GK[i-1][j-1] += SMs[k][2+(i+1)%2][j%2]\n",
    "                    if e.node_b == math.ceil(j/2):\n",
    "                        GK[i-1][j-1] += SMs[k][2+(i+1)%2][2+(j+1)%2]\n",
    "    return GK\n",
    "            \n",
    "    "
   ]
  },
  {
   "cell_type": "code",
   "execution_count": 69,
   "metadata": {},
   "outputs": [
    {
     "data": {
      "text/plain": [
       "array([[ 1.5      ,  0.       , -0.4330127, -0.75     ,  0.4330127,\n",
       "        -0.25     ],\n",
       "       [ 0.       ,  0.5      , -0.25     , -0.4330127, -0.75     ,\n",
       "         0.4330127],\n",
       "       [-0.4330127, -0.25     ,  0.75     ,  0.4330127,  0.       ,\n",
       "         0.       ],\n",
       "       [-0.75     , -0.4330127,  0.4330127,  0.25     ,  0.       ,\n",
       "         0.       ],\n",
       "       [ 0.4330127, -0.75     ,  0.       ,  0.       ,  0.75     ,\n",
       "        -0.4330127],\n",
       "       [-0.25     ,  0.4330127,  0.       ,  0.       , -0.4330127,\n",
       "         0.25     ]])"
      ]
     },
     "execution_count": 69,
     "metadata": {},
     "output_type": "execute_result"
    }
   ],
   "source": [
    "#GK = globalstiff(eles , 3)\n",
    "#GK*5"
   ]
  },
  {
   "cell_type": "code",
   "execution_count": 70,
   "metadata": {},
   "outputs": [
    {
     "name": "stdout",
     "output_type": "stream",
     "text": [
      "[nan nan  0.  0.  0.  0.]\n",
      "[ 5.  0. nan nan nan nan]\n"
     ]
    }
   ],
   "source": [
    "#create vector for node_dis and external_forces\n",
    "\n",
    "dis_list = []\n",
    "for n in nodes:\n",
    "    dis_list.append(n.dis_x)\n",
    "    dis_list.append(n.dis_y)\n",
    "    \n",
    "dis = np.array(dis_list)\n",
    "print(dis)\n",
    "\n",
    "f_list = []\n",
    "for n in nodes:\n",
    "    f_list.append(n.f_x)\n",
    "    f_list.append(n.f_y)\n",
    "    \n",
    "f = np.array(f_list)\n",
    "print(f)\n"
   ]
  },
  {
   "cell_type": "code",
   "execution_count": 71,
   "metadata": {},
   "outputs": [
    {
     "name": "stdout",
     "output_type": "stream",
     "text": [
      "[2, 3, 4, 5]\n",
      "[0, 1]\n",
      "[[1.5 0. ]\n",
      " [0.  0.5]]\n",
      "[5. 0.]\n"
     ]
    }
   ],
   "source": [
    "#check for undetermined values in force and create linear eqns\n",
    "\n",
    "GK_dis =  copy.deepcopy(GK)\n",
    "f_dis =  copy.deepcopy(f)\n",
    "\n",
    "del_row = []\n",
    "index_list = list(range(0,2*len(nodes)))\n",
    "for i in range(0,2*len(nodes)):\n",
    "    if dis_list[i] == 0:\n",
    "        del_row.append(i)\n",
    "        index_list.remove(i)\n",
    "        \n",
    "print(del_row)\n",
    "print(index_list)\n",
    "        \n",
    "GK_dis = np.delete(GK_dis,del_row,0)\n",
    "GK_dis = np.delete(GK_dis,del_row,1)\n",
    "f_dis = np.delete(f_dis,del_row,0)\n",
    "    \n",
    "print(GK_dis*5)\n",
    "print(f_dis)\n"
   ]
  },
  {
   "cell_type": "code",
   "execution_count": 72,
   "metadata": {},
   "outputs": [
    {
     "data": {
      "text/plain": [
       "array([16.66666667,  0.        ])"
      ]
     },
     "execution_count": 72,
     "metadata": {},
     "output_type": "execute_result"
    }
   ],
   "source": [
    "ans_dis = np.linalg.solve(GK_dis , f_dis)\n",
    "ans_dis"
   ]
  },
  {
   "cell_type": "code",
   "execution_count": 73,
   "metadata": {},
   "outputs": [
    {
     "data": {
      "text/plain": [
       "array([16.66666667,  0.        ,  0.        ,  0.        ,  0.        ,\n",
       "        0.        ])"
      ]
     },
     "execution_count": 73,
     "metadata": {},
     "output_type": "execute_result"
    }
   ],
   "source": [
    "for i in range(0 , len(ans_dis)):\n",
    "    dis[index_list[i]] = ans_dis[i]\n",
    "dis"
   ]
  },
  {
   "cell_type": "code",
   "execution_count": 74,
   "metadata": {},
   "outputs": [
    {
     "data": {
      "text/plain": [
       "array([ 5.        ,  0.        , -1.44337567, -2.5       ,  1.44337567,\n",
       "       -0.83333333])"
      ]
     },
     "execution_count": 74,
     "metadata": {},
     "output_type": "execute_result"
    }
   ],
   "source": [
    "ans_force = np.dot(GK,dis)\n",
    "ans_force"
   ]
  },
  {
   "cell_type": "code",
   "execution_count": null,
   "metadata": {},
   "outputs": [],
   "source": []
  }
 ],
 "metadata": {
  "kernelspec": {
   "display_name": "Python 3 (ipykernel)",
   "language": "python",
   "name": "python3"
  },
  "language_info": {
   "codemirror_mode": {
    "name": "ipython",
    "version": 3
   },
   "file_extension": ".py",
   "mimetype": "text/x-python",
   "name": "python",
   "nbconvert_exporter": "python",
   "pygments_lexer": "ipython3",
   "version": "3.8.10"
  }
 },
 "nbformat": 4,
 "nbformat_minor": 4
}
