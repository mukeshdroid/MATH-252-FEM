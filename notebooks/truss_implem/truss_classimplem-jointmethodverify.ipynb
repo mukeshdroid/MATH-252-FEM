{
 "cells": [
  {
   "cell_type": "markdown",
   "metadata": {},
   "source": [
    "Implementating fem for verifying joint method in a truss (not enough values given)\n"
   ]
  },
  {
   "cell_type": "raw",
   "metadata": {},
   "source": [
    " "
   ]
  },
  {
   "cell_type": "code",
   "execution_count": 1,
   "metadata": {},
   "outputs": [],
   "source": [
    "import math\n",
    "import numpy as np\n",
    "import copy"
   ]
  },
  {
   "cell_type": "code",
   "execution_count": 2,
   "metadata": {},
   "outputs": [],
   "source": [
    "#import classes for nodes and elements\n",
    "from node import node\n",
    "from ele import ele"
   ]
  },
  {
   "cell_type": "code",
   "execution_count": 3,
   "metadata": {},
   "outputs": [
    {
     "name": "stdout",
     "output_type": "stream",
     "text": [
      "Help on class node in module node:\n",
      "\n",
      "class node(builtins.object)\n",
      " |  node(num, pos_x, pos_y, dis_x, dis_y, f_x, f_y)\n",
      " |  \n",
      " |  Methods defined here:\n",
      " |  \n",
      " |  __init__(self, num, pos_x, pos_y, dis_x, dis_y, f_x, f_y)\n",
      " |      Initialize self.  See help(type(self)) for accurate signature.\n",
      " |  \n",
      " |  print(self)\n",
      " |  \n",
      " |  ----------------------------------------------------------------------\n",
      " |  Data descriptors defined here:\n",
      " |  \n",
      " |  __dict__\n",
      " |      dictionary for instance variables (if defined)\n",
      " |  \n",
      " |  __weakref__\n",
      " |      list of weak references to the object (if defined)\n",
      "\n"
     ]
    }
   ],
   "source": [
    "help(node)"
   ]
  },
  {
   "cell_type": "code",
   "execution_count": 4,
   "metadata": {},
   "outputs": [],
   "source": [
    "#define nodes along with boundary conditions\n",
    "node1 = node(1,0,0,0,0,np.nan,np.nan)\n",
    "node2 = node(2,0,0,np.nan,np.nan,np.nan,np.nan)\n",
    "node3 = node(3,0,0,np.nan,np.nan,np.nan,np.nan)\n",
    "node4 = node(4,0,0,np.nan,0,np.nan,np.nan)\n",
    "node5 = node(5,0,0,np.nan,np.nan,np.nan,np.nan)\n",
    "node6 = node(6,0,0,np.nan,np.nan,np.nan,-60)\n",
    "node7 = node(7,0,0,np.nan,np.nan,np.nan,np.nan)\n",
    "\n"
   ]
  },
  {
   "cell_type": "code",
   "execution_count": 5,
   "metadata": {},
   "outputs": [
    {
     "name": "stdout",
     "output_type": "stream",
     "text": [
      "num =  1 \n",
      " pos_x = 0 \n",
      " pos_y =  0 \n",
      " dis_x =  0 \n",
      " dis_y =  0 \n",
      " f_x =  nan \n",
      " f_y =  nan\n",
      "num =  2 \n",
      " pos_x = 0 \n",
      " pos_y =  0 \n",
      " dis_x =  nan \n",
      " dis_y =  nan \n",
      " f_x =  nan \n",
      " f_y =  nan\n",
      "num =  3 \n",
      " pos_x = 0 \n",
      " pos_y =  0 \n",
      " dis_x =  nan \n",
      " dis_y =  nan \n",
      " f_x =  nan \n",
      " f_y =  nan\n",
      "num =  4 \n",
      " pos_x = 0 \n",
      " pos_y =  0 \n",
      " dis_x =  nan \n",
      " dis_y =  0 \n",
      " f_x =  nan \n",
      " f_y =  nan\n",
      "num =  5 \n",
      " pos_x = 0 \n",
      " pos_y =  0 \n",
      " dis_x =  nan \n",
      " dis_y =  nan \n",
      " f_x =  nan \n",
      " f_y =  nan\n",
      "num =  6 \n",
      " pos_x = 0 \n",
      " pos_y =  0 \n",
      " dis_x =  nan \n",
      " dis_y =  nan \n",
      " f_x =  nan \n",
      " f_y =  -60\n",
      "num =  7 \n",
      " pos_x = 0 \n",
      " pos_y =  0 \n",
      " dis_x =  nan \n",
      " dis_y =  nan \n",
      " f_x =  nan \n",
      " f_y =  nan\n"
     ]
    },
    {
     "data": {
      "text/plain": [
       "0"
      ]
     },
     "execution_count": 5,
     "metadata": {},
     "output_type": "execute_result"
    }
   ],
   "source": [
    "node1.print()\n",
    "node2.print()\n",
    "node3.print()\n",
    "node4.print()\n",
    "node5.print()\n",
    "node6.print()\n",
    "node7.print()"
   ]
  },
  {
   "cell_type": "code",
   "execution_count": 6,
   "metadata": {},
   "outputs": [
    {
     "name": "stdout",
     "output_type": "stream",
     "text": [
      "Help on class ele in module ele:\n",
      "\n",
      "class ele(builtins.object)\n",
      " |  ele(num, length, area, ym, theta, node_a, node_b)\n",
      " |  \n",
      " |  Methods defined here:\n",
      " |  \n",
      " |  __init__(self, num, length, area, ym, theta, node_a, node_b)\n",
      " |      Initialize self.  See help(type(self)) for accurate signature.\n",
      " |  \n",
      " |  print(self)\n",
      " |  \n",
      " |  stiff(self)\n",
      " |  \n",
      " |  ----------------------------------------------------------------------\n",
      " |  Data descriptors defined here:\n",
      " |  \n",
      " |  __dict__\n",
      " |      dictionary for instance variables (if defined)\n",
      " |  \n",
      " |  __weakref__\n",
      " |      list of weak references to the object (if defined)\n",
      "\n"
     ]
    }
   ],
   "source": [
    "help(ele)\n"
   ]
  },
  {
   "cell_type": "code",
   "execution_count": 7,
   "metadata": {},
   "outputs": [],
   "source": [
    "#define elements\n",
    "\n",
    "ele1 = ele(1,2,1, 1 , math.pi/3, 1 , 2)\n",
    "ele2 = ele(2,2,1, 1 , 0, 2 , 3)\n",
    "ele3 = ele(3,2,1, 1, 2*math.pi / 3, 4, 3)\n",
    "ele4 = ele(4,1,1, 1, 0, 5, 4)\n",
    "ele5 = ele(5, 1, 1,1 ,0, 6, 5)\n",
    "ele6 = ele(6, 1, 1, 1, 0, 7, 6)\n",
    "ele7 = ele(7, 1,1,1, 0, 1, 7)\n",
    "ele8 = ele(8, math.sqrt(3),1,1,math.pi/2, 7, 2)\n",
    "ele9 = ele(9, 2, 1, 1, 2*math.pi/3, 6, 2)\n",
    "ele10 =  ele(10, 2,1, 1, math.pi/3, 6, 3)\n",
    "ele11 = ele(11, math.sqrt(3),1,1, math.pi/2,4, 3)"
   ]
  },
  {
   "cell_type": "code",
   "execution_count": 8,
   "metadata": {},
   "outputs": [
    {
     "name": "stdout",
     "output_type": "stream",
     "text": [
      "num =  1 \n",
      " length= 2 \n",
      " area =  1 \n",
      " youngs modulus =  1 \n",
      " theta =  1.0471975511965976 \n",
      " node_a =  1 \n",
      " node_b =  2\n",
      "num =  2 \n",
      " length= 2 \n",
      " area =  1 \n",
      " youngs modulus =  1 \n",
      " theta =  0 \n",
      " node_a =  2 \n",
      " node_b =  3\n",
      "num =  3 \n",
      " length= 2 \n",
      " area =  1 \n",
      " youngs modulus =  1 \n",
      " theta =  2.0943951023931953 \n",
      " node_a =  4 \n",
      " node_b =  3\n",
      "num =  4 \n",
      " length= 1 \n",
      " area =  1 \n",
      " youngs modulus =  1 \n",
      " theta =  0 \n",
      " node_a =  5 \n",
      " node_b =  4\n",
      "num =  5 \n",
      " length= 1 \n",
      " area =  1 \n",
      " youngs modulus =  1 \n",
      " theta =  0 \n",
      " node_a =  6 \n",
      " node_b =  5\n",
      "num =  6 \n",
      " length= 1 \n",
      " area =  1 \n",
      " youngs modulus =  1 \n",
      " theta =  0 \n",
      " node_a =  7 \n",
      " node_b =  6\n",
      "num =  7 \n",
      " length= 1 \n",
      " area =  1 \n",
      " youngs modulus =  1 \n",
      " theta =  0 \n",
      " node_a =  1 \n",
      " node_b =  7\n",
      "num =  8 \n",
      " length= 1.7320508075688772 \n",
      " area =  1 \n",
      " youngs modulus =  1 \n",
      " theta =  1.5707963267948966 \n",
      " node_a =  7 \n",
      " node_b =  2\n",
      "num =  9 \n",
      " length= 2 \n",
      " area =  1 \n",
      " youngs modulus =  1 \n",
      " theta =  2.0943951023931953 \n",
      " node_a =  6 \n",
      " node_b =  2\n",
      "num =  10 \n",
      " length= 2 \n",
      " area =  1 \n",
      " youngs modulus =  1 \n",
      " theta =  1.0471975511965976 \n",
      " node_a =  6 \n",
      " node_b =  3\n",
      "num =  11 \n",
      " length= 1.7320508075688772 \n",
      " area =  1 \n",
      " youngs modulus =  1 \n",
      " theta =  1.5707963267948966 \n",
      " node_a =  4 \n",
      " node_b =  3\n"
     ]
    },
    {
     "data": {
      "text/plain": [
       "0"
      ]
     },
     "execution_count": 8,
     "metadata": {},
     "output_type": "execute_result"
    }
   ],
   "source": [
    "ele1.print()\n",
    "ele2.print()\n",
    "ele3.print()\n",
    "ele4.print()\n",
    "ele5.print()\n",
    "ele6.print()\n",
    "ele7.print()\n",
    "ele8.print()\n",
    "ele9.print()\n",
    "ele10.print()\n",
    "ele11.print()"
   ]
  },
  {
   "cell_type": "code",
   "execution_count": 9,
   "metadata": {},
   "outputs": [
    {
     "name": "stdout",
     "output_type": "stream",
     "text": [
      "[[ 0.125       0.21650635 -0.125      -0.21650635]\n",
      " [ 0.21650635  0.375      -0.21650635 -0.375     ]\n",
      " [-0.125      -0.21650635  0.125       0.21650635]\n",
      " [-0.21650635 -0.375       0.21650635  0.375     ]]\n",
      "[[ 0.5  0.  -0.5 -0. ]\n",
      " [ 0.   0.  -0.  -0. ]\n",
      " [-0.5 -0.   0.5  0. ]\n",
      " [-0.  -0.   0.   0. ]]\n",
      "[[ 0.125      -0.21650635 -0.125       0.21650635]\n",
      " [-0.21650635  0.375       0.21650635 -0.375     ]\n",
      " [-0.125       0.21650635  0.125      -0.21650635]\n",
      " [ 0.21650635 -0.375      -0.21650635  0.375     ]]\n",
      "[[ 1.  0. -1. -0.]\n",
      " [ 0.  0. -0. -0.]\n",
      " [-1. -0.  1.  0.]\n",
      " [-0. -0.  0.  0.]]\n",
      "[[ 1.  0. -1. -0.]\n",
      " [ 0.  0. -0. -0.]\n",
      " [-1. -0.  1.  0.]\n",
      " [-0. -0.  0.  0.]]\n",
      "[[ 1.  0. -1. -0.]\n",
      " [ 0.  0. -0. -0.]\n",
      " [-1. -0.  1.  0.]\n",
      " [-0. -0.  0.  0.]]\n",
      "[[ 1.  0. -1. -0.]\n",
      " [ 0.  0. -0. -0.]\n",
      " [-1. -0.  1.  0.]\n",
      " [-0. -0.  0.  0.]]\n",
      "[[ 2.16471679e-33  3.53525080e-17 -2.16471679e-33 -3.53525080e-17]\n",
      " [ 3.53525080e-17  5.77350269e-01 -3.53525080e-17 -5.77350269e-01]\n",
      " [-2.16471679e-33 -3.53525080e-17  2.16471679e-33  3.53525080e-17]\n",
      " [-3.53525080e-17 -5.77350269e-01  3.53525080e-17  5.77350269e-01]]\n",
      "[[ 0.125      -0.21650635 -0.125       0.21650635]\n",
      " [-0.21650635  0.375       0.21650635 -0.375     ]\n",
      " [-0.125       0.21650635  0.125      -0.21650635]\n",
      " [ 0.21650635 -0.375      -0.21650635  0.375     ]]\n",
      "[[ 0.125       0.21650635 -0.125      -0.21650635]\n",
      " [ 0.21650635  0.375      -0.21650635 -0.375     ]\n",
      " [-0.125      -0.21650635  0.125       0.21650635]\n",
      " [-0.21650635 -0.375       0.21650635  0.375     ]]\n",
      "[[ 2.16471679e-33  3.53525080e-17 -2.16471679e-33 -3.53525080e-17]\n",
      " [ 3.53525080e-17  5.77350269e-01 -3.53525080e-17 -5.77350269e-01]\n",
      " [-2.16471679e-33 -3.53525080e-17  2.16471679e-33  3.53525080e-17]\n",
      " [-3.53525080e-17 -5.77350269e-01  3.53525080e-17  5.77350269e-01]]\n"
     ]
    }
   ],
   "source": [
    "#generating stiffness matrix for all elements\n",
    "\n",
    "print(ele1.stiff())\n",
    "print(ele2.stiff())\n",
    "print(ele3.stiff())\n",
    "print(ele4.stiff())\n",
    "print(ele5.stiff())\n",
    "print(ele6.stiff())\n",
    "print(ele7.stiff())\n",
    "print(ele8.stiff())\n",
    "print(ele9.stiff())\n",
    "print(ele10.stiff())\n",
    "print(ele11.stiff())\n"
   ]
  },
  {
   "cell_type": "code",
   "execution_count": 10,
   "metadata": {},
   "outputs": [],
   "source": [
    "#list of nodes and elements\n",
    "nodes = [node1 , node2 , node3  ,node4, node5, node6, node7]\n",
    "eles = [ele1 , ele2 ,ele3, ele4, ele5, ele6, ele7, ele8, ele9, ele10, ele11]\n"
   ]
  },
  {
   "cell_type": "code",
   "execution_count": 11,
   "metadata": {},
   "outputs": [],
   "source": [
    "#generate global stiffness matrix \n",
    "\n",
    "def globalstiff(eles , num_nodes):\n",
    "    #dimension of global matrix\n",
    "    dim = 2 * num_nodes\n",
    "    #generate and store the element-wise stiffness matrices\n",
    "    SMs = [e.stiff() for e in eles]\n",
    "    \n",
    "    GK = np.zeros((dim,dim))\n",
    "    for i in range(1,dim+1):\n",
    "        for j in range(1,dim + 1):\n",
    "            for k in range(0 , num_nodes):\n",
    "                e = eles[k]\n",
    "                if e.node_a == math.ceil(i/2):\n",
    "                    if e.node_a == math.ceil(j/2):\n",
    "                        GK[i-1][j-1] += SMs[k][(i+1)%2][(j+1)%2]\n",
    "                    if e.node_b == math.ceil(j/2):\n",
    "                        GK[i-1][j-1] += SMs[k][i%2][2+(j+1)%2]\n",
    "                if e.node_b == math.ceil(i/2):\n",
    "                    if e.node_a == math.ceil(j/2):\n",
    "                        GK[i-1][j-1] += SMs[k][2+(i+1)%2][j%2]\n",
    "                    if e.node_b == math.ceil(j/2):\n",
    "                        GK[i-1][j-1] += SMs[k][2+(i+1)%2][2+(j+1)%2]\n",
    "    return GK\n",
    "            \n",
    "    "
   ]
  },
  {
   "cell_type": "code",
   "execution_count": 12,
   "metadata": {},
   "outputs": [
    {
     "data": {
      "text/plain": [
       "array([[ 1.125     ,  0.21650635, -0.21650635, -0.375     ,  0.        ,\n",
       "         0.        ,  0.        ,  0.        ,  0.        ,  0.        ,\n",
       "         0.        ,  0.        ,  0.        ,  0.        ],\n",
       "       [ 0.21650635,  0.375     , -0.125     , -0.21650635,  0.        ,\n",
       "         0.        ,  0.        ,  0.        ,  0.        ,  0.        ,\n",
       "         0.        ,  0.        , -1.        ,  0.        ],\n",
       "       [-0.21650635, -0.125     ,  0.625     ,  0.21650635,  0.        ,\n",
       "         0.        ,  0.        ,  0.        ,  0.        ,  0.        ,\n",
       "         0.        ,  0.        ,  0.        ,  0.        ],\n",
       "       [-0.375     , -0.21650635,  0.21650635,  0.375     , -0.5       ,\n",
       "         0.        ,  0.        ,  0.        ,  0.        ,  0.        ,\n",
       "         0.        ,  0.        ,  0.        ,  0.        ],\n",
       "       [ 0.        ,  0.        ,  0.        , -0.5       ,  0.625     ,\n",
       "        -0.21650635,  0.21650635, -0.125     ,  0.        ,  0.        ,\n",
       "         0.        ,  0.        ,  0.        ,  0.        ],\n",
       "       [ 0.        ,  0.        ,  0.        ,  0.        , -0.21650635,\n",
       "         0.375     , -0.375     ,  0.21650635,  0.        ,  0.        ,\n",
       "         0.        ,  0.        ,  0.        ,  0.        ],\n",
       "       [ 0.        ,  0.        ,  0.        ,  0.        ,  0.21650635,\n",
       "        -0.375     ,  1.125     , -0.21650635,  0.        , -1.        ,\n",
       "         0.        ,  0.        ,  0.        ,  0.        ],\n",
       "       [ 0.        ,  0.        ,  0.        ,  0.        , -0.125     ,\n",
       "         0.21650635, -0.21650635,  0.375     ,  0.        ,  0.        ,\n",
       "         0.        ,  0.        ,  0.        ,  0.        ],\n",
       "       [ 0.        ,  0.        ,  0.        ,  0.        ,  0.        ,\n",
       "         0.        ,  0.        ,  0.        ,  2.        ,  0.        ,\n",
       "         0.        , -1.        ,  0.        ,  0.        ],\n",
       "       [ 0.        ,  0.        ,  0.        ,  0.        ,  0.        ,\n",
       "         0.        , -1.        ,  0.        ,  0.        ,  0.        ,\n",
       "         0.        ,  0.        ,  0.        ,  0.        ],\n",
       "       [ 0.        ,  0.        ,  0.        ,  0.        ,  0.        ,\n",
       "         0.        ,  0.        ,  0.        ,  0.        ,  0.        ,\n",
       "         2.        ,  0.        ,  0.        , -1.        ],\n",
       "       [ 0.        ,  0.        ,  0.        ,  0.        ,  0.        ,\n",
       "         0.        ,  0.        ,  0.        , -1.        ,  0.        ,\n",
       "         0.        ,  0.        ,  0.        ,  0.        ],\n",
       "       [ 0.        , -1.        ,  0.        ,  0.        ,  0.        ,\n",
       "         0.        ,  0.        ,  0.        ,  0.        ,  0.        ,\n",
       "         0.        ,  0.        ,  2.        ,  0.        ],\n",
       "       [ 0.        ,  0.        ,  0.        ,  0.        ,  0.        ,\n",
       "         0.        ,  0.        ,  0.        ,  0.        ,  0.        ,\n",
       "        -1.        ,  0.        ,  0.        ,  0.        ]])"
      ]
     },
     "execution_count": 12,
     "metadata": {},
     "output_type": "execute_result"
    }
   ],
   "source": [
    "GK = globalstiff(eles , len(nodes))\n",
    "GK"
   ]
  },
  {
   "cell_type": "code",
   "execution_count": 13,
   "metadata": {},
   "outputs": [
    {
     "name": "stdout",
     "output_type": "stream",
     "text": [
      "[ 0.  0. nan nan nan nan nan  0. nan nan nan nan nan nan]\n",
      "[ nan  nan  nan  nan  nan  nan  nan  nan  nan  nan  nan -60.  nan  nan]\n"
     ]
    }
   ],
   "source": [
    "#create vector for node_dis and external_forces\n",
    "\n",
    "dis_list = []\n",
    "for n in nodes:\n",
    "    dis_list.append(n.dis_x)\n",
    "    dis_list.append(n.dis_y)\n",
    "    \n",
    "dis = np.array(dis_list)\n",
    "print(dis)\n",
    "\n",
    "f_list = []\n",
    "for n in nodes:\n",
    "    f_list.append(n.f_x)\n",
    "    f_list.append(n.f_y)\n",
    "    \n",
    "f = np.array(f_list)\n",
    "print(f)\n"
   ]
  },
  {
   "cell_type": "code",
   "execution_count": 14,
   "metadata": {},
   "outputs": [
    {
     "name": "stdout",
     "output_type": "stream",
     "text": [
      "[0, 1, 7]\n",
      "[2, 3, 4, 5, 6, 8, 9, 10, 11, 12, 13]\n",
      "[[ 0.625       0.21650635  0.          0.          0.          0.\n",
      "   0.          0.          0.          0.          0.        ]\n",
      " [ 0.21650635  0.375      -0.5         0.          0.          0.\n",
      "   0.          0.          0.          0.          0.        ]\n",
      " [ 0.         -0.5         0.625      -0.21650635  0.21650635  0.\n",
      "   0.          0.          0.          0.          0.        ]\n",
      " [ 0.          0.         -0.21650635  0.375      -0.375       0.\n",
      "   0.          0.          0.          0.          0.        ]\n",
      " [ 0.          0.          0.21650635 -0.375       1.125       0.\n",
      "  -1.          0.          0.          0.          0.        ]\n",
      " [ 0.          0.          0.          0.          0.          2.\n",
      "   0.          0.         -1.          0.          0.        ]\n",
      " [ 0.          0.          0.          0.         -1.          0.\n",
      "   0.          0.          0.          0.          0.        ]\n",
      " [ 0.          0.          0.          0.          0.          0.\n",
      "   0.          2.          0.          0.         -1.        ]\n",
      " [ 0.          0.          0.          0.          0.         -1.\n",
      "   0.          0.          0.          0.          0.        ]\n",
      " [ 0.          0.          0.          0.          0.          0.\n",
      "   0.          0.          0.          2.          0.        ]\n",
      " [ 0.          0.          0.          0.          0.          0.\n",
      "   0.         -1.          0.          0.          0.        ]]\n",
      "[ nan  nan  nan  nan  nan  nan  nan  nan -60.  nan  nan]\n"
     ]
    }
   ],
   "source": [
    "#check for undetermined values in force and create linear eqns\n",
    "\n",
    "GK_dis =  copy.deepcopy(GK)\n",
    "f_dis =  copy.deepcopy(f)\n",
    "\n",
    "del_row = []\n",
    "index_list = list(range(0,2*len(nodes)))\n",
    "for i in range(0,2*len(nodes)):\n",
    "    if dis_list[i] == 0:\n",
    "        del_row.append(i)\n",
    "        index_list.remove(i)\n",
    "        \n",
    "print(del_row)\n",
    "print(index_list)\n",
    "        \n",
    "GK_dis = np.delete(GK_dis,del_row,0)\n",
    "GK_dis = np.delete(GK_dis,del_row,1)\n",
    "f_dis = np.delete(f_dis,del_row,0)\n",
    "    \n",
    "print(GK_dis)\n",
    "print(f_dis)\n"
   ]
  },
  {
   "cell_type": "code",
   "execution_count": 15,
   "metadata": {},
   "outputs": [
    {
     "data": {
      "text/plain": [
       "array([nan, nan, nan, nan, nan, nan, nan, nan, nan, nan, nan])"
      ]
     },
     "execution_count": 15,
     "metadata": {},
     "output_type": "execute_result"
    }
   ],
   "source": [
    "ans_dis = np.linalg.solve(GK_dis , f_dis)\n",
    "ans_dis"
   ]
  },
  {
   "cell_type": "code",
   "execution_count": 16,
   "metadata": {},
   "outputs": [
    {
     "data": {
      "text/plain": [
       "array([ 0.,  0., nan, nan, nan, nan, nan,  0., nan, nan, nan, nan, nan,\n",
       "       nan])"
      ]
     },
     "execution_count": 16,
     "metadata": {},
     "output_type": "execute_result"
    }
   ],
   "source": [
    "for i in range(0 , len(ans_dis)):\n",
    "    dis[index_list[i]] = ans_dis[i]\n",
    "dis"
   ]
  },
  {
   "cell_type": "code",
   "execution_count": 17,
   "metadata": {},
   "outputs": [
    {
     "data": {
      "text/plain": [
       "array([nan, nan, nan, nan, nan, nan, nan, nan, nan, nan, nan, nan, nan,\n",
       "       nan])"
      ]
     },
     "execution_count": 17,
     "metadata": {},
     "output_type": "execute_result"
    }
   ],
   "source": [
    "ans_force = np.dot(GK,dis)\n",
    "ans_force"
   ]
  }
 ],
 "metadata": {
  "kernelspec": {
   "display_name": "Python 3",
   "language": "python",
   "name": "python3"
  },
  "language_info": {
   "codemirror_mode": {
    "name": "ipython",
    "version": 3
   },
   "file_extension": ".py",
   "mimetype": "text/x-python",
   "name": "python",
   "nbconvert_exporter": "python",
   "pygments_lexer": "ipython3",
   "version": "3.8.10"
  }
 },
 "nbformat": 4,
 "nbformat_minor": 4
}
