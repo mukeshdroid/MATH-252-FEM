{
 "cells": [
  {
   "cell_type": "code",
   "execution_count": 13,
   "metadata": {},
   "outputs": [],
   "source": [
    "import math\n",
    "import numpy as np"
   ]
  },
  {
   "cell_type": "markdown",
   "metadata": {},
   "source": [
    "$$ \\begin{bmatrix}\n",
    "2 & 3 & 5\\\\\n",
    "7 & 8 & 9\\\\\n",
    "5 & 6 & 7\n",
    "\\end{bmatrix}\n",
    "\\begin{bmatrix}\n",
    "x\\\\\n",
    "y\\\\\n",
    "z \n",
    "\\end{bmatrix}\n",
    "=\n",
    "\\begin{bmatrix}\n",
    "6\\\\\n",
    "4\\\\\n",
    "8\n",
    "\\end{bmatrix}\n",
    "$$\n",
    "\n",
    "The solution is $[-28 , 34 , -8]$\n",
    "\n",
    "so let $z = -8$\n",
    "\n",
    "The eqn then becomes\n",
    "\n",
    "$$ \\begin{bmatrix}\n",
    "2 & 3 & 5\\\\\n",
    "7 & 8 & 9\\\\\n",
    "5 & 6 & 7\n",
    "\\end{bmatrix}\n",
    "\\begin{bmatrix}\n",
    "x\\\\\n",
    "y\\\\\n",
    "-8 \n",
    "\\end{bmatrix}\n",
    "=\n",
    "\\begin{bmatrix}\n",
    "6\\\\\n",
    "4\\\\\n",
    "P\n",
    "\\end{bmatrix}\n",
    "$$\n"
   ]
  },
  {
   "cell_type": "code",
   "execution_count": 14,
   "metadata": {},
   "outputs": [
    {
     "name": "stdout",
     "output_type": "stream",
     "text": [
      "[[2 3]\n",
      " [7 8]]\n",
      "[nan nan -8.]\n",
      "[46. 76.]\n"
     ]
    }
   ],
   "source": [
    "#check for undetermined values in dis and create linear eqns\n",
    "\n",
    "GK_dis =  np.array([[2 , 3, 5],[7 , 8 , 9],[5 , 6 , 7]])\n",
    "dis_list = np.array([np.nan , np.nan , -8])\n",
    "f_dis =  np.array([6 , 4 , 8])\n",
    "\n",
    "#get a list of rows to remove\n",
    "del_row = []\n",
    "\n",
    "index_list = list(range(0,3))\n",
    "for i in range(0,3):\n",
    "    if not np.isnan(dis_list[i]):\n",
    "        del_row.append(i)\n",
    "        index_list.remove(i)\n",
    "\n",
    "#remove the rows that have displacement given\n",
    "GK_dis = np.delete(GK_dis,del_row,0)\n",
    "f_dis = np.delete(f_dis,del_row,0)\n",
    "\n",
    "#before deleting the columns we subratct these from force vector\n",
    "for i in del_row:\n",
    "    f_dis = f_dis - dis_list[i] * GK_dis[:,i]\n",
    "    \n",
    "#delete the columns that are due to the displacements that are determined\n",
    "GK_dis = np.delete(GK_dis,del_row,1)\n",
    "\n",
    "print(GK_dis)\n",
    "print(dis_list)\n",
    "print(f_dis)"
   ]
  },
  {
   "cell_type": "code",
   "execution_count": 15,
   "metadata": {},
   "outputs": [
    {
     "data": {
      "text/plain": [
       "array([-28.,  34.])"
      ]
     },
     "execution_count": 15,
     "metadata": {},
     "output_type": "execute_result"
    }
   ],
   "source": [
    "ans_dis = np.linalg.solve(GK_dis , f_dis)\n",
    "ans_dis"
   ]
  },
  {
   "cell_type": "code",
   "execution_count": 10,
   "metadata": {},
   "outputs": [
    {
     "data": {
      "text/plain": [
       "array([-28.,  34.,  -8.])"
      ]
     },
     "execution_count": 10,
     "metadata": {},
     "output_type": "execute_result"
    }
   ],
   "source": [
    "for i in range(0 , len(ans_dis)):\n",
    "    dis[index_list[i]] = ans_dis[i]\n",
    "dis"
   ]
  },
  {
   "cell_type": "code",
   "execution_count": 12,
   "metadata": {},
   "outputs": [
    {
     "data": {
      "text/plain": [
       "array([6., 4., 8.])"
      ]
     },
     "execution_count": 12,
     "metadata": {},
     "output_type": "execute_result"
    }
   ],
   "source": [
    "GK =  np.array([[2 , 3, 5],[7 , 8 , 9],[5 , 6 , 7]])\n",
    "ans_force = np.dot(GK,dis)\n",
    "ans_force"
   ]
  },
  {
   "cell_type": "code",
   "execution_count": null,
   "metadata": {},
   "outputs": [],
   "source": []
  }
 ],
 "metadata": {
  "kernelspec": {
   "display_name": "Python 3 (ipykernel)",
   "language": "python",
   "name": "python3"
  },
  "language_info": {
   "codemirror_mode": {
    "name": "ipython",
    "version": 3
   },
   "file_extension": ".py",
   "mimetype": "text/x-python",
   "name": "python",
   "nbconvert_exporter": "python",
   "pygments_lexer": "ipython3",
   "version": "3.8.10"
  }
 },
 "nbformat": 4,
 "nbformat_minor": 4
}
