{
 "cells": [
  {
   "cell_type": "markdown",
   "metadata": {},
   "source": [
    "Implementating fem for truss using class"
   ]
  },
  {
   "cell_type": "code",
   "execution_count": 19,
   "metadata": {},
   "outputs": [],
   "source": [
    "import math\n",
    "import numpy as np\n",
    "import copy"
   ]
  },
  {
   "cell_type": "code",
   "execution_count": 20,
   "metadata": {},
   "outputs": [],
   "source": [
    "#import classes for nodes and elements\n",
    "from node import node\n",
    "from ele import ele"
   ]
  },
  {
   "cell_type": "code",
   "execution_count": 21,
   "metadata": {},
   "outputs": [],
   "source": [
    "#define nodes along with boundary conditions\n",
    "node1 = node(1,0,0,0,0,np.nan,np.nan)\n",
    "node2 = node(2,2,0,0,0,np.nan,np.nan)\n",
    "node3 = node(3,2,2,np.nan,np.nan,100000,-200000)"
   ]
  },
  {
   "cell_type": "code",
   "execution_count": 22,
   "metadata": {},
   "outputs": [
    {
     "name": "stdout",
     "output_type": "stream",
     "text": [
      "num =  1 \n",
      " pos_x = 0 \n",
      " pos_y =  0 \n",
      " dis_x =  0 \n",
      " dis_y =  0 \n",
      " f_x =  nan \n",
      " f_y =  nan\n",
      "num =  2 \n",
      " pos_x = 2 \n",
      " pos_y =  0 \n",
      " dis_x =  0 \n",
      " dis_y =  0 \n",
      " f_x =  nan \n",
      " f_y =  nan\n",
      "num =  3 \n",
      " pos_x = 2 \n",
      " pos_y =  2 \n",
      " dis_x =  nan \n",
      " dis_y =  nan \n",
      " f_x =  100000 \n",
      " f_y =  -200000\n"
     ]
    },
    {
     "data": {
      "text/plain": [
       "0"
      ]
     },
     "execution_count": 22,
     "metadata": {},
     "output_type": "execute_result"
    }
   ],
   "source": [
    "node1.print()\n",
    "node2.print()\n",
    "node3.print()"
   ]
  },
  {
   "cell_type": "code",
   "execution_count": null,
   "metadata": {},
   "outputs": [],
   "source": []
  },
  {
   "cell_type": "code",
   "execution_count": 23,
   "metadata": {},
   "outputs": [],
   "source": [
    "#define elements\n",
    "\n",
    "ele1 = ele(1,1,1,1, 0 , node1 , node2)\n",
    "ele2 = ele(2,1,1, 1 , math.pi / 2 , node2 , node3)\n",
    "ele3 = ele(3,1*math.sqrt(2),1, 1 , math.pi / 4 , node1 , node3)\n"
   ]
  },
  {
   "cell_type": "code",
   "execution_count": 24,
   "metadata": {},
   "outputs": [
    {
     "name": "stdout",
     "output_type": "stream",
     "text": [
      "num =  1 \n",
      " length= 1 \n",
      " area =  1 \n",
      " youngs modulus =  1 \n",
      " theta =  0 \n",
      " node_a =  <node.node object at 0x000001B7F426D7F0> \n",
      " node_b =  <node.node object at 0x000001B7F426DE80>\n",
      "num =  2 \n",
      " length= 1 \n",
      " area =  1 \n",
      " youngs modulus =  1 \n",
      " theta =  1.5707963267948966 \n",
      " node_a =  <node.node object at 0x000001B7F426DE80> \n",
      " node_b =  <node.node object at 0x000001B7F426D6A0>\n",
      "num =  3 \n",
      " length= 1.4142135623730951 \n",
      " area =  1 \n",
      " youngs modulus =  1 \n",
      " theta =  0.7853981633974483 \n",
      " node_a =  <node.node object at 0x000001B7F426D7F0> \n",
      " node_b =  <node.node object at 0x000001B7F426D6A0>\n"
     ]
    },
    {
     "data": {
      "text/plain": [
       "0"
      ]
     },
     "execution_count": 24,
     "metadata": {},
     "output_type": "execute_result"
    }
   ],
   "source": [
    "ele1.print()\n",
    "ele2.print()\n",
    "ele3.print()"
   ]
  },
  {
   "cell_type": "code",
   "execution_count": 25,
   "metadata": {},
   "outputs": [
    {
     "name": "stdout",
     "output_type": "stream",
     "text": [
      "[[ 1.  0. -1. -0.]\n",
      " [ 0.  0. -0. -0.]\n",
      " [-1. -0.  1.  0.]\n",
      " [-0. -0.  0.  0.]]\n",
      "[[ 3.74939946e-33  6.12323400e-17 -3.74939946e-33 -6.12323400e-17]\n",
      " [ 6.12323400e-17  1.00000000e+00 -6.12323400e-17 -1.00000000e+00]\n",
      " [-3.74939946e-33 -6.12323400e-17  3.74939946e-33  6.12323400e-17]\n",
      " [-6.12323400e-17 -1.00000000e+00  6.12323400e-17  1.00000000e+00]]\n",
      "[[ 0.35355339  0.35355339 -0.35355339 -0.35355339]\n",
      " [ 0.35355339  0.35355339 -0.35355339 -0.35355339]\n",
      " [-0.35355339 -0.35355339  0.35355339  0.35355339]\n",
      " [-0.35355339 -0.35355339  0.35355339  0.35355339]]\n"
     ]
    }
   ],
   "source": [
    "#generating stiffness matrix for all elements\n",
    "\n",
    "print(ele1.stiff())\n",
    "print(ele2.stiff())\n",
    "print(ele3.stiff())\n"
   ]
  },
  {
   "cell_type": "code",
   "execution_count": 26,
   "metadata": {},
   "outputs": [],
   "source": [
    "#list of nodes and elements\n",
    "nodes = [node1 , node2 , node3]\n",
    "eles = [ele1 , ele2 ,ele3]\n"
   ]
  },
  {
   "cell_type": "code",
   "execution_count": 27,
   "metadata": {},
   "outputs": [],
   "source": [
    "#generate global stiffness matrix \n",
    "\n",
    "def globalstiff(eles , num_nodes):\n",
    "    #dimension of global matrix\n",
    "    dim = 2 * num_nodes\n",
    "    #generate and store the element-wise stiffness matrices\n",
    "    SMs = [e.stiff() for e in eles]\n",
    "    \n",
    "    GK = np.zeros((dim,dim))\n",
    "    \n",
    "    for e in eles:\n",
    "        i = 2 * e.node_a.num -2\n",
    "        j = 2 * e.node_a.num -1\n",
    "        k = 2 * e.node_b.num -2\n",
    "        l = 2 * e.node_b.num -1\n",
    "        e_stiff = e.stiff()\n",
    "        \n",
    "        index = [i,j,k,l]\n",
    "        index2d = [(a,b) for a in index for b in index]\n",
    "        d = {i:0, j:1, k:2, l:3}\n",
    "        for p,q in index2d:\n",
    "            GK[p][q] = GK[p][q] + e_stiff[d[p]][d[q]]\n",
    "            \n",
    "    return GK\n",
    "            \n",
    "    "
   ]
  },
  {
   "cell_type": "code",
   "execution_count": 28,
   "metadata": {},
   "outputs": [
    {
     "data": {
      "text/plain": [
       "array([[ 1.35355339e+00,  3.53553391e-01, -1.00000000e+00,\n",
       "         0.00000000e+00, -3.53553391e-01, -3.53553391e-01],\n",
       "       [ 3.53553391e-01,  3.53553391e-01,  0.00000000e+00,\n",
       "         0.00000000e+00, -3.53553391e-01, -3.53553391e-01],\n",
       "       [-1.00000000e+00,  0.00000000e+00,  1.00000000e+00,\n",
       "         6.12323400e-17, -3.74939946e-33, -6.12323400e-17],\n",
       "       [ 0.00000000e+00,  0.00000000e+00,  6.12323400e-17,\n",
       "         1.00000000e+00, -6.12323400e-17, -1.00000000e+00],\n",
       "       [-3.53553391e-01, -3.53553391e-01, -3.74939946e-33,\n",
       "        -6.12323400e-17,  3.53553391e-01,  3.53553391e-01],\n",
       "       [-3.53553391e-01, -3.53553391e-01, -6.12323400e-17,\n",
       "        -1.00000000e+00,  3.53553391e-01,  1.35355339e+00]])"
      ]
     },
     "execution_count": 28,
     "metadata": {},
     "output_type": "execute_result"
    }
   ],
   "source": [
    "GK = globalstiff(eles , 3)\n",
    "GK"
   ]
  },
  {
   "cell_type": "code",
   "execution_count": 29,
   "metadata": {},
   "outputs": [
    {
     "name": "stdout",
     "output_type": "stream",
     "text": [
      "[ 0.  0.  0.  0. nan nan]\n",
      "[     nan      nan      nan      nan  100000. -200000.]\n"
     ]
    }
   ],
   "source": [
    "#create vector for node_dis and external_forces \n",
    "\n",
    "dis_list = []\n",
    "for n in nodes:\n",
    "    dis_list.append(n.dis_x)\n",
    "    dis_list.append(n.dis_y)\n",
    "    \n",
    "dis = np.array(dis_list)\n",
    "print(dis)\n",
    "\n",
    "f_list = []\n",
    "for n in nodes:\n",
    "    f_list.append(n.f_x)\n",
    "    f_list.append(n.f_y)\n",
    "    \n",
    "f = np.array(f_list)\n",
    "print(f)\n"
   ]
  },
  {
   "cell_type": "code",
   "execution_count": 30,
   "metadata": {},
   "outputs": [
    {
     "name": "stdout",
     "output_type": "stream",
     "text": [
      "[[0.35355339 0.35355339]\n",
      " [0.35355339 1.35355339]]\n",
      "[ 100000. -200000.]\n",
      "[4, 5]\n"
     ]
    }
   ],
   "source": [
    "#check for undetermined values in dis and create linear eqns\n",
    "\n",
    "GK_dis =  copy.deepcopy(GK)\n",
    "f_dis =  copy.deepcopy(f)\n",
    "\n",
    "del_row = []\n",
    "index_list = list(range(0,2*len(nodes)))\n",
    "for i in range(0,2*len(nodes)):\n",
    "    if dis_list[i] == 0:\n",
    "        del_row.append(i)\n",
    "        index_list.remove(i)\n",
    "GK_dis = np.delete(GK_dis,del_row,0)\n",
    "GK_dis = np.delete(GK_dis,del_row,1)\n",
    "f_dis = np.delete(f_dis,del_row,0)\n",
    "    \n",
    "print(GK_dis)\n",
    "print(f_dis)\n",
    "print(index_list)\n",
    "        \n",
    "    \n",
    "        "
   ]
  },
  {
   "cell_type": "code",
   "execution_count": 31,
   "metadata": {},
   "outputs": [
    {
     "name": "stdout",
     "output_type": "stream",
     "text": [
      "[[0.35355339 0.35355339]\n",
      " [0.35355339 1.35355339]]\n",
      "[ 100000. -200000.]\n"
     ]
    }
   ],
   "source": [
    "#check for undetermined values in force and create linear eqns\n",
    "\n",
    "GK_dis =  copy.deepcopy(GK)\n",
    "f_dis =  copy.deepcopy(f)\n",
    "\n",
    "del_row = []\n",
    "index_list = list(range(0,2*len(nodes)))\n",
    "for i in range(0,2*len(nodes)):\n",
    "    if dis_list[i] == 0:\n",
    "        del_row.append(i)\n",
    "        index_list.remove(i)\n",
    "GK_dis = np.delete(GK_dis,del_row,0)\n",
    "GK_dis = np.delete(GK_dis,del_row,1)\n",
    "f_dis = np.delete(f_dis,del_row,0)\n",
    "    \n",
    "print(GK_dis)\n",
    "print(f_dis)"
   ]
  },
  {
   "cell_type": "code",
   "execution_count": 32,
   "metadata": {},
   "outputs": [
    {
     "data": {
      "text/plain": [
       "array([ 582842.71247462, -300000.        ])"
      ]
     },
     "execution_count": 32,
     "metadata": {},
     "output_type": "execute_result"
    }
   ],
   "source": [
    "ans_dis = np.linalg.solve(GK_dis , f_dis)\n",
    "ans_dis"
   ]
  },
  {
   "cell_type": "code",
   "execution_count": 33,
   "metadata": {},
   "outputs": [
    {
     "data": {
      "text/plain": [
       "array([      0.        ,       0.        ,       0.        ,\n",
       "             0.        ,  582842.71247462, -300000.        ])"
      ]
     },
     "execution_count": 33,
     "metadata": {},
     "output_type": "execute_result"
    }
   ],
   "source": [
    "for i in range(0 , len(ans_dis)):\n",
    "    dis[index_list[i]] = ans_dis[i]\n",
    "dis"
   ]
  },
  {
   "cell_type": "code",
   "execution_count": 34,
   "metadata": {},
   "outputs": [
    {
     "data": {
      "text/plain": [
       "array([-1.0000000e+05, -1.0000000e+05,  1.8369702e-11,  3.0000000e+05,\n",
       "        1.0000000e+05, -2.0000000e+05])"
      ]
     },
     "execution_count": 34,
     "metadata": {},
     "output_type": "execute_result"
    }
   ],
   "source": [
    "ans_force = np.dot(GK,dis)\n",
    "ans_force"
   ]
  }
 ],
 "metadata": {
  "kernelspec": {
   "display_name": "Python 3 (ipykernel)",
   "language": "python",
   "name": "python3"
  },
  "language_info": {
   "codemirror_mode": {
    "name": "ipython",
    "version": 3
   },
   "file_extension": ".py",
   "mimetype": "text/x-python",
   "name": "python",
   "nbconvert_exporter": "python",
   "pygments_lexer": "ipython3",
   "version": "3.9.5"
  }
 },
 "nbformat": 4,
 "nbformat_minor": 4
}
