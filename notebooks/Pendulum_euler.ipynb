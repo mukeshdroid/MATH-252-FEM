{
 "cells": [
  {
   "cell_type": "markdown",
   "metadata": {},
   "source": [
    "Pendulum problem using Finite Difference"
   ]
  },
  {
   "cell_type": "code",
   "execution_count": 21,
   "metadata": {},
   "outputs": [],
   "source": [
    "import math\n",
    "import numpy\n",
    "from matplotlib import pyplot as plt\n"
   ]
  },
  {
   "cell_type": "code",
   "execution_count": 22,
   "metadata": {},
   "outputs": [],
   "source": [
    "# create dictionaries for velocity and angle\n",
    "v = dict()\n",
    "theta = dict()"
   ]
  },
  {
   "cell_type": "code",
   "execution_count": 23,
   "metadata": {},
   "outputs": [],
   "source": [
    "#constants\n",
    "g = 980\n",
    "l = 100\n",
    "ld = math.sqrt(g/l)\n",
    "dt = 0.01"
   ]
  },
  {
   "cell_type": "code",
   "execution_count": 24,
   "metadata": {},
   "outputs": [
    {
     "name": "stdout",
     "output_type": "stream",
     "text": [
      "17.431148549531656\n",
      "3.1304951684997055\n"
     ]
    }
   ],
   "source": [
    "#exact analytical solution (only for small angles)\n",
    "v[0] = math.sqrt((2*g*l)*(1-math.cos(math.radians(10))))\n",
    "print(v[0]/ld)\n",
    "print(ld)\n",
    "initial_angle = 0\n",
    "\n",
    "def ang(t):\n",
    "    ang = (v[0] / ld) * math.sin(ld * t) + initial_angle * math.cos(ld * t)\n",
    "    return ang"
   ]
  },
  {
   "cell_type": "code",
   "execution_count": 25,
   "metadata": {},
   "outputs": [],
   "source": [
    "#initialize theta\n",
    "\n",
    "theta[0] = 0\n"
   ]
  },
  {
   "cell_type": "code",
   "execution_count": 26,
   "metadata": {},
   "outputs": [],
   "source": [
    "def f(th):\n",
    "    f = (2*g*l)*(math.cos(math.radians(th))-math.cos(math.radians(10)))\n",
    "    if f > 0:\n",
    "        return math.sqrt(f)\n",
    "    else:\n",
    "        return - math.sqrt(-f)"
   ]
  },
  {
   "cell_type": "code",
   "execution_count": 27,
   "metadata": {},
   "outputs": [],
   "source": [
    "#difference equations\n",
    "i = 0\n",
    "while(theta[i] < 10):\n",
    "    theta[i + 1] = theta[i] + f(theta[i]) * dt\n",
    "    i = i + 1"
   ]
  },
  {
   "cell_type": "code",
   "execution_count": 28,
   "metadata": {},
   "outputs": [],
   "source": [
    "#copy the values of theta with appropriate shift to map for other quadrants\n",
    "theta_cycle = list(theta.values())\n",
    "theta_cycle.extend(reversed(theta_cycle))\n",
    "theta_cycle_34 = [-i for i in theta_cycle]\n",
    "theta_cycle.extend(theta_cycle_34)\n",
    "theta_final = dict(zip(list(range(0,len(theta_cycle))),theta_cycle))\n"
   ]
  },
  {
   "cell_type": "code",
   "execution_count": 29,
   "metadata": {},
   "outputs": [
    {
     "data": {
      "text/plain": [
       "[0.0,\n",
       " 0.5455921395846132,\n",
       " 1.0906496425365646,\n",
       " 1.6346383961243052,\n",
       " 2.1770253349051303,\n",
       " 2.7172789630866507,\n",
       " 3.2548698753501357,\n",
       " 3.789271275625353,\n",
       " 4.319959493308563,\n",
       " 4.846414496417793,\n",
       " 5.368120401182572,\n",
       " 5.884565977568726,\n",
       " 6.39524515024291,\n",
       " 6.899657494485921,\n",
       " 7.3973087265688875,\n",
       " 7.887711188111751,\n",
       " 8.370384323949464,\n",
       " 8.844855153037582,\n",
       " 9.310658731935838,\n",
       " 9.76733861041551,\n",
       " 10.214447278744107,\n",
       " 10.651546606209093,\n",
       " 11.078208270450926,\n",
       " 11.494014177184694,\n",
       " 11.898556869899036,\n",
       " 12.291439929130936,\n",
       " 12.672278360925066,\n",
       " 13.040698974097035,\n",
       " 13.396340745930905,\n",
       " 13.738855175952542,\n",
       " 14.067906627432206,\n",
       " 14.383172656281667,\n",
       " 14.68434432702362,\n",
       " 14.971126515523723,\n",
       " 15.243238198188632,\n",
       " 15.50041272734663,\n",
       " 15.742398092541,\n",
       " 15.968957167480118,\n",
       " 16.17986794240223,\n",
       " 16.374923741627253,\n",
       " 16.5539334260824,\n",
       " 16.716721580603178,\n",
       " 16.86312868582621,\n",
       " 16.99301127450545,\n",
       " 17.10624207209858,\n",
       " 17.20271012148591,\n",
       " 17.282320891699438,\n",
       " 17.34499637055567,\n",
       " 17.390675141101287,\n",
       " 17.419312441796855,\n",
       " 17.430880210379566,\n",
       " 17.42536711136198,\n",
       " 17.402778547139913,\n",
       " 17.36313665269853,\n",
       " 17.306480273921814,\n",
       " 17.232864929526713,\n",
       " 17.142362756659242,\n",
       " 17.035062440205863,\n",
       " 16.91106912588938,\n",
       " 16.770504317234543,\n",
       " 16.613505756504335,\n",
       " 16.440227289723563,\n",
       " 16.25083871592207,\n",
       " 16.04552562074528,\n",
       " 15.824489194595111,\n",
       " 15.587946035479488,\n",
       " 15.33612793676362,\n",
       " 15.069281660031072,\n",
       " 14.787668693277137,\n",
       " 14.491564994671544,\n",
       " 14.181260722141543,\n",
       " 13.85705994904034,\n",
       " 13.51928036617954,\n",
       " 13.168252970517615,\n",
       " 12.804321740809334,\n",
       " 12.427843300534134,\n",
       " 12.039186568433639,\n",
       " 11.638732397000844,\n",
       " 11.226873199275108,\n",
       " 10.804012564308817,\n",
       " 10.370564861682393,\n",
       " 9.926954835455287,\n",
       " 9.473617187950765,\n",
       " 9.010996153782445,\n",
       " 8.53954506453992,\n",
       " 8.059725904560077,\n",
       " 7.572008858219424,\n",
       " 7.076871849191028,\n",
       " 6.574800072117569,\n",
       " 6.066285517159408,\n",
       " 5.551826487883618,\n",
       " 5.031927112966374,\n",
       " 4.507096852187167,\n",
       " 3.9778499971990176,\n",
       " 3.444705167563809,\n",
       " 2.908184802546619,\n",
       " 2.368814649167054,\n",
       " 1.8271232470092444,\n",
       " 1.2836414102953533,\n",
       " 0.7389017077301172,\n",
       " 0.19343794062614073,\n",
       " -0.35221538017867193,\n",
       " -0.8975235580989595,\n",
       " -1.441952234761766,\n",
       " -1.9849679136349796,\n",
       " -2.526038482811248,\n",
       " -3.0646337364350296,\n",
       " -3.6002258942619463,\n",
       " -4.132290118841153,\n",
       " -4.660305029814044,\n",
       " -5.18375321482528,\n",
       " -5.702121736545484]"
      ]
     },
     "execution_count": 29,
     "metadata": {},
     "output_type": "execute_result"
    }
   ],
   "source": [
    "t = [0.01 * i for i in range(0,len(theta_cycle))]\n",
    "theta_an = [ang(t[i]) for i in range(0,len(theta_cycle))]\n",
    "theta_an"
   ]
  },
  {
   "cell_type": "code",
   "execution_count": 30,
   "metadata": {
    "scrolled": true
   },
   "outputs": [
    {
     "data": {
      "text/plain": [
       "Text(0, 0.5, 'theta')"
      ]
     },
     "execution_count": 30,
     "metadata": {},
     "output_type": "execute_result"
    },
    {
     "data": {
      "image/png": "[encoded data removed]",
      "text/plain": [
       "<Figure size 576x360 with 1 Axes>"
      ]
     },
     "metadata": {},
     "output_type": "display_data"
    }
   ],
   "source": [
    "fig = plt.gcf()\n",
    "fig.set_size_inches(8,5)\n",
    "plt.plot(t,theta_an, label = \"Analytical\")\n",
    "plt.plot(t, theta_cycle,label = \"Numerical first-order\")\n",
    "plt.legend()\n",
    "plt.xlabel('Time-0.1 * sec')\n",
    "plt.ylabel('theta')"
   ]
  }
 ],
 "metadata": {
  "kernelspec": {
   "display_name": "Python 3",
   "language": "python",
   "name": "python3"
  },
  "language_info": {
   "codemirror_mode": {
    "name": "ipython",
    "version": 3
   },
   "file_extension": ".py",
   "mimetype": "text/x-python",
   "name": "python",
   "nbconvert_exporter": "python",
   "pygments_lexer": "ipython3",
   "version": "3.6.9"
  }
 },
 "nbformat": 4,
 "nbformat_minor": 2
}
