{
 "cells": [
  {
   "cell_type": "markdown",
   "metadata": {},
   "source": [
    "# Direct Stiffness Method\n"
   ]
  },
  {
   "cell_type": "markdown",
   "metadata": {},
   "source": [
    "![](qn1.png)"
   ]
  },
  {
   "cell_type": "markdown",
   "metadata": {},
   "source": [
    "### Determining nodal displacement of stepped bar, reaction support and stresses in each element.<br> [ E = 200 GPa]"
   ]
  },
  {
   "cell_type": "markdown",
   "metadata": {},
   "source": [
    "#### 1. Discretization"
   ]
  },
  {
   "cell_type": "markdown",
   "metadata": {},
   "source": [
    "![](disc.png)"
   ]
  },
  {
   "cell_type": "markdown",
   "metadata": {},
   "source": [
    "#### Stiffness Matrix:\n",
    "\n",
    "$$[K] = \\frac{AE}{L} \\begin{bmatrix} 1 & -1 \\\\ -1 & 1 \\end{bmatrix}$$\n",
    "\n",
    "We have,<br>\n",
    "    $ A_1 = A_2 = 200 mm^2 $,<br>\n",
    "    $ A_3 = 100 mm^2 $,<br>\n",
    "    $ E = 200 GPa \\hspace{0.5cm} or\\hspace{0.5cm} 200 * 10^3 N/ (mm)^2 $,<br>\n",
    "    $ L_1 = L_2 = 100 mm $,<br>\n",
    "    $ L_3 = 150mm $"
   ]
  },
  {
   "cell_type": "markdown",
   "metadata": {},
   "source": [
    "#### Now, <br>\n",
    "$$[K_n] = \\frac{A_nE}{L_n} \\begin{bmatrix} 1 & -1 \\\\ -1 & 1 \\end{bmatrix}$$"
   ]
  },
  {
   "cell_type": "code",
   "execution_count": 30,
   "metadata": {},
   "outputs": [
    {
     "data": {
      "text/plain": [
       "(array([[ 400000., -400000.],\n",
       "        [-400000.,  400000.]]),\n",
       " array([[ 400000., -400000.],\n",
       "        [-400000.,  400000.]]),\n",
       " array([[ 133333.33333333, -133333.33333333],\n",
       "        [-133333.33333333,  133333.33333333]]))"
      ]
     },
     "execution_count": 30,
     "metadata": {},
     "output_type": "execute_result"
    }
   ],
   "source": [
    "import math\n",
    "import numpy as np\n",
    "\n",
    "SM = np.array([[1,-1],[-1,1]])\n",
    "A_1 = A_2 = 200\n",
    "A_3 = 100\n",
    "E = 200000\n",
    "L_1 = L_2 = 100\n",
    "L_3 = 150\n",
    "\n",
    "K_1 = K_2 = ((A_1 * E)/L_1) * SM\n",
    "K_3 = ((A_3 * E)/L_3) * SM\n",
    "\n",
    "K_1, K_2, K_3"
   ]
  },
  {
   "cell_type": "markdown",
   "metadata": {},
   "source": [
    "#### As it is in 1-D, the degree of freedom for each node is only 1.<br><br>Thus the size of Global Stiffness Matrix :<br>\n",
    "                No. of nodes * Degree of freedom = 4 X 1 = 4"
   ]
  },
  {
   "cell_type": "code",
   "execution_count": 31,
   "metadata": {},
   "outputs": [
    {
     "data": {
      "text/plain": [
       "array([[ 400000., -400000.,       0.,       0.],\n",
       "       [-100000.,  800000., -400000.,       0.],\n",
       "       [      0., -400000.,  533000., -133000.],\n",
       "       [      0.,       0., -133000.,  133000.]])"
      ]
     },
     "execution_count": 31,
     "metadata": {},
     "output_type": "execute_result"
    }
   ],
   "source": [
    "GSM = np.array([[4, -4, 0, 0],[-1, 8, -4, 0], [0, -4, 5.33, -1.33], [0, 0, -1.33, 1.33]])* 100000\n",
    "GSM"
   ]
  },
  {
   "cell_type": "markdown",
   "metadata": {},
   "source": [
    "### Equillibrium Equation \n",
    "\n",
    "$$ [K] * [d] = [F] $$ <br>where K is Global Stiffness Matrix, d is 4 X 1 displacement vector for 4 nodes and F is also a 4 X 1 force vector of the nodes.<br>\n",
    "    \n",
    "Now here, Let $d_1,d_2,d_3$ and $d_4$ be elements of $d$ and $f_1,f_2,f_3$ and $f_4$ be elements of $f$. \n",
    "\n",
    "Here, $d_1 = 0$, since Node one is the support and is rigid and thus no displacement takes place. Also $f_1 = R$ which is the reaction force, $f_2 = 20 kN$, $f_3 = 0$ since the 3rd node is the change of cross section only and $f_4 = 10kN$."
   ]
  },
  {
   "cell_type": "markdown",
   "metadata": {},
   "source": [
    "$$ 10^5\\begin{bmatrix} 4 & -4 & 0 & 0 \\\\ -4 & 8 & -4 & 0 \\\\ 0 & -4 & 5.33 & -1.33 \\\\ 0 & 0 & -1.33 & 1.33 \\end{bmatrix} * \\begin{bmatrix} 0 \\\\ d_2 \\\\ d_3 \\\\ d_4 \\end{bmatrix} = \\begin{bmatrix} R \\\\ 20000 \\\\ 0 \\\\ 10000 \\end{bmatrix} $$"
   ]
  },
  {
   "cell_type": "code",
   "execution_count": 61,
   "metadata": {},
   "outputs": [
    {
     "data": {
      "text/plain": [
       "(0, 0.07500000000000001, 0.1, 0.17518796992481203)"
      ]
     },
     "execution_count": 61,
     "metadata": {},
     "output_type": "execute_result"
    }
   ],
   "source": [
    "nGSM = GSM[1:,1:]                           # sliced GSM matrix\n",
    "nf = np.array([[20000],[0],[10000]])        # sliced force vector\n",
    "nd = np.dot(np.linalg.inv(nGSM),nf)         # matrix product \n",
    "d_1, d_2, d_3, d_4 = 0, nd[0,0],nd[1,0],nd[2,0]\n",
    "d_1, d_2, d_3, d_4"
   ]
  },
  {
   "cell_type": "markdown",
   "metadata": {},
   "source": [
    "To find R:\n"
   ]
  },
  {
   "cell_type": "code",
   "execution_count": 45,
   "metadata": {},
   "outputs": [
    {
     "data": {
      "text/plain": [
       "-30000.000000000004"
      ]
     },
     "execution_count": 45,
     "metadata": {},
     "output_type": "execute_result"
    }
   ],
   "source": [
    "R = (4 * d_1 -4 * d_2 + 0 * d_3 + 0 * d_4) * 100000\n",
    "R"
   ]
  },
  {
   "cell_type": "markdown",
   "metadata": {},
   "source": [
    "\n",
    "#### Therefore : \n",
    "$$ R = -30 kN$$"
   ]
  },
  {
   "cell_type": "markdown",
   "metadata": {},
   "source": [
    "Now we know,\n",
    "\n",
    " Stress ($\\sigma$) $= E * [B] * [d]$ <br><br>\n",
    " where, $$B = \\frac{1}{L_1} \\begin{bmatrix} -1 & 1 \\end{bmatrix} $$ "
   ]
  },
  {
   "cell_type": "code",
   "execution_count": 59,
   "metadata": {},
   "outputs": [
    {
     "data": {
      "text/plain": [
       "(150.00000000000003, 49.99999999999997, 100.25062656641606)"
      ]
     },
     "execution_count": 59,
     "metadata": {},
     "output_type": "execute_result"
    }
   ],
   "source": [
    "bm = np.array([-1,1])\n",
    "d = np.array([[d_1], [d_2], [d_3], [d_4]])\n",
    "\n",
    "Sigma_1 = np.dot(E * (1/L_1) * bm , d[0:2])\n",
    "Sigma_2 = np.dot(E * (1/L_2) * bm , d[1:3])\n",
    "Sigma_3 = np.dot(E * (1/L_3) * bm , d[2:4])\n",
    "\n",
    "sigma_1,sigma_2,sigma_3 = Sigma_1[0],Sigma_2[0],Sigma_3[0]\n",
    "sigma_1, sigma_2, sigma_3"
   ]
  },
  {
   "cell_type": "code",
   "execution_count": null,
   "metadata": {},
   "outputs": [],
   "source": []
  }
 ],
 "metadata": {
  "kernelspec": {
   "display_name": "Python 3",
   "language": "python",
   "name": "python3"
  },
  "language_info": {
   "codemirror_mode": {
    "name": "ipython",
    "version": 3
   },
   "file_extension": ".py",
   "mimetype": "text/x-python",
   "name": "python",
   "nbconvert_exporter": "python",
   "pygments_lexer": "ipython3",
   "version": "3.6.9"
  }
 },
 "nbformat": 4,
 "nbformat_minor": 5
}
