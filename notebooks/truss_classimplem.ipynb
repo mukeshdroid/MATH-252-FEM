{
 "cells": [
  {
   "cell_type": "markdown",
   "metadata": {},
   "source": [
    "Implementating fem for truss using class"
   ]
  },
  {
   "cell_type": "code",
   "execution_count": 17,
   "metadata": {},
   "outputs": [],
   "source": [
    "import math\n",
    "import numpy as np"
   ]
  },
  {
   "cell_type": "code",
   "execution_count": 18,
   "metadata": {},
   "outputs": [],
   "source": [
    "#import classes for nodes and elements\n",
    "from node import node\n",
    "from ele import ele"
   ]
  },
  {
   "cell_type": "code",
   "execution_count": 19,
   "metadata": {},
   "outputs": [],
   "source": [
    "#define nodes\n",
    "node1 = node(1,0,0,np.nan,np.nan,np.nan,np.nan)\n",
    "node2 = node(2,2,0,np.nan,np.nan,np.nan,np.nan)\n",
    "node3 = node(3,2,2,np.nan,np.nan,100000,-200000)"
   ]
  },
  {
   "cell_type": "code",
   "execution_count": 20,
   "metadata": {},
   "outputs": [
    {
     "name": "stdout",
     "output_type": "stream",
     "text": [
      "num =  1 \n",
      " pos_x = 0 \n",
      " pos_y =  0 \n",
      " dis_x =  nan \n",
      " dis_y =  nan \n",
      " f_x =  nan \n",
      " f_y =  nan\n",
      "num =  2 \n",
      " pos_x = 2 \n",
      " pos_y =  0 \n",
      " dis_x =  nan \n",
      " dis_y =  nan \n",
      " f_x =  nan \n",
      " f_y =  nan\n",
      "num =  3 \n",
      " pos_x = 2 \n",
      " pos_y =  2 \n",
      " dis_x =  nan \n",
      " dis_y =  nan \n",
      " f_x =  100000 \n",
      " f_y =  -200000\n"
     ]
    },
    {
     "data": {
      "text/plain": [
       "0"
      ]
     },
     "execution_count": 20,
     "metadata": {},
     "output_type": "execute_result"
    }
   ],
   "source": [
    "node1.print()\n",
    "node2.print()\n",
    "node3.print()"
   ]
  },
  {
   "cell_type": "code",
   "execution_count": 21,
   "metadata": {},
   "outputs": [],
   "source": [
    "#define elements\n",
    "\n",
    "ele1 = ele(1,1,0.01, 210 * 10**9 , 0 , 1 , 2)\n",
    "ele2 = ele(2,1,0.01, 210 * 10**9 , math.pi / 2 , 2 , 3)\n",
    "ele3 = ele(3,1*math.sqrt(2),0.01, 210 * 10**9 , math.pi / 4 , 1 , 3)\n"
   ]
  },
  {
   "cell_type": "code",
   "execution_count": 22,
   "metadata": {},
   "outputs": [
    {
     "name": "stdout",
     "output_type": "stream",
     "text": [
      "num =  1 \n",
      " length= 1 \n",
      " area =  0.01 \n",
      " youngs modulus =  210000000000 \n",
      " theta =  0 \n",
      " node_a =  1 \n",
      " node_b =  2\n",
      "num =  2 \n",
      " length= 1 \n",
      " area =  0.01 \n",
      " youngs modulus =  210000000000 \n",
      " theta =  1.5707963267948966 \n",
      " node_a =  2 \n",
      " node_b =  3\n",
      "num =  3 \n",
      " length= 1.4142135623730951 \n",
      " area =  0.01 \n",
      " youngs modulus =  210000000000 \n",
      " theta =  0.7853981633974483 \n",
      " node_a =  1 \n",
      " node_b =  3\n"
     ]
    },
    {
     "data": {
      "text/plain": [
       "0"
      ]
     },
     "execution_count": 22,
     "metadata": {},
     "output_type": "execute_result"
    }
   ],
   "source": [
    "ele1.print()\n",
    "ele2.print()\n",
    "ele3.print()"
   ]
  },
  {
   "cell_type": "code",
   "execution_count": 23,
   "metadata": {},
   "outputs": [
    {
     "name": "stdout",
     "output_type": "stream",
     "text": [
      "[[ 2.1e+09  0.0e+00 -2.1e+09 -0.0e+00]\n",
      " [ 0.0e+00  0.0e+00 -0.0e+00 -0.0e+00]\n",
      " [-2.1e+09 -0.0e+00  2.1e+09  0.0e+00]\n",
      " [-0.0e+00 -0.0e+00  0.0e+00  0.0e+00]]\n",
      "[[ 7.87373886e-24  1.28587914e-07 -7.87373886e-24 -1.28587914e-07]\n",
      " [ 1.28587914e-07  2.10000000e+09 -1.28587914e-07 -2.10000000e+09]\n",
      " [-7.87373886e-24 -1.28587914e-07  7.87373886e-24  1.28587914e-07]\n",
      " [-1.28587914e-07 -2.10000000e+09  1.28587914e-07  2.10000000e+09]]\n",
      "[[ 7.4246212e+08  7.4246212e+08 -7.4246212e+08 -7.4246212e+08]\n",
      " [ 7.4246212e+08  7.4246212e+08 -7.4246212e+08 -7.4246212e+08]\n",
      " [-7.4246212e+08 -7.4246212e+08  7.4246212e+08  7.4246212e+08]\n",
      " [-7.4246212e+08 -7.4246212e+08  7.4246212e+08  7.4246212e+08]]\n"
     ]
    }
   ],
   "source": [
    "#generating stiffness matrix for all elements\n",
    "\n",
    "print(ele1.stiff())\n",
    "print(ele2.stiff())\n",
    "print(ele3.stiff())\n"
   ]
  },
  {
   "cell_type": "code",
   "execution_count": null,
   "metadata": {},
   "outputs": [],
   "source": [
    "#list of nodes and elements\n"
   ]
  }
 ],
 "metadata": {
  "kernelspec": {
   "display_name": "Python 3",
   "language": "python",
   "name": "python3"
  },
  "language_info": {
   "codemirror_mode": {
    "name": "ipython",
    "version": 3
   },
   "file_extension": ".py",
   "mimetype": "text/x-python",
   "name": "python",
   "nbconvert_exporter": "python",
   "pygments_lexer": "ipython3",
   "version": "3.6.9"
  }
 },
 "nbformat": 4,
 "nbformat_minor": 4
}
