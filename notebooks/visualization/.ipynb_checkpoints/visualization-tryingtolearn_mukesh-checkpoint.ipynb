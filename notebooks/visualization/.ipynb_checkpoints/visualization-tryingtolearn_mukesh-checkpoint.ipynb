{
 "cells": [
  {
   "cell_type": "code",
   "execution_count": 13,
   "metadata": {},
   "outputs": [],
   "source": [
    "import ele\n",
    "import node\n",
    "import turtle\n",
    "\n"
   ]
  },
  {
   "cell_type": "code",
   "execution_count": 14,
   "metadata": {},
   "outputs": [],
   "source": [
    "node1 = node.nodep(1,-4,0)\n",
    "node2 = node.nodep(2,-2,0)\n",
    "node3 = node.nodep(3,0,0)\n",
    "node4 = node.nodep(4,2,0)\n",
    "node5 = node.nodep(5,4,0)\n",
    "node6 = node.nodep(6,4,2.9118)\n",
    "node7 = node.nodep(7,2,2.1842)\n",
    "node8 = node.nodep(8,0,1.4561)\n",
    "node9 = node.nodep(9,-2,0.7280)\n",
    "\n",
    "nodes = [node1,node2,node3,node4,node5,node6,node7,node8,node9,node1]\n",
    "\n",
    "ele1  = ele.elep(1, node1, node2)\n",
    "ele2  = ele.elep(2, node2, node3)\n",
    "ele3  = ele.elep(3, node3, node4)\n",
    "ele4  = ele.elep(4, node4, node5)\n",
    "ele5  = ele.elep(5, node5, node6)\n",
    "ele6  = ele.elep(6, node6, node7)\n",
    "ele7  = ele.elep(7, node7, node8)\n",
    "ele8  = ele.elep(8, node8, node9)\n",
    "ele9  = ele.elep(9, node9, node1)\n",
    "ele10 = ele.elep(10, node2, node9)\n",
    "ele11 = ele.elep(11, node2, node8)\n",
    "ele12 = ele.elep(12, node3, node8)\n",
    "ele13 = ele.elep(13, node4, node8)\n",
    "ele14 = ele.elep(14, node4, node7)\n",
    "ele15 = ele.elep(15, node4, node6)\n",
    "\n",
    "eles = [ele1, ele2, ele3, ele4, ele5, ele6, ele7, ele8, ele9, ele10, ele11, ele12, ele13, ele14, ele15]"
   ]
  },
  {
   "cell_type": "code",
   "execution_count": 15,
   "metadata": {},
   "outputs": [],
   "source": [
    "turtle.title(\"Visualization\")\n",
    "turtle.bgcolor(\"black\")\n",
    "t = turtle.Turtle()\n",
    "t.hideturtle()\n",
    "t.pensize(5)\n",
    "t.pencolor(\"blue\")\n",
    "\n",
    "for ele in eles:\n",
    "    t.goto(ele.node_a.pos_x*70, ele.node_a.pos_y*70)\n",
    "    t.goto(ele.node_b.pos_x*70, ele.node_b.pos_y*70)\n",
    "\n",
    "for node in nodes:\n",
    "    t.penup()\n",
    "    t.goto(node.pos_x*70, node.pos_y*70)\n",
    "    t.pendown()\n",
    "    t.dot(15,\"red\")    "
   ]
  },
  {
   "cell_type": "code",
   "execution_count": 9,
   "metadata": {},
   "outputs": [],
   "source": [
    "turtle.bye()"
   ]
  },
  {
   "cell_type": "code",
   "execution_count": 5,
   "metadata": {},
   "outputs": [
    {
     "ename": "SyntaxError",
     "evalue": "invalid syntax (678666269.py, line 1)",
     "output_type": "error",
     "traceback": [
      "\u001b[0;36m  Input \u001b[0;32mIn [5]\u001b[0;36m\u001b[0m\n\u001b[0;31m    export DISPLAY=:0.0\u001b[0m\n\u001b[0m           ^\u001b[0m\n\u001b[0;31mSyntaxError\u001b[0m\u001b[0;31m:\u001b[0m invalid syntax\n"
     ]
    }
   ],
   "source": [
    "export DISPLAY=:0.0\n",
    "    "
   ]
  },
  {
   "cell_type": "code",
   "execution_count": null,
   "metadata": {},
   "outputs": [],
   "source": []
  },
  {
   "cell_type": "code",
   "execution_count": null,
   "metadata": {},
   "outputs": [],
   "source": []
  },
  {
   "cell_type": "code",
   "execution_count": null,
   "metadata": {},
   "outputs": [],
   "source": []
  },
  {
   "cell_type": "code",
   "execution_count": null,
   "metadata": {},
   "outputs": [],
   "source": []
  },
  {
   "cell_type": "code",
   "execution_count": null,
   "metadata": {},
   "outputs": [],
   "source": []
  }
 ],
 "metadata": {
  "kernelspec": {
   "display_name": "mcscvenv",
   "language": "python",
   "name": "mcscvenv"
  },
  "language_info": {
   "codemirror_mode": {
    "name": "ipython",
    "version": 3
   },
   "file_extension": ".py",
   "mimetype": "text/x-python",
   "name": "python",
   "nbconvert_exporter": "python",
   "pygments_lexer": "ipython3",
   "version": "3.8.10"
  }
 },
 "nbformat": 4,
 "nbformat_minor": 2
}
