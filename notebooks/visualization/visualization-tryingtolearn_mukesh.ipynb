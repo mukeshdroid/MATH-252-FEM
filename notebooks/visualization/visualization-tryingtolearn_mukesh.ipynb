{
 "cells": [
  {
   "cell_type": "code",
   "execution_count": 141,
   "metadata": {},
   "outputs": [],
   "source": [
    "import ele\n",
    "import node\n",
    "import turtle"
   ]
  },
  {
   "cell_type": "code",
   "execution_count": 142,
   "metadata": {},
   "outputs": [],
   "source": [
    "node1 = node.nodep(1,-1,0)\n",
    "node2 = node.nodep(2,2,0)\n",
    "node3 = node.nodep(3,-1,3)\n",
    "\n",
    "nodes = [node1,node2,node3,node1]\n",
    "\n",
    "ele1  = ele.elep(1, node1, node2)\n",
    "ele2  = ele.elep(2, node2, node3)\n",
    "ele3  = ele.elep(3, node3, node1)\n",
    "\n",
    "eles = [ele1, ele2, ele3]"
   ]
  },
  {
   "cell_type": "code",
   "execution_count": 143,
   "metadata": {},
   "outputs": [],
   "source": [
    "node1a = node.nodep(1,-1,0)\n",
    "node2a = node.nodep(2,2.2,0)\n",
    "node3a = node.nodep(3,-1,2.8)\n",
    "\n",
    "nodesa = [node1a,node2a,node3a,node1a]\n",
    "\n",
    "ele1a  = ele.elep(1, node1a, node2a)\n",
    "ele2a  = ele.elep(2, node2a, node3a)\n",
    "ele3a  = ele.elep(3, node3a, node1a)\n",
    "\n",
    "elesa = [ele1a, ele2a, ele3a]"
   ]
  },
  {
   "cell_type": "code",
   "execution_count": 144,
   "metadata": {},
   "outputs": [],
   "source": [
    "turtle.title(\"Visualization\")\n",
    "turtle.clearscreen()"
   ]
  },
  {
   "cell_type": "code",
   "execution_count": 145,
   "metadata": {},
   "outputs": [],
   "source": [
    "turtle.title(\"Visualization\")\n",
    "turtle.bgcolor(\"black\")\n",
    "t = turtle.Turtle()\n",
    "t.hideturtle()\n",
    "t.pensize(5)\n",
    "t.pencolor(\"blue\")\n",
    "\n",
    "for ele in eles:\n",
    "    t.goto(ele.node_a.pos_x*70, ele.node_a.pos_y*70)\n",
    "    t.goto(ele.node_b.pos_x*70, ele.node_b.pos_y*70)\n",
    "\n",
    "for node in nodes:\n",
    "    t.penup()\n",
    "    t.goto(node.pos_x*70, node.pos_y*70)\n",
    "    t.pendown()\n",
    "    t.dot(15,\"red\")    "
   ]
  },
  {
   "cell_type": "code",
   "execution_count": 146,
   "metadata": {},
   "outputs": [],
   "source": [
    "#turtle.bye()"
   ]
  },
  {
   "cell_type": "code",
   "execution_count": 147,
   "metadata": {},
   "outputs": [],
   "source": [
    "\n",
    "turtle.bgcolor(\"black\")\n",
    "t = turtle.Turtle()\n",
    "t.hideturtle()\n",
    "t.pensize(5)\n",
    "t.pencolor(\"purple\")\n",
    "\n",
    "for ele in elesa:\n",
    "    t.goto(ele.node_a.pos_x*70, ele.node_a.pos_y*70)\n",
    "    t.goto(ele.node_b.pos_x*70, ele.node_b.pos_y*70)\n",
    "\n",
    "for node in nodesa:\n",
    "    t.penup()\n",
    "    t.goto(node.pos_x*70, node.pos_y*70)\n",
    "    t.pendown()\n",
    "    t.dot(15,\"orange\")"
   ]
  },
  {
   "cell_type": "code",
   "execution_count": 148,
   "metadata": {},
   "outputs": [],
   "source": [
    "turtle.bye()"
   ]
  },
  {
   "cell_type": "code",
   "execution_count": 109,
   "metadata": {},
   "outputs": [
    {
     "ename": "Terminator",
     "evalue": "",
     "output_type": "error",
     "traceback": [
      "\u001b[0;31m---------------------------------------------------------------------------\u001b[0m",
      "\u001b[0;31mTerminator\u001b[0m                                Traceback (most recent call last)",
      "Input \u001b[0;32mIn [109]\u001b[0m, in \u001b[0;36m<module>\u001b[0;34m\u001b[0m\n\u001b[0;32m----> 1\u001b[0m \u001b[43mturtle\u001b[49m\u001b[38;5;241;43m.\u001b[39;49m\u001b[43mclearscreen\u001b[49m\u001b[43m(\u001b[49m\u001b[43m)\u001b[49m\n",
      "File \u001b[0;32m<string>:5\u001b[0m, in \u001b[0;36mclearscreen\u001b[0;34m()\u001b[0m\n",
      "\u001b[0;31mTerminator\u001b[0m: "
     ]
    }
   ],
   "source": [
    "turtle.clearscreen()"
   ]
  },
  {
   "cell_type": "code",
   "execution_count": null,
   "metadata": {},
   "outputs": [],
   "source": []
  }
 ],
 "metadata": {
  "kernelspec": {
   "display_name": "mcscvenv",
   "language": "python",
   "name": "mcscvenv"
  },
  "language_info": {
   "codemirror_mode": {
    "name": "ipython",
    "version": 3
   },
   "file_extension": ".py",
   "mimetype": "text/x-python",
   "name": "python",
   "nbconvert_exporter": "python",
   "pygments_lexer": "ipython3",
   "version": "3.8.10"
  }
 },
 "nbformat": 4,
 "nbformat_minor": 2
}
