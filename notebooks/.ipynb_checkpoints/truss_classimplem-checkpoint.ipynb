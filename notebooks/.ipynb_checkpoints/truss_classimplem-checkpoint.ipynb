{
 "cells": [
  {
   "cell_type": "markdown",
   "metadata": {},
   "source": [
    "Implementating fem for truss using class"
   ]
  },
  {
   "cell_type": "code",
   "execution_count": 78,
   "metadata": {},
   "outputs": [],
   "source": [
    "import math\n",
    "import numpy as np\n",
    "import copy"
   ]
  },
  {
   "cell_type": "code",
   "execution_count": 79,
   "metadata": {},
   "outputs": [],
   "source": [
    "#import classes for nodes and elements\n",
    "from node import node\n",
    "from ele import ele"
   ]
  },
  {
   "cell_type": "code",
   "execution_count": 80,
   "metadata": {},
   "outputs": [],
   "source": [
    "#define nodes along with boundary conditions\n",
    "node1 = node(1,0,0,0,0,np.nan,np.nan)\n",
    "node2 = node(2,2,0,0,0,np.nan,np.nan)\n",
    "node3 = node(3,2,2,np.nan,np.nan,100000,-200000)"
   ]
  },
  {
   "cell_type": "code",
   "execution_count": 81,
   "metadata": {},
   "outputs": [
    {
     "name": "stdout",
     "output_type": "stream",
     "text": [
      "num =  1 \n",
      " pos_x = 0 \n",
      " pos_y =  0 \n",
      " dis_x =  0 \n",
      " dis_y =  0 \n",
      " f_x =  nan \n",
      " f_y =  nan\n",
      "num =  2 \n",
      " pos_x = 2 \n",
      " pos_y =  0 \n",
      " dis_x =  0 \n",
      " dis_y =  0 \n",
      " f_x =  nan \n",
      " f_y =  nan\n",
      "num =  3 \n",
      " pos_x = 2 \n",
      " pos_y =  2 \n",
      " dis_x =  nan \n",
      " dis_y =  nan \n",
      " f_x =  100000 \n",
      " f_y =  -200000\n"
     ]
    },
    {
     "data": {
      "text/plain": [
       "0"
      ]
     },
     "execution_count": 81,
     "metadata": {},
     "output_type": "execute_result"
    }
   ],
   "source": [
    "node1.print()\n",
    "node2.print()\n",
    "node3.print()"
   ]
  },
  {
   "cell_type": "code",
   "execution_count": 82,
   "metadata": {},
   "outputs": [],
   "source": [
    "#define elements\n",
    "\n",
    "ele1 = ele(1,1,0.01, 210 * 10**9 , 0 , 1 , 2)\n",
    "ele2 = ele(2,1,0.01, 210 * 10**9 , math.pi / 2 , 2 , 3)\n",
    "ele3 = ele(3,1*math.sqrt(2),0.01, 210 * 10**9 , math.pi / 4 , 1 , 3)\n"
   ]
  },
  {
   "cell_type": "code",
   "execution_count": 83,
   "metadata": {},
   "outputs": [
    {
     "name": "stdout",
     "output_type": "stream",
     "text": [
      "num =  1 \n",
      " length= 1 \n",
      " area =  0.01 \n",
      " youngs modulus =  210000000000 \n",
      " theta =  0 \n",
      " node_a =  1 \n",
      " node_b =  2\n",
      "num =  2 \n",
      " length= 1 \n",
      " area =  0.01 \n",
      " youngs modulus =  210000000000 \n",
      " theta =  1.5707963267948966 \n",
      " node_a =  2 \n",
      " node_b =  3\n",
      "num =  3 \n",
      " length= 1.4142135623730951 \n",
      " area =  0.01 \n",
      " youngs modulus =  210000000000 \n",
      " theta =  0.7853981633974483 \n",
      " node_a =  1 \n",
      " node_b =  3\n"
     ]
    },
    {
     "data": {
      "text/plain": [
       "0"
      ]
     },
     "execution_count": 83,
     "metadata": {},
     "output_type": "execute_result"
    }
   ],
   "source": [
    "ele1.print()\n",
    "ele2.print()\n",
    "ele3.print()"
   ]
  },
  {
   "cell_type": "code",
   "execution_count": 84,
   "metadata": {},
   "outputs": [
    {
     "name": "stdout",
     "output_type": "stream",
     "text": [
      "[[ 2.1e+09  0.0e+00 -2.1e+09 -0.0e+00]\n",
      " [ 0.0e+00  0.0e+00 -0.0e+00 -0.0e+00]\n",
      " [-2.1e+09 -0.0e+00  2.1e+09  0.0e+00]\n",
      " [-0.0e+00 -0.0e+00  0.0e+00  0.0e+00]]\n",
      "[[ 7.87373886e-24  1.28587914e-07 -7.87373886e-24 -1.28587914e-07]\n",
      " [ 1.28587914e-07  2.10000000e+09 -1.28587914e-07 -2.10000000e+09]\n",
      " [-7.87373886e-24 -1.28587914e-07  7.87373886e-24  1.28587914e-07]\n",
      " [-1.28587914e-07 -2.10000000e+09  1.28587914e-07  2.10000000e+09]]\n",
      "[[ 7.4246212e+08  7.4246212e+08 -7.4246212e+08 -7.4246212e+08]\n",
      " [ 7.4246212e+08  7.4246212e+08 -7.4246212e+08 -7.4246212e+08]\n",
      " [-7.4246212e+08 -7.4246212e+08  7.4246212e+08  7.4246212e+08]\n",
      " [-7.4246212e+08 -7.4246212e+08  7.4246212e+08  7.4246212e+08]]\n"
     ]
    }
   ],
   "source": [
    "#generating stiffness matrix for all elements\n",
    "\n",
    "print(ele1.stiff())\n",
    "print(ele2.stiff())\n",
    "print(ele3.stiff())\n"
   ]
  },
  {
   "cell_type": "code",
   "execution_count": 85,
   "metadata": {},
   "outputs": [],
   "source": [
    "#list of nodes and elements\n",
    "nodes = [node1 , node2 , node3]\n",
    "eles = [ele1 , ele2 ,ele3]\n"
   ]
  },
  {
   "cell_type": "code",
   "execution_count": 86,
   "metadata": {},
   "outputs": [],
   "source": [
    "#generate global stiffness matrix \n",
    "\n",
    "def globalstiff(eles , num_nodes):\n",
    "    #dimension of global matrix\n",
    "    dim = 2 * num_nodes\n",
    "    #generate and store the element-wise stiffness matrices\n",
    "    SMs = [e.stiff() for e in eles]\n",
    "    \n",
    "    GK = np.zeros((dim,dim))\n",
    "    for i in range(1,dim+1):\n",
    "        for j in range(1,dim + 1):\n",
    "            for k in range(0 , num_nodes):\n",
    "                e = eles[k]\n",
    "                if e.node_a == math.ceil(i/2):\n",
    "                    if e.node_a == math.ceil(j/2):\n",
    "                        GK[i-1][j-1] += SMs[k][(i+1)%2][(j+1)%2]\n",
    "                    if e.node_b == math.ceil(j/2):\n",
    "                        GK[i-1][j-1] += SMs[k][i%2][2+(j+1)%2]\n",
    "                if e.node_b == math.ceil(i/2):\n",
    "                    if e.node_a == math.ceil(j/2):\n",
    "                        GK[i-1][j-1] += SMs[k][2+(i+1)%2][j%2]\n",
    "                    if e.node_b == math.ceil(j/2):\n",
    "                        GK[i-1][j-1] += SMs[k][2+(i+1)%2][2+(j+1)%2]\n",
    "    return GK\n",
    "            \n",
    "    "
   ]
  },
  {
   "cell_type": "code",
   "execution_count": 87,
   "metadata": {},
   "outputs": [
    {
     "data": {
      "text/plain": [
       "array([[ 2.84246212e+09,  7.42462120e+08,  0.00000000e+00,\n",
       "         0.00000000e+00, -7.42462120e+08, -7.42462120e+08],\n",
       "       [ 7.42462120e+08,  7.42462120e+08, -2.10000000e+09,\n",
       "         0.00000000e+00, -7.42462120e+08, -7.42462120e+08],\n",
       "       [ 0.00000000e+00, -2.10000000e+09,  2.10000000e+09,\n",
       "         1.28587914e-07, -1.28587914e-07, -2.10000000e+09],\n",
       "       [ 0.00000000e+00,  0.00000000e+00,  1.28587914e-07,\n",
       "         2.10000000e+09, -7.87373886e-24, -1.28587914e-07],\n",
       "       [-7.42462120e+08, -7.42462120e+08, -1.28587914e-07,\n",
       "        -7.87373886e-24,  7.42462120e+08,  7.42462120e+08],\n",
       "       [-7.42462120e+08, -7.42462120e+08, -2.10000000e+09,\n",
       "        -1.28587914e-07,  7.42462120e+08,  2.84246212e+09]])"
      ]
     },
     "execution_count": 87,
     "metadata": {},
     "output_type": "execute_result"
    }
   ],
   "source": [
    "GK = globalstiff(eles , 3)\n",
    "GK"
   ]
  },
  {
   "cell_type": "code",
   "execution_count": 88,
   "metadata": {},
   "outputs": [
    {
     "name": "stdout",
     "output_type": "stream",
     "text": [
      "[ 0.  0.  0.  0. nan nan]\n",
      "[     nan      nan      nan      nan  100000. -200000.]\n"
     ]
    }
   ],
   "source": [
    "#create vector for node_dis and external_forces \n",
    "\n",
    "dis_list = []\n",
    "for n in nodes:\n",
    "    dis_list.append(n.dis_x)\n",
    "    dis_list.append(n.dis_y)\n",
    "    \n",
    "dis = np.array(dis_list)\n",
    "print(dis)\n",
    "\n",
    "f_list = []\n",
    "for n in nodes:\n",
    "    f_list.append(n.f_x)\n",
    "    f_list.append(n.f_y)\n",
    "    \n",
    "f = np.array(f_list)\n",
    "print(f)\n"
   ]
  },
  {
   "cell_type": "code",
   "execution_count": 89,
   "metadata": {},
   "outputs": [
    {
     "name": "stdout",
     "output_type": "stream",
     "text": [
      "[[7.42462120e+08 7.42462120e+08]\n",
      " [7.42462120e+08 2.84246212e+09]]\n",
      "[ 100000. -200000.]\n",
      "[4, 5]\n"
     ]
    }
   ],
   "source": [
    "#check for undetermined values in dis and create linear eqns\n",
    "\n",
    "GK_dis =  copy.deepcopy(GK)\n",
    "f_dis =  copy.deepcopy(f)\n",
    "\n",
    "del_row = []\n",
    "index_list = list(range(0,2*len(nodes)))\n",
    "for i in range(0,2*len(nodes)):\n",
    "    if dis_list[i] == 0:\n",
    "        del_row.append(i)\n",
    "        index_list.remove(i)\n",
    "GK_dis = np.delete(GK_dis,del_row,0)\n",
    "GK_dis = np.delete(GK_dis,del_row,1)\n",
    "f_dis = np.delete(f_dis,del_row,0)\n",
    "    \n",
    "print(GK_dis)\n",
    "print(f_dis)\n",
    "print(index_list)\n",
    "        \n",
    "    \n",
    "        "
   ]
  },
  {
   "cell_type": "code",
   "execution_count": 96,
   "metadata": {},
   "outputs": [
    {
     "name": "stdout",
     "output_type": "stream",
     "text": [
      "[[7.42462120e+08 7.42462120e+08]\n",
      " [7.42462120e+08 2.84246212e+09]]\n",
      "[ 100000. -200000.]\n"
     ]
    }
   ],
   "source": [
    "#check for undetermined values in force and create linear eqns\n",
    "\n",
    "GK_dis =  copy.deepcopy(GK)\n",
    "f_dis =  copy.deepcopy(f)\n",
    "\n",
    "del_row = []\n",
    "index_list = list(range(0,2*len(nodes)))\n",
    "for i in range(0,2*len(nodes)):\n",
    "    if dis_list[i] == 0:\n",
    "        del_row.append(i)\n",
    "        index_list.remove(i)\n",
    "GK_dis = np.delete(GK_dis,del_row,0)\n",
    "GK_dis = np.delete(GK_dis,del_row,1)\n",
    "f_dis = np.delete(f_dis,del_row,0)\n",
    "    \n",
    "print(GK_dis)\n",
    "print(f_dis)"
   ]
  },
  {
   "cell_type": "code",
   "execution_count": 97,
   "metadata": {},
   "outputs": [
    {
     "data": {
      "text/plain": [
       "array([ 0.00027754, -0.00014286])"
      ]
     },
     "execution_count": 97,
     "metadata": {},
     "output_type": "execute_result"
    }
   ],
   "source": [
    "ans_dis = np.linalg.solve(GK_dis , f_dis)\n",
    "ans_dis"
   ]
  },
  {
   "cell_type": "code",
   "execution_count": 98,
   "metadata": {},
   "outputs": [
    {
     "data": {
      "text/plain": [
       "array([ 0.        ,  0.        ,  0.        ,  0.        ,  0.00027754,\n",
       "       -0.00014286])"
      ]
     },
     "execution_count": 98,
     "metadata": {},
     "output_type": "execute_result"
    }
   ],
   "source": [
    "for i in range(0 , len(ans_dis)):\n",
    "    dis[index_list[i]] = ans_dis[i]\n",
    "dis"
   ]
  },
  {
   "cell_type": "code",
   "execution_count": 99,
   "metadata": {},
   "outputs": [
    {
     "data": {
      "text/plain": [
       "array([-1.0000000e+05, -1.0000000e+05,  3.0000000e+05,  1.8369702e-11,\n",
       "        1.0000000e+05, -2.0000000e+05])"
      ]
     },
     "execution_count": 99,
     "metadata": {},
     "output_type": "execute_result"
    }
   ],
   "source": [
    "ans_force = np.dot(GK,dis)\n",
    "ans_force"
   ]
  }
 ],
 "metadata": {
  "kernelspec": {
   "display_name": "Python 3",
   "language": "python",
   "name": "python3"
  },
  "language_info": {
   "codemirror_mode": {
    "name": "ipython",
    "version": 3
   },
   "file_extension": ".py",
   "mimetype": "text/x-python",
   "name": "python",
   "nbconvert_exporter": "python",
   "pygments_lexer": "ipython3",
   "version": "3.8.10"
  }
 },
 "nbformat": 4,
 "nbformat_minor": 4
}
