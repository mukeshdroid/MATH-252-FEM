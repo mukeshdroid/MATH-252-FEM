{
 "cells": [
  {
   "cell_type": "markdown",
   "metadata": {},
   "source": [
    "Implementating fem for truss using class"
   ]
  },
  {
   "cell_type": "code",
   "execution_count": 9,
   "metadata": {},
   "outputs": [],
   "source": [
    "import math\n",
    "import numpy as np"
   ]
  },
  {
   "cell_type": "code",
   "execution_count": 10,
   "metadata": {},
   "outputs": [],
   "source": [
    "#import classes for nodes and elements\n",
    "from node import node\n",
    "from ele import ele"
   ]
  },
  {
   "cell_type": "code",
   "execution_count": 11,
   "metadata": {},
   "outputs": [],
   "source": [
    "#define nodes\n",
    "node1 = node(1,0,0,np.nan,np.nan,np.nan,np.nan)\n",
    "node2 = node(2,2,0,np.nan,np.nan,np.nan,np.nan)\n",
    "node3 = node(3,2,2,np.nan,np.nan,100000,-200000)"
   ]
  },
  {
   "cell_type": "code",
   "execution_count": 12,
   "metadata": {},
   "outputs": [
    {
     "name": "stdout",
     "output_type": "stream",
     "text": [
      "num =  1 \n",
      " pos_x = 0 \n",
      " pos_y =  0 \n",
      " dis_x =  nan \n",
      " dis_y =  nan \n",
      " f_x =  nan \n",
      " f_y =  nan\n",
      "num =  2 \n",
      " pos_x = 2 \n",
      " pos_y =  0 \n",
      " dis_x =  nan \n",
      " dis_y =  nan \n",
      " f_x =  nan \n",
      " f_y =  nan\n",
      "num =  3 \n",
      " pos_x = 2 \n",
      " pos_y =  2 \n",
      " dis_x =  nan \n",
      " dis_y =  nan \n",
      " f_x =  100000 \n",
      " f_y =  -200000\n"
     ]
    },
    {
     "data": {
      "text/plain": [
       "0"
      ]
     },
     "execution_count": 12,
     "metadata": {},
     "output_type": "execute_result"
    }
   ],
   "source": [
    "node1.print()\n",
    "node2.print()\n",
    "node3.print()"
   ]
  },
  {
   "cell_type": "code",
   "execution_count": 13,
   "metadata": {},
   "outputs": [],
   "source": [
    "#define elements\n",
    "\n",
    "ele1 = ele(1,1,0.01, 210 * 10**9 , 0 , 1 , 2)\n",
    "ele2 = ele(2,1,0.01, 210 * 10**9 , math.pi / 2 , 2 , 3)\n",
    "ele3 = ele(3,1*math.sqrt(2),0.01, 210 * 10**9 , math.pi / 4 , 1 , 3)\n"
   ]
  },
  {
   "cell_type": "code",
   "execution_count": 14,
   "metadata": {},
   "outputs": [
    {
     "name": "stdout",
     "output_type": "stream",
     "text": [
      "num =  1 \n",
      " length= 1 \n",
      " area =  0.01 \n",
      " youngs modulus =  1000000000 \n",
      " theta =  0 \n",
      " node_a =  1 \n",
      " node_b =  2\n",
      "num =  2 \n",
      " length= 1 \n",
      " area =  0.01 \n",
      " youngs modulus =  1000000000 \n",
      " theta =  1.5707963267948966 \n",
      " node_a =  2 \n",
      " node_b =  3\n",
      "num =  3 \n",
      " length= 1.4142135623730951 \n",
      " area =  0.01 \n",
      " youngs modulus =  1000000000 \n",
      " theta =  0.7853981633974483 \n",
      " node_a =  1 \n",
      " node_b =  3\n"
     ]
    },
    {
     "data": {
      "text/plain": [
       "0"
      ]
     },
     "execution_count": 14,
     "metadata": {},
     "output_type": "execute_result"
    }
   ],
   "source": [
    "ele1.print()\n",
    "ele2.print()\n",
    "ele3.print()"
   ]
  },
  {
   "cell_type": "code",
   "execution_count": 15,
   "metadata": {},
   "outputs": [
    {
     "name": "stdout",
     "output_type": "stream",
     "text": [
      "[[ 10000000.         0. -10000000.        -0.]\n",
      " [        0.         0.        -0.        -0.]\n",
      " [-10000000.        -0.  10000000.         0.]\n",
      " [       -0.        -0.         0.         0.]]\n",
      "[[ 3.74939946e-26  6.12323400e-10 -3.74939946e-26 -6.12323400e-10]\n",
      " [ 6.12323400e-10  1.00000000e+07 -6.12323400e-10 -1.00000000e+07]\n",
      " [-3.74939946e-26 -6.12323400e-10  3.74939946e-26  6.12323400e-10]\n",
      " [-6.12323400e-10 -1.00000000e+07  6.12323400e-10  1.00000000e+07]]\n",
      "[[ 3535533.90593274  3535533.90593274 -3535533.90593274 -3535533.90593274]\n",
      " [ 3535533.90593274  3535533.90593274 -3535533.90593274 -3535533.90593274]\n",
      " [-3535533.90593274 -3535533.90593274  3535533.90593274  3535533.90593274]\n",
      " [-3535533.90593274 -3535533.90593274  3535533.90593274  3535533.90593274]]\n"
     ]
    }
   ],
   "source": [
    "#generating stiffness matrix for all elements\n",
    "\n",
    "print(ele1.stiff())\n",
    "print(ele2.stiff())\n",
    "print(ele3.stiff())\n"
   ]
  },
  {
   "cell_type": "code",
   "execution_count": 16,
   "metadata": {},
   "outputs": [
    {
     "ename": "NameError",
     "evalue": "name 'E' is not defined",
     "output_type": "error",
     "traceback": [
      "\u001b[0;31m-------------------------------------------------------------------\u001b[0m",
      "\u001b[0;31mNameError\u001b[0m                         Traceback (most recent call last)",
      "\u001b[0;32m<ipython-input-16-5ce7d5d8a8f7>\u001b[0m in \u001b[0;36m<module>\u001b[0;34m()\u001b[0m\n\u001b[1;32m      1\u001b[0m \u001b[0;31m#generating elemnt wise stiffness matrix\u001b[0m\u001b[0;34m\u001b[0m\u001b[0;34m\u001b[0m\u001b[0;34m\u001b[0m\u001b[0m\n\u001b[1;32m      2\u001b[0m \u001b[0;34m\u001b[0m\u001b[0m\n\u001b[0;32m----> 3\u001b[0;31m \u001b[0mK1\u001b[0m \u001b[0;34m=\u001b[0m \u001b[0;34m(\u001b[0m\u001b[0;34m(\u001b[0m\u001b[0mE\u001b[0m \u001b[0;34m*\u001b[0m \u001b[0mA1\u001b[0m\u001b[0;34m)\u001b[0m \u001b[0;34m/\u001b[0m \u001b[0mL1\u001b[0m\u001b[0;34m)\u001b[0m \u001b[0;34m*\u001b[0m \u001b[0mstiff\u001b[0m\u001b[0;34m(\u001b[0m\u001b[0mT1\u001b[0m\u001b[0;34m)\u001b[0m\u001b[0;34m\u001b[0m\u001b[0;34m\u001b[0m\u001b[0m\n\u001b[0m\u001b[1;32m      4\u001b[0m \u001b[0mK2\u001b[0m \u001b[0;34m=\u001b[0m \u001b[0;34m(\u001b[0m\u001b[0;34m(\u001b[0m\u001b[0mE\u001b[0m \u001b[0;34m*\u001b[0m \u001b[0mA2\u001b[0m\u001b[0;34m)\u001b[0m \u001b[0;34m/\u001b[0m \u001b[0mL2\u001b[0m\u001b[0;34m)\u001b[0m \u001b[0;34m*\u001b[0m \u001b[0mstiff\u001b[0m\u001b[0;34m(\u001b[0m\u001b[0mT2\u001b[0m\u001b[0;34m)\u001b[0m\u001b[0;34m\u001b[0m\u001b[0;34m\u001b[0m\u001b[0m\n\u001b[1;32m      5\u001b[0m \u001b[0mK3\u001b[0m \u001b[0;34m=\u001b[0m \u001b[0;34m(\u001b[0m\u001b[0;34m(\u001b[0m\u001b[0mE\u001b[0m \u001b[0;34m*\u001b[0m \u001b[0mA3\u001b[0m\u001b[0;34m)\u001b[0m \u001b[0;34m/\u001b[0m \u001b[0mL3\u001b[0m\u001b[0;34m)\u001b[0m \u001b[0;34m*\u001b[0m \u001b[0mstiff\u001b[0m\u001b[0;34m(\u001b[0m\u001b[0mT3\u001b[0m\u001b[0;34m)\u001b[0m\u001b[0;34m\u001b[0m\u001b[0;34m\u001b[0m\u001b[0m\n",
      "\u001b[0;31mNameError\u001b[0m: name 'E' is not defined"
     ]
    }
   ],
   "source": [
    "#generating elemnt wise stiffness matrix\n",
    "\n",
    "K1 = ((E * A1) / L1) * stiff(T1)\n",
    "K2 = ((E * A2) / L2) * stiff(T2)\n",
    "K3 = ((E * A3) / L3) * stiff(T3)"
   ]
  },
  {
   "cell_type": "code",
   "execution_count": null,
   "metadata": {
    "scrolled": true
   },
   "outputs": [],
   "source": [
    "K1"
   ]
  },
  {
   "cell_type": "code",
   "execution_count": null,
   "metadata": {},
   "outputs": [],
   "source": [
    "K2"
   ]
  },
  {
   "cell_type": "code",
   "execution_count": null,
   "metadata": {},
   "outputs": [],
   "source": [
    "K3"
   ]
  },
  {
   "cell_type": "code",
   "execution_count": null,
   "metadata": {},
   "outputs": [],
   "source": [
    "#generating Global matrix\n",
    "\n",
    "##how to do this in general?\n",
    "\n",
    "GK = np.array([[K1[1][1]]])"
   ]
  },
  {
   "cell_type": "code",
   "execution_count": null,
   "metadata": {},
   "outputs": [],
   "source": [
    "#create dispalcement and force vectors\n",
    "\n",
    "dis = np.zeros(6)\n",
    "force = np.zeros(6)"
   ]
  },
  {
   "cell_type": "code",
   "execution_count": null,
   "metadata": {},
   "outputs": [],
   "source": [
    "#boundary conditions\n",
    "\n",
    "force[4] = P\n",
    "force[5] = -2*P\n"
   ]
  },
  {
   "cell_type": "code",
   "execution_count": null,
   "metadata": {},
   "outputs": [],
   "source": [
    "dis"
   ]
  },
  {
   "cell_type": "code",
   "execution_count": null,
   "metadata": {},
   "outputs": [],
   "source": [
    "force"
   ]
  },
  {
   "cell_type": "code",
   "execution_count": null,
   "metadata": {},
   "outputs": [],
   "source": [
    "GK"
   ]
  },
  {
   "cell_type": "code",
   "execution_count": null,
   "metadata": {},
   "outputs": [],
   "source": []
  },
  {
   "cell_type": "code",
   "execution_count": null,
   "metadata": {},
   "outputs": [],
   "source": []
  }
 ],
 "metadata": {
  "kernelspec": {
   "display_name": "Python 3",
   "language": "python",
   "name": "python3"
  },
  "language_info": {
   "codemirror_mode": {
    "name": "ipython",
    "version": 3
   },
   "file_extension": ".py",
   "mimetype": "text/x-python",
   "name": "python",
   "nbconvert_exporter": "python",
   "pygments_lexer": "ipython3",
   "version": "3.6.9"
  }
 },
 "nbformat": 4,
 "nbformat_minor": 4
}
