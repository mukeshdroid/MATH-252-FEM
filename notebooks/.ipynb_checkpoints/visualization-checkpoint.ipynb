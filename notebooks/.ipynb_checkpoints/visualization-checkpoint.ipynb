{
 "cells": [
  {
   "cell_type": "code",
   "execution_count": 19,
   "metadata": {},
   "outputs": [],
   "source": [
    "import ele\n",
    "import node\n",
    "import turtle"
   ]
  },
  {
   "cell_type": "code",
   "execution_count": 20,
   "metadata": {},
   "outputs": [],
   "source": [
    "node1 = node.nodep(1,0,0)\n",
    "node2 = node.nodep(2,2,0)\n",
    "node3 = node.nodep(3,4,0)\n",
    "node4 = node.nodep(4,6,0)\n",
    "node5 = node.nodep(5,8,0)\n",
    "node6 = node.nodep(6,8,2.9118)\n",
    "node7 = node.nodep(7,6,2.1842)\n",
    "node8 = node.nodep(8,4,1.4561)\n",
    "node9 = node.nodep(9,2,0.7280)\n",
    "\n",
    "nodes = [node1,node2,node3,node4,node5,node6,node7,node8,node9,node1]\n",
    "\n",
    "ele1  = ele.elep(1, node1, node2)\n",
    "ele2  = ele.elep(2, node2, node3)\n",
    "ele3  = ele.elep(3, node3, node4)\n",
    "ele4  = ele.elep(4, node4, node5)\n",
    "ele5  = ele.elep(5, node5, node6)\n",
    "ele6  = ele.elep(6, node6, node7)\n",
    "ele7  = ele.elep(7, node7, node8)\n",
    "ele8  = ele.elep(8, node8, node9)\n",
    "ele9  = ele.elep(9, node9, node1)\n",
    "ele10 = ele.elep(10, node2, node9)\n",
    "ele11 = ele.elep(11, node2, node8)\n",
    "ele12 = ele.elep(12, node3, node8)\n",
    "ele13 = ele.elep(13, node4, node8)\n",
    "ele14 = ele.elep(14, node4, node7)\n",
    "ele15 = ele.elep(15, node4, node6)\n",
    "\n",
    "eles = [ele1, ele2, ele3, ele4, ele5, ele6, ele7, ele8, ele9, ele10, ele11, ele12, ele13, ele14, ele15]"
   ]
  },
  {
   "cell_type": "code",
   "execution_count": 25,
   "metadata": {},
   "outputs": [],
   "source": [
    "s = turtle.getscreen()\n",
    "turtle.Screen().setup(1300,700)\n",
    "t = turtle.Turtle()\n",
    "t.hideturtle()\n",
    "\n",
    "for ele in eles:\n",
    "    t.goto(ele.node_a.pos_x*70, ele.node_a.pos_y*70)\n",
    "    t.dot()\n",
    "    t.goto(ele.node_b.pos_x*70, ele.node_b.pos_y*70)"
   ]
  },
  {
   "cell_type": "code",
   "execution_count": 26,
   "metadata": {},
   "outputs": [],
   "source": [
    "turtle.bye()"
   ]
  },
  {
   "cell_type": "code",
   "execution_count": null,
   "metadata": {},
   "outputs": [],
   "source": []
  }
 ],
 "metadata": {
  "kernelspec": {
   "display_name": "Python 3 (ipykernel)",
   "language": "python",
   "name": "python3"
  },
  "language_info": {
   "codemirror_mode": {
    "name": "ipython",
    "version": 3
   },
   "file_extension": ".py",
   "mimetype": "text/x-python",
   "name": "python",
   "nbconvert_exporter": "python",
   "pygments_lexer": "ipython3",
   "version": "3.9.5"
  }
 },
 "nbformat": 4,
 "nbformat_minor": 2
}
