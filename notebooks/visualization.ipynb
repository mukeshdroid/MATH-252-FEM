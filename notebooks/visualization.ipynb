{
 "cells": [
  {
   "cell_type": "code",
   "execution_count": 48,
   "metadata": {},
   "outputs": [],
   "source": [
    "#import user defined classes\n",
    "#class defn change gara as per need files are in this folder nai\n",
    "import ele\n",
    "import node\n",
    "import turtle"
   ]
  },
  {
   "cell_type": "code",
   "execution_count": 51,
   "metadata": {},
   "outputs": [],
   "source": [
    "#define node and aaile lai define tyesko displacement aafai\n",
    "#i.e, assume solution xa and we know all parameters\n",
    "#num, length , area , ym , theta, node_a , node_b\n",
    "#num, pos_x , pos_y , dis_x , dis_y, f_x , f_y\n",
    "node1 = node.node(1,0,0,0,0,0,0)\n",
    "node2 = node.node(2,2,0,0,0,0,0)\n",
    "node3 = node.node(3,4,0,0,0,0,0)\n",
    "node4 = node.node(4,6,0,0,0,0,0)\n",
    "node5 = node.node(5,8,0,0,0,0,0)\n",
    "node6 = node.node(6,8,2.9118,0,0,0,0)\n",
    "node7 = node.node(7,6,2.1842,0,0,0,0)\n",
    "node8 = node.node(8,4,1.4561,0,0,0,0)\n",
    "node9 = node.node(9,2,0.7280,0,0,0,0)\n",
    "\n",
    "nodes = [node1,node2,node3,node4,node5,node6,node7,node8,node9,node1]\n",
    "\n",
    "ele1 = ele.ele(1,0,0,0,0, node1,node2)\n",
    "ele2 = ele.ele(2,0,0,0,0, node2,node3)\n",
    "ele3 = ele.ele(3,0,0,0,0, node3,node4)\n",
    "ele4 = ele.ele(4,0,0,0,0, node4,node5)\n",
    "ele5 = ele.ele(5,0,0,0,0, node5,node6)\n",
    "ele6 = ele.ele(6,0,0,0,0, node6,node7)\n",
    "ele7 = ele.ele(7,0,0,0,0, node7,node8)\n",
    "ele8 = ele.ele(8,0,0,0,0, node8,node9)\n",
    "ele9 = ele.ele(9,0,0,0,0, node9,node1)\n",
    "ele10 = ele.ele(10,0,0,0,0,node2,node9)\n",
    "ele11 = ele.ele(11,0,0,0,0,node2,node8)\n",
    "ele12 = ele.ele(12,0,0,0,0,node3,node8)\n",
    "ele13 = ele.ele(13,0,0,0,0,node4,node8)\n",
    "ele14 = ele.ele(14,0,0,0,0,node4,node7)\n",
    "ele15 = ele.ele(15,0,0,0,0,node4,node6)\n",
    "\n",
    "eles = [ele1, ele2, ele3, ele4, ele5, ele6, ele7, ele8, ele9, ele10, ele11, ele12, ele13, ele14, ele15]"
   ]
  },
  {
   "cell_type": "code",
   "execution_count": 53,
   "metadata": {},
   "outputs": [],
   "source": [
    "s = turtle.getscreen()\n",
    "turtle.Screen().setup(1300,700)\n",
    "t = turtle.Turtle()\n",
    "t.hideturtle()\n",
    "\n",
    "for node in nodes:\n",
    "    t.goto(node.pos_x*70,node.pos_y*70)\n",
    "    t.dot()\n",
    "\n",
    "for ele in eles:\n",
    "    t.goto(ele.node_a.pos_x*70, ele.node_a.pos_y*70)\n",
    "    t.goto(ele.node_b.pos_x*70, ele.node_b.pos_y*70)"
   ]
  },
  {
   "cell_type": "code",
   "execution_count": 54,
   "metadata": {},
   "outputs": [],
   "source": [
    "turtle.bye()"
   ]
  },
  {
   "cell_type": "code",
   "execution_count": null,
   "metadata": {},
   "outputs": [],
   "source": []
  }
 ],
 "metadata": {
  "kernelspec": {
   "display_name": "Python 3 (ipykernel)",
   "language": "python",
   "name": "python3"
  },
  "language_info": {
   "codemirror_mode": {
    "name": "ipython",
    "version": 3
   },
   "file_extension": ".py",
   "mimetype": "text/x-python",
   "name": "python",
   "nbconvert_exporter": "python",
   "pygments_lexer": "ipython3",
   "version": "3.9.5"
  }
 },
 "nbformat": 4,
 "nbformat_minor": 2
}
