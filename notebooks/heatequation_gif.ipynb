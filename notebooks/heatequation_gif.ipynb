{
 "cells": [
  {
   "cell_type": "code",
   "execution_count": 44,
   "metadata": {},
   "outputs": [],
   "source": [
    "import math\n",
    "import numpy as np\n",
    "from matplotlib import pyplot as plt\n",
    "import imageio\n",
    "import os\n"
   ]
  },
  {
   "cell_type": "code",
   "execution_count": 45,
   "metadata": {},
   "outputs": [],
   "source": [
    "#constants\n",
    "\n",
    "T1 = 40 #deg\n",
    "T2 = 20 #deg\n",
    "T = 0   #deg\n",
    "L = 0.1 #m\n",
    "tm = 60  #sec\n",
    "n = 10\n",
    "dx = L/n\n",
    "dt = 0.1\n",
    "alpha = 0.0001\n",
    "\n"
   ]
  },
  {
   "cell_type": "code",
   "execution_count": 46,
   "metadata": {},
   "outputs": [],
   "source": [
    "x = np.linspace(dx/2,L-dx/2,n)\n"
   ]
  },
  {
   "cell_type": "code",
   "execution_count": 47,
   "metadata": {},
   "outputs": [],
   "source": [
    "T = np.ones(n)*T\n",
    "dTdt = np.empty(n)\n",
    "\n"
   ]
  },
  {
   "cell_type": "code",
   "execution_count": 42,
   "metadata": {},
   "outputs": [],
   "source": [
    "t = np.arange(0,tm,dt)"
   ]
  },
  {
   "cell_type": "code",
   "execution_count": 48,
   "metadata": {},
   "outputs": [],
   "source": [
    "y = np.random.randint(30, 40, size=(40))\n",
    "filenames = []\n",
    "for j in range(1,len(t)):\n",
    "    for i in range(1,n-1):\n",
    "        dTdt[i] = alpha * (-(T[i]-T[i-1])/dx**2 + (T[i+1]-T[i])/dx**2)\n",
    "    dTdt[0] = alpha * (-(T[0]-T1)/dx**2 + (T[1]-T[0])/dx**2) \n",
    "    dTdt[n-1] = alpha * (-(T[n-1]-T[n-2]/dx**2 + (T2-T[n-1])/dx**2))\n",
    "    T = T + dTdt*dt\n",
    "    #plotting temperature change in every 0.1 sec\n",
    "    plt.plot(x,T)\n",
    "    plt.axis([0, L, 0, 50])\n",
    "    plt.xlabel('Distance - m')\n",
    "    plt.ylabel('Temperature - deg(c)')\n",
    "    \n",
    "    # create file name and append it to a list\n",
    "    filename = f'{j}.png'\n",
    "    filenames.append(filename)\n",
    "    \n",
    "    # save frame\n",
    "    plt.savefig(filename)\n",
    "    plt.close()# build gif\n",
    "with imageio.get_writer('mygif.gif', mode='I') as writer:\n",
    "    for filename in filenames:\n",
    "        image = imageio.imread(filename)\n",
    "        writer.append_data(image)\n",
    "        \n",
    "# Remove files\n"
   ]
  },
  {
   "cell_type": "code",
   "execution_count": null,
   "metadata": {},
   "outputs": [],
   "source": []
  }
 ],
 "metadata": {
  "kernelspec": {
   "display_name": "Python 3",
   "language": "python",
   "name": "python3"
  },
  "language_info": {
   "codemirror_mode": {
    "name": "ipython",
    "version": 3
   },
   "file_extension": ".py",
   "mimetype": "text/x-python",
   "name": "python",
   "nbconvert_exporter": "python",
   "pygments_lexer": "ipython3",
   "version": "3.6.9"
  }
 },
 "nbformat": 4,
 "nbformat_minor": 4
}
